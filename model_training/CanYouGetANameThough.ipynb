{
 "cells": [
  {
   "cell_type": "markdown",
   "metadata": {},
   "source": [
    "# Imports"
   ]
  },
  {
   "cell_type": "code",
   "execution_count": 1,
   "metadata": {},
   "outputs": [],
   "source": [
    "import os\n",
    "import time\n",
    "import glob\n",
    "import pandas as pd\n",
    "import findspark\n",
    "\n",
    "findspark.init()\n",
    "import pyspark\n",
    "\n",
    "from pyspark import SparkContext as sc, SparkFiles\n",
    "from pyspark.sql import SparkSession\n",
    "from pyspark.sql.types import StructField, StringType, StructType, ArrayType\n",
    "from pyspark.ml.feature import Word2Vec\n",
    "\n",
    "import json"
   ]
  },
  {
   "cell_type": "markdown",
   "metadata": {},
   "source": [
    "# Spark Session"
   ]
  },
  {
   "cell_type": "code",
   "execution_count": 2,
   "metadata": {},
   "outputs": [],
   "source": [
    "appName = \"JsontoDataFrame\"\n",
    "master = \"local\"\n",
    "spark = SparkSession.builder.appName(appName).master(master).getOrCreate()"
   ]
  },
  {
   "cell_type": "markdown",
   "metadata": {},
   "source": [
    "# Word2Vec Configuration"
   ]
  },
  {
   "cell_type": "code",
   "execution_count": null,
   "metadata": {},
   "outputs": [],
   "source": [
    "word2vec = Word2Vec(\n",
    "    vectorSize=256,\n",
    "    minCount=10,\n",
    "    inputCol=\"text\",\n",
    "    outputCol=\"result\"\n",
    ")\n",
    "word2vec.setNumPartitions(10)"
   ]
  },
  {
   "cell_type": "markdown",
   "metadata": {},
   "source": [
    "# Functions"
   ]
  },
  {
   "cell_type": "code",
   "execution_count": 4,
   "metadata": {},
   "outputs": [],
   "source": [
    "def load_data(file_index, number):\n",
    "    file_path = f\"data/data_{file_index}.json\"\n",
    "    data_schema = [\n",
    "        StructField('title', StringType(), True),\n",
    "        StructField('text', ArrayType(StringType()), True)\n",
    "    ]\n",
    "    final_struc = StructType(fields=data_schema)\n",
    "    df = spark.read.json(file_path, final_struc)\n",
    "    while file_index <= number:\n",
    "        start_time = time.time()\n",
    "        \n",
    "        file_index += 1\n",
    "        file_path = f\"data/data_{file_index}.json\"\n",
    "        try:\n",
    "            new_df = spark.read.json(file_path, final_struc)\n",
    "            df = df.union(new_df)\n",
    "            print(f\"Row count: {df.count()}\")\n",
    "        except:\n",
    "            print(f\"{file_index} not found at {file_path}; skipping...\")\n",
    "        print(f\"Processing {file_path} took {time.time() - start_time}s\")\n",
    "        \n",
    "    print(f\"Finished\")\n",
    "    print(f\"Total rows: {df.count()}\")\n",
    "    return df\n",
    "\n",
    "def load_data_v2(data_dir):\n",
    "    data_schema = [\n",
    "        StructField('title', StringType(), True),\n",
    "        StructField('text', ArrayType(StringType()), True)\n",
    "    ]\n",
    "    final_struc = StructType(fields=data_schema)\n",
    "    \n",
    "    # Get list of files\n",
    "    files = sorted(glob.glob(os.path.join(data_dir, '*')))\n",
    "    df = spark.read.json(files, final_struc)\n",
    "    return df\n",
    "                   \n",
    "def train_model(df):\n",
    "    start = time.time()\n",
    "    print(f\"Start time: {start}\")\n",
    "    model = word2vec.fit(df)\n",
    "    print(f\"Time elapsed: {time.time() - start}\")\n",
    "    return model"
   ]
  },
  {
   "cell_type": "code",
   "execution_count": 24,
   "metadata": {},
   "outputs": [
    {
     "name": "stdout",
     "output_type": "stream",
     "text": [
      "Row count: 40000\n",
      "Processing data/data_1.json took 0.6386759281158447s\n",
      "Row count: 60000\n",
      "Processing data/data_2.json took 0.6864230632781982s\n",
      "Row count: 80000\n",
      "Processing data/data_3.json took 0.7840969562530518s\n",
      "Row count: 100000\n",
      "Processing data/data_4.json took 0.9453299045562744s\n",
      "Row count: 120000\n",
      "Processing data/data_5.json took 1.08286452293396s\n",
      "Row count: 140000\n",
      "Processing data/data_6.json took 1.2130696773529053s\n",
      "Row count: 160000\n",
      "Processing data/data_7.json took 1.4230453968048096s\n",
      "Row count: 180000\n",
      "Processing data/data_8.json took 1.3649954795837402s\n",
      "Row count: 200000\n",
      "Processing data/data_9.json took 1.5609076023101807s\n",
      "Row count: 220000\n",
      "Processing data/data_10.json took 2.0816593170166016s\n",
      "Row count: 240000\n",
      "Processing data/data_11.json took 2.134158134460449s\n",
      "Row count: 260000\n",
      "Processing data/data_12.json took 2.281038999557495s\n",
      "Row count: 280000\n",
      "Processing data/data_13.json took 2.371687412261963s\n",
      "Row count: 300000\n",
      "Processing data/data_14.json took 2.680473566055298s\n",
      "Row count: 320000\n",
      "Processing data/data_15.json took 3.0772340297698975s\n",
      "Row count: 340000\n",
      "Processing data/data_16.json took 2.75195574760437s\n",
      "Row count: 360000\n",
      "Processing data/data_17.json took 2.900533676147461s\n",
      "Row count: 380000\n",
      "Processing data/data_18.json took 2.5468924045562744s\n",
      "Row count: 400000\n",
      "Processing data/data_19.json took 2.7062206268310547s\n",
      "Row count: 420000\n",
      "Processing data/data_20.json took 2.9092442989349365s\n",
      "Row count: 440000\n",
      "Processing data/data_21.json took 2.886101245880127s\n",
      "Row count: 460000\n",
      "Processing data/data_22.json took 3.0541508197784424s\n",
      "Row count: 480000\n",
      "Processing data/data_23.json took 3.551389455795288s\n",
      "Row count: 500000\n",
      "Processing data/data_24.json took 3.538756847381592s\n",
      "Row count: 520000\n",
      "Processing data/data_25.json took 3.0793654918670654s\n",
      "Row count: 540000\n",
      "Processing data/data_26.json took 3.526648759841919s\n",
      "Row count: 560000\n",
      "Processing data/data_27.json took 3.4878323078155518s\n",
      "Row count: 580000\n",
      "Processing data/data_28.json took 3.309260129928589s\n",
      "Row count: 600000\n",
      "Processing data/data_29.json took 3.6024746894836426s\n",
      "Row count: 620000\n",
      "Processing data/data_30.json took 3.3884785175323486s\n",
      "Row count: 640000\n",
      "Processing data/data_31.json took 3.589341878890991s\n",
      "Row count: 660000\n",
      "Processing data/data_32.json took 3.457327127456665s\n",
      "Row count: 680000\n",
      "Processing data/data_33.json took 3.8554675579071045s\n",
      "Row count: 700000\n",
      "Processing data/data_34.json took 4.782016038894653s\n",
      "Row count: 720000\n",
      "Processing data/data_35.json took 4.249980926513672s\n",
      "Row count: 740000\n",
      "Processing data/data_36.json took 4.486667156219482s\n",
      "Row count: 760000\n",
      "Processing data/data_37.json took 3.773012161254883s\n",
      "Row count: 780000\n",
      "Processing data/data_38.json took 3.8656017780303955s\n",
      "Row count: 800000\n",
      "Processing data/data_39.json took 5.016651391983032s\n",
      "Row count: 820000\n",
      "Processing data/data_40.json took 5.641348838806152s\n",
      "Row count: 840000\n",
      "Processing data/data_41.json took 5.026499271392822s\n",
      "Row count: 860000\n",
      "Processing data/data_42.json took 5.320707082748413s\n",
      "Row count: 880000\n",
      "Processing data/data_43.json took 5.234624624252319s\n",
      "Row count: 900000\n",
      "Processing data/data_44.json took 5.028020620346069s\n",
      "Row count: 920000\n",
      "Processing data/data_45.json took 4.881662130355835s\n",
      "Row count: 940000\n",
      "Processing data/data_46.json took 5.101085424423218s\n",
      "Row count: 960000\n",
      "Processing data/data_47.json took 5.4136388301849365s\n",
      "Row count: 980000\n",
      "Processing data/data_48.json took 5.178168535232544s\n",
      "Row count: 1000000\n",
      "Processing data/data_49.json took 5.7244179248809814s\n",
      "Row count: 1020000\n",
      "Processing data/data_50.json took 5.500970840454102s\n",
      "Row count: 1040000\n",
      "Processing data/data_51.json took 6.380183219909668s\n",
      "Row count: 1060000\n",
      "Processing data/data_52.json took 6.6752705574035645s\n",
      "Row count: 1080000\n",
      "Processing data/data_53.json took 7.1914284229278564s\n",
      "Row count: 1100000\n",
      "Processing data/data_54.json took 7.258915424346924s\n",
      "Row count: 1120000\n",
      "Processing data/data_55.json took 7.22681188583374s\n",
      "Row count: 1140000\n",
      "Processing data/data_56.json took 7.0820629596710205s\n",
      "Row count: 1160000\n",
      "Processing data/data_57.json took 6.738943338394165s\n",
      "Row count: 1180000\n",
      "Processing data/data_58.json took 7.055881500244141s\n",
      "Row count: 1200000\n",
      "Processing data/data_59.json took 7.1969709396362305s\n",
      "Row count: 1220000\n",
      "Processing data/data_60.json took 6.9483256340026855s\n",
      "Row count: 1240000\n",
      "Processing data/data_61.json took 6.806409120559692s\n",
      "Row count: 1260000\n",
      "Processing data/data_62.json took 7.338488340377808s\n",
      "Row count: 1280000\n",
      "Processing data/data_63.json took 7.386004686355591s\n",
      "Row count: 1300000\n",
      "Processing data/data_64.json took 7.923129558563232s\n",
      "Row count: 1320000\n",
      "Processing data/data_65.json took 8.422617673873901s\n",
      "Row count: 1340000\n",
      "Processing data/data_66.json took 7.59056544303894s\n",
      "Row count: 1360000\n",
      "Processing data/data_67.json took 8.267262935638428s\n",
      "Row count: 1380000\n",
      "Processing data/data_68.json took 7.379093647003174s\n",
      "Row count: 1400000\n",
      "Processing data/data_69.json took 8.177449226379395s\n",
      "Row count: 1420000\n",
      "Processing data/data_70.json took 8.864391088485718s\n",
      "Row count: 1440000\n",
      "Processing data/data_71.json took 8.726224422454834s\n",
      "Row count: 1460000\n",
      "Processing data/data_72.json took 8.74707841873169s\n",
      "Row count: 1480000\n",
      "Processing data/data_73.json took 9.031073093414307s\n",
      "Row count: 1500000\n",
      "Processing data/data_74.json took 9.18271517753601s\n",
      "Row count: 1520000\n",
      "Processing data/data_75.json took 8.963735580444336s\n",
      "Row count: 1540000\n",
      "Processing data/data_76.json took 9.054759979248047s\n",
      "Row count: 1560000\n",
      "Processing data/data_77.json took 9.35099744796753s\n",
      "Row count: 1580000\n",
      "Processing data/data_78.json took 9.255192518234253s\n",
      "Row count: 1600000\n",
      "Processing data/data_79.json took 9.328130960464478s\n",
      "Row count: 1620000\n",
      "Processing data/data_80.json took 9.746604681015015s\n",
      "Row count: 1640000\n",
      "Processing data/data_81.json took 10.378726959228516s\n",
      "Row count: 1660000\n",
      "Processing data/data_82.json took 10.662336111068726s\n",
      "Row count: 1680000\n",
      "Processing data/data_83.json took 10.984602451324463s\n",
      "Row count: 1700000\n",
      "Processing data/data_84.json took 11.047841548919678s\n",
      "Row count: 1720000\n",
      "Processing data/data_85.json took 11.403508424758911s\n",
      "Row count: 1740000\n",
      "Processing data/data_86.json took 10.249844074249268s\n",
      "Row count: 1760000\n",
      "Processing data/data_87.json took 9.45505952835083s\n",
      "Row count: 1780000\n",
      "Processing data/data_88.json took 11.345299482345581s\n",
      "Row count: 1800000\n",
      "Processing data/data_89.json took 10.03898024559021s\n",
      "Row count: 1820000\n",
      "Processing data/data_90.json took 13.397334337234497s\n",
      "Row count: 1840000\n",
      "Processing data/data_91.json took 11.136928081512451s\n",
      "Row count: 1860000\n",
      "Processing data/data_92.json took 10.47419810295105s\n",
      "Row count: 1880000\n",
      "Processing data/data_93.json took 10.551853895187378s\n",
      "Row count: 1900000\n",
      "Processing data/data_94.json took 10.908732652664185s\n",
      "Row count: 1920000\n",
      "Processing data/data_95.json took 10.811836004257202s\n",
      "Row count: 1940000\n",
      "Processing data/data_96.json took 11.54270625114441s\n",
      "Row count: 1960000\n",
      "Processing data/data_97.json took 11.301785230636597s\n",
      "Row count: 1980000\n",
      "Processing data/data_98.json took 11.271288394927979s\n",
      "Row count: 2000000\n",
      "Processing data/data_99.json took 11.230989933013916s\n",
      "Row count: 2020000\n",
      "Processing data/data_100.json took 12.181735038757324s\n",
      "Row count: 2040000\n",
      "Processing data/data_101.json took 12.045049905776978s\n",
      "Row count: 2060000\n",
      "Processing data/data_102.json took 12.923980236053467s\n",
      "Row count: 2080000\n",
      "Processing data/data_103.json took 13.985027074813843s\n",
      "Row count: 2100000\n",
      "Processing data/data_104.json took 13.228147268295288s\n",
      "Row count: 2120000\n",
      "Processing data/data_105.json took 13.221709966659546s\n",
      "Row count: 2140000\n",
      "Processing data/data_106.json took 12.834434509277344s\n",
      "Row count: 2160000\n",
      "Processing data/data_107.json took 13.440272808074951s\n",
      "Row count: 2180000\n",
      "Processing data/data_108.json took 13.655307531356812s\n",
      "Row count: 2200000\n",
      "Processing data/data_109.json took 13.547293901443481s\n",
      "Row count: 2220000\n",
      "Processing data/data_110.json took 13.727495670318604s\n",
      "Row count: 2240000\n",
      "Processing data/data_111.json took 15.54743218421936s\n",
      "Row count: 2260000\n",
      "Processing data/data_112.json took 13.588649272918701s\n",
      "Row count: 2280000\n",
      "Processing data/data_113.json took 13.22181749343872s\n",
      "Row count: 2300000\n",
      "Processing data/data_114.json took 13.870070695877075s\n"
     ]
    },
    {
     "name": "stdout",
     "output_type": "stream",
     "text": [
      "Row count: 2320000\n",
      "Processing data/data_115.json took 14.640623569488525s\n",
      "Row count: 2340000\n",
      "Processing data/data_116.json took 16.03971242904663s\n",
      "Row count: 2360000\n",
      "Processing data/data_117.json took 15.410370349884033s\n",
      "Row count: 2380000\n",
      "Processing data/data_118.json took 14.345799684524536s\n",
      "Row count: 2400000\n",
      "Processing data/data_119.json took 14.799275159835815s\n",
      "Row count: 2420000\n",
      "Processing data/data_120.json took 14.972877740859985s\n",
      "Row count: 2440000\n",
      "Processing data/data_121.json took 14.985008478164673s\n",
      "Row count: 2460000\n",
      "Processing data/data_122.json took 14.946365356445312s\n",
      "Row count: 2480000\n",
      "Processing data/data_123.json took 15.28468108177185s\n",
      "Row count: 2500000\n",
      "Processing data/data_124.json took 15.645419597625732s\n",
      "Row count: 2520000\n",
      "Processing data/data_125.json took 16.09997034072876s\n",
      "Row count: 2540000\n",
      "Processing data/data_126.json took 16.152238368988037s\n",
      "Row count: 2560000\n",
      "Processing data/data_127.json took 17.762072563171387s\n",
      "Row count: 2580000\n",
      "Processing data/data_128.json took 17.351707935333252s\n",
      "Row count: 2600000\n",
      "Processing data/data_129.json took 17.077083826065063s\n",
      "Row count: 2620000\n",
      "Processing data/data_130.json took 16.407724142074585s\n",
      "Row count: 2640000\n",
      "Processing data/data_131.json took 16.264731645584106s\n",
      "Row count: 2660000\n",
      "Processing data/data_132.json took 17.728587865829468s\n",
      "Row count: 2680000\n",
      "Processing data/data_133.json took 16.986387252807617s\n",
      "Row count: 2700000\n",
      "Processing data/data_134.json took 17.434019088745117s\n",
      "Row count: 2720000\n",
      "Processing data/data_135.json took 17.032726049423218s\n",
      "Row count: 2740000\n",
      "Processing data/data_136.json took 17.071415424346924s\n",
      "Row count: 2760000\n",
      "Processing data/data_137.json took 17.55642080307007s\n",
      "Row count: 2780000\n",
      "Processing data/data_138.json took 17.965505123138428s\n",
      "Row count: 2800000\n",
      "Processing data/data_139.json took 18.19916081428528s\n",
      "Row count: 2820000\n",
      "Processing data/data_140.json took 18.404720544815063s\n",
      "Row count: 2840000\n",
      "Processing data/data_141.json took 18.589919328689575s\n",
      "Row count: 2860000\n",
      "Processing data/data_142.json took 18.439934730529785s\n",
      "Row count: 2880000\n",
      "Processing data/data_143.json took 18.453086853027344s\n",
      "Row count: 2900000\n",
      "Processing data/data_144.json took 19.328712701797485s\n",
      "Row count: 2920000\n",
      "Processing data/data_145.json took 19.494865894317627s\n",
      "Row count: 2940000\n",
      "Processing data/data_146.json took 20.188056230545044s\n",
      "Row count: 2960000\n",
      "Processing data/data_147.json took 20.101996421813965s\n",
      "Row count: 2980000\n",
      "Processing data/data_148.json took 20.50932502746582s\n",
      "Row count: 3000000\n",
      "Processing data/data_149.json took 20.200629472732544s\n",
      "Row count: 3020000\n",
      "Processing data/data_150.json took 19.31785488128662s\n",
      "Row count: 3040000\n",
      "Processing data/data_151.json took 20.344790935516357s\n",
      "Row count: 3060000\n",
      "Processing data/data_152.json took 21.395112991333008s\n",
      "Row count: 3080000\n",
      "Processing data/data_153.json took 23.0892231464386s\n",
      "Row count: 3100000\n",
      "Processing data/data_154.json took 22.58361554145813s\n",
      "Row count: 3120000\n",
      "Processing data/data_155.json took 23.199803590774536s\n",
      "Row count: 3140000\n",
      "Processing data/data_156.json took 23.787394523620605s\n",
      "Row count: 3160000\n",
      "Processing data/data_157.json took 23.374070644378662s\n",
      "Row count: 3180000\n",
      "Processing data/data_158.json took 23.666202306747437s\n",
      "Row count: 3200000\n",
      "Processing data/data_159.json took 23.06227946281433s\n",
      "Row count: 3220000\n",
      "Processing data/data_160.json took 23.73400330543518s\n",
      "Row count: 3240000\n",
      "Processing data/data_161.json took 21.486444234848022s\n",
      "Row count: 3260000\n",
      "Processing data/data_162.json took 21.876903533935547s\n",
      "Row count: 3280000\n",
      "Processing data/data_163.json took 21.931756734848022s\n",
      "Row count: 3300000\n",
      "Processing data/data_164.json took 21.96744132041931s\n",
      "Row count: 3320000\n",
      "Processing data/data_165.json took 21.940205335617065s\n",
      "Row count: 3340000\n",
      "Processing data/data_166.json took 22.494571685791016s\n",
      "Row count: 3360000\n",
      "Processing data/data_167.json took 22.404673099517822s\n",
      "Row count: 3380000\n",
      "Processing data/data_168.json took 25.022852659225464s\n",
      "Row count: 3400000\n",
      "Processing data/data_169.json took 23.02060031890869s\n",
      "Row count: 3420000\n",
      "Processing data/data_170.json took 23.039666891098022s\n",
      "Row count: 3440000\n",
      "Processing data/data_171.json took 24.354341983795166s\n",
      "Row count: 3460000\n",
      "Processing data/data_172.json took 24.14042377471924s\n",
      "Row count: 3480000\n",
      "Processing data/data_173.json took 23.55374503135681s\n",
      "Row count: 3500000\n",
      "Processing data/data_174.json took 23.62472128868103s\n",
      "Row count: 3520000\n",
      "Processing data/data_175.json took 23.60712766647339s\n",
      "Row count: 3540000\n",
      "Processing data/data_176.json took 23.083725690841675s\n",
      "Row count: 3560000\n",
      "Processing data/data_177.json took 22.266042470932007s\n",
      "Row count: 3580000\n",
      "Processing data/data_178.json took 22.64081573486328s\n",
      "Row count: 3600000\n",
      "Processing data/data_179.json took 23.149245500564575s\n",
      "Row count: 3620000\n",
      "Processing data/data_180.json took 23.784399271011353s\n",
      "Row count: 3640000\n",
      "Processing data/data_181.json took 22.98389172554016s\n",
      "Row count: 3660000\n",
      "Processing data/data_182.json took 23.78841733932495s\n",
      "Row count: 3680000\n",
      "Processing data/data_183.json took 24.37996220588684s\n",
      "Row count: 3700000\n",
      "Processing data/data_184.json took 23.713778972625732s\n",
      "Row count: 3720000\n",
      "Processing data/data_185.json took 23.491918325424194s\n",
      "Row count: 3740000\n",
      "Processing data/data_186.json took 23.9425687789917s\n",
      "Row count: 3760000\n",
      "Processing data/data_187.json took 26.402514219284058s\n",
      "Row count: 3780000\n",
      "Processing data/data_188.json took 24.825748920440674s\n",
      "Row count: 3800000\n",
      "Processing data/data_189.json took 25.576896905899048s\n",
      "Row count: 3820000\n",
      "Processing data/data_190.json took 25.949148893356323s\n",
      "Row count: 3840000\n",
      "Processing data/data_191.json took 25.53185200691223s\n",
      "Row count: 3860000\n",
      "Processing data/data_192.json took 24.439298152923584s\n",
      "Row count: 3880000\n",
      "Processing data/data_193.json took 25.86655569076538s\n",
      "Row count: 3900000\n",
      "Processing data/data_194.json took 23.538609504699707s\n",
      "Row count: 3920000\n",
      "Processing data/data_195.json took 24.19618558883667s\n",
      "Row count: 3940000\n",
      "Processing data/data_196.json took 23.772247791290283s\n",
      "Row count: 3960000\n",
      "Processing data/data_197.json took 23.465070009231567s\n",
      "Row count: 3980000\n",
      "Processing data/data_198.json took 24.312484741210938s\n",
      "Row count: 4000000\n",
      "Processing data/data_199.json took 25.414928197860718s\n",
      "Row count: 4020000\n",
      "Processing data/data_200.json took 27.436657905578613s\n",
      "201 not found at data/data_201.json; skipping...\n",
      "Processing data/data_201.json took 21.58007264137268s\n",
      "202 not found at data/data_202.json; skipping...\n",
      "Processing data/data_202.json took 8.90044355392456s\n",
      "203 not found at data/data_203.json; skipping...\n",
      "Processing data/data_203.json took 0.16799592971801758s\n",
      "204 not found at data/data_204.json; skipping...\n",
      "Processing data/data_204.json took 0.17912721633911133s\n",
      "205 not found at data/data_205.json; skipping...\n",
      "Processing data/data_205.json took 0.18197274208068848s\n",
      "206 not found at data/data_206.json; skipping...\n",
      "Processing data/data_206.json took 0.1586620807647705s\n",
      "207 not found at data/data_207.json; skipping...\n",
      "Processing data/data_207.json took 0.168351411819458s\n",
      "208 not found at data/data_208.json; skipping...\n",
      "Processing data/data_208.json took 0.8823609352111816s\n",
      "209 not found at data/data_209.json; skipping...\n",
      "Processing data/data_209.json took 0.1681969165802002s\n",
      "210 not found at data/data_210.json; skipping...\n",
      "Processing data/data_210.json took 0.2488396167755127s\n",
      "211 not found at data/data_211.json; skipping...\n",
      "Processing data/data_211.json took 0.1053476333618164s\n"
     ]
    },
    {
     "name": "stderr",
     "output_type": "stream",
     "text": [
      "Exception ignored in: <function JavaObject.__init__.<locals>.<lambda> at 0x7fa4eb54bdc0>\n",
      "Traceback (most recent call last):\n",
      "  File \"/opt/spark/python/lib/py4j-0.10.9-src.zip/py4j/java_gateway.py\", line 1341, in <lambda>\n",
      "  File \"/opt/spark/python/lib/py4j-0.10.9-src.zip/py4j/java_gateway.py\", line 645, in _garbage_collect_object\n",
      "  File \"/opt/spark/python/lib/py4j-0.10.9-src.zip/py4j/java_gateway.py\", line 964, in garbage_collect_object\n",
      "  File \"/opt/spark/python/lib/py4j-0.10.9-src.zip/py4j/java_gateway.py\", line 1031, in send_command\n",
      "  File \"/opt/spark/python/lib/py4j-0.10.9-src.zip/py4j/java_gateway.py\", line 979, in _get_connection\n",
      "  File \"/opt/spark/python/lib/py4j-0.10.9-src.zip/py4j/java_gateway.py\", line 985, in _create_connection\n",
      "  File \"/opt/spark/python/lib/py4j-0.10.9-src.zip/py4j/java_gateway.py\", line 1119, in start\n",
      "  File \"/opt/spark/python/lib/py4j-0.10.9-src.zip/py4j/java_gateway.py\", line 1135, in _authenticate_connection\n",
      "  File \"/opt/spark/python/lib/py4j-0.10.9-src.zip/py4j/java_gateway.py\", line 1200, in send_command\n",
      "  File \"/usr/lib/python3.8/socket.py\", line 669, in readinto\n",
      "    return self._sock.recv_into(b)\n",
      "KeyboardInterrupt: \n"
     ]
    },
    {
     "name": "stdout",
     "output_type": "stream",
     "text": [
      "212 not found at data/data_212.json; skipping...\n",
      "Processing data/data_212.json took 0.3766920566558838s\n",
      "213 not found at data/data_213.json; skipping...\n",
      "Processing data/data_213.json took 0.13854575157165527s\n",
      "214 not found at data/data_214.json; skipping...\n",
      "Processing data/data_214.json took 0.1796870231628418s\n",
      "215 not found at data/data_215.json; skipping...\n",
      "Processing data/data_215.json took 0.16290616989135742s\n",
      "216 not found at data/data_216.json; skipping...\n",
      "Processing data/data_216.json took 0.18429780006408691s\n",
      "217 not found at data/data_217.json; skipping...\n",
      "Processing data/data_217.json took 0.1699967384338379s\n",
      "218 not found at data/data_218.json; skipping...\n",
      "Processing data/data_218.json took 0.18657970428466797s\n",
      "219 not found at data/data_219.json; skipping...\n",
      "Processing data/data_219.json took 0.13951802253723145s\n",
      "220 not found at data/data_220.json; skipping...\n",
      "Processing data/data_220.json took 0.1657392978668213s\n",
      "221 not found at data/data_221.json; skipping...\n",
      "Processing data/data_221.json took 0.18810224533081055s\n",
      "222 not found at data/data_222.json; skipping...\n",
      "Processing data/data_222.json took 0.15936732292175293s\n",
      "223 not found at data/data_223.json; skipping...\n",
      "Processing data/data_223.json took 0.1656043529510498s\n",
      "224 not found at data/data_224.json; skipping...\n",
      "Processing data/data_224.json took 0.17361235618591309s\n",
      "225 not found at data/data_225.json; skipping...\n",
      "Processing data/data_225.json took 0.18684935569763184s\n",
      "226 not found at data/data_226.json; skipping...\n",
      "Processing data/data_226.json took 0.14618206024169922s\n",
      "227 not found at data/data_227.json; skipping...\n",
      "Processing data/data_227.json took 0.18343496322631836s\n",
      "228 not found at data/data_228.json; skipping...\n",
      "Processing data/data_228.json took 0.15967869758605957s\n",
      "229 not found at data/data_229.json; skipping...\n",
      "Processing data/data_229.json took 0.16825008392333984s\n",
      "230 not found at data/data_230.json; skipping...\n",
      "Processing data/data_230.json took 0.16906023025512695s\n",
      "231 not found at data/data_231.json; skipping...\n",
      "Processing data/data_231.json took 0.1775193214416504s\n",
      "232 not found at data/data_232.json; skipping...\n",
      "Processing data/data_232.json took 0.1836256980895996s\n",
      "233 not found at data/data_233.json; skipping...\n",
      "Processing data/data_233.json took 0.15796279907226562s\n",
      "234 not found at data/data_234.json; skipping...\n",
      "Processing data/data_234.json took 0.14710307121276855s\n",
      "235 not found at data/data_235.json; skipping...\n",
      "Processing data/data_235.json took 0.17139220237731934s\n",
      "236 not found at data/data_236.json; skipping...\n",
      "Processing data/data_236.json took 0.1807396411895752s\n",
      "237 not found at data/data_237.json; skipping...\n",
      "Processing data/data_237.json took 0.14015793800354004s\n",
      "238 not found at data/data_238.json; skipping...\n",
      "Processing data/data_238.json took 0.1763312816619873s\n",
      "239 not found at data/data_239.json; skipping...\n",
      "Processing data/data_239.json took 0.1661386489868164s\n",
      "240 not found at data/data_240.json; skipping...\n",
      "Processing data/data_240.json took 0.17856383323669434s\n",
      "241 not found at data/data_241.json; skipping...\n",
      "Processing data/data_241.json took 0.14589452743530273s\n",
      "242 not found at data/data_242.json; skipping...\n",
      "Processing data/data_242.json took 0.1913442611694336s\n",
      "243 not found at data/data_243.json; skipping...\n",
      "Processing data/data_243.json took 0.15131568908691406s\n",
      "244 not found at data/data_244.json; skipping...\n",
      "Processing data/data_244.json took 0.18628883361816406s\n",
      "245 not found at data/data_245.json; skipping...\n",
      "Processing data/data_245.json took 0.17173433303833008s\n",
      "246 not found at data/data_246.json; skipping...\n",
      "Processing data/data_246.json took 0.18374347686767578s\n",
      "247 not found at data/data_247.json; skipping...\n",
      "Processing data/data_247.json took 0.14363431930541992s\n",
      "248 not found at data/data_248.json; skipping...\n",
      "Processing data/data_248.json took 0.20231413841247559s\n",
      "249 not found at data/data_249.json; skipping...\n",
      "Processing data/data_249.json took 0.14453816413879395s\n",
      "250 not found at data/data_250.json; skipping...\n",
      "Processing data/data_250.json took 0.17932510375976562s\n",
      "251 not found at data/data_251.json; skipping...\n",
      "Processing data/data_251.json took 0.16427183151245117s\n",
      "252 not found at data/data_252.json; skipping...\n",
      "Processing data/data_252.json took 0.15153884887695312s\n",
      "253 not found at data/data_253.json; skipping...\n",
      "Processing data/data_253.json took 4.658703327178955s\n",
      "254 not found at data/data_254.json; skipping...\n",
      "Processing data/data_254.json took 0.17752456665039062s\n",
      "255 not found at data/data_255.json; skipping...\n",
      "Processing data/data_255.json took 0.17549681663513184s\n",
      "256 not found at data/data_256.json; skipping...\n",
      "Processing data/data_256.json took 0.18587040901184082s\n",
      "257 not found at data/data_257.json; skipping...\n",
      "Processing data/data_257.json took 0.17173314094543457s\n",
      "258 not found at data/data_258.json; skipping...\n",
      "Processing data/data_258.json took 0.16724348068237305s\n",
      "259 not found at data/data_259.json; skipping...\n",
      "Processing data/data_259.json took 0.17955803871154785s\n",
      "260 not found at data/data_260.json; skipping...\n",
      "Processing data/data_260.json took 0.1575770378112793s\n",
      "261 not found at data/data_261.json; skipping...\n",
      "Processing data/data_261.json took 0.17406177520751953s\n",
      "262 not found at data/data_262.json; skipping...\n",
      "Processing data/data_262.json took 0.15263128280639648s\n",
      "263 not found at data/data_263.json; skipping...\n",
      "Processing data/data_263.json took 0.1620795726776123s\n",
      "264 not found at data/data_264.json; skipping...\n",
      "Processing data/data_264.json took 0.17862820625305176s\n",
      "265 not found at data/data_265.json; skipping...\n",
      "Processing data/data_265.json took 0.16622567176818848s\n",
      "266 not found at data/data_266.json; skipping...\n",
      "Processing data/data_266.json took 0.17362141609191895s\n",
      "267 not found at data/data_267.json; skipping...\n",
      "Processing data/data_267.json took 0.15903306007385254s\n",
      "268 not found at data/data_268.json; skipping..."
     ]
    },
    {
     "name": "stderr",
     "output_type": "stream",
     "text": [
      "Exception ignored in: <function JavaObject.__init__.<locals>.<lambda> at 0x7fa4eba96160>\n",
      "Traceback (most recent call last):\n",
      "  File \"/opt/spark/python/lib/py4j-0.10.9-src.zip/py4j/java_gateway.py\", line 1341, in <lambda>\n",
      "  File \"/opt/spark/python/lib/py4j-0.10.9-src.zip/py4j/java_gateway.py\", line 645, in _garbage_collect_object\n",
      "  File \"/opt/spark/python/lib/py4j-0.10.9-src.zip/py4j/java_gateway.py\", line 964, in garbage_collect_object\n",
      "  File \"/opt/spark/python/lib/py4j-0.10.9-src.zip/py4j/java_gateway.py\", line 1031, in send_command\n",
      "  File \"/opt/spark/python/lib/py4j-0.10.9-src.zip/py4j/java_gateway.py\", line 979, in _get_connection\n",
      "  File \"/opt/spark/python/lib/py4j-0.10.9-src.zip/py4j/java_gateway.py\", line 985, in _create_connection\n",
      "  File \"/opt/spark/python/lib/py4j-0.10.9-src.zip/py4j/java_gateway.py\", line 1119, in start\n",
      "  File \"/opt/spark/python/lib/py4j-0.10.9-src.zip/py4j/java_gateway.py\", line 1135, in _authenticate_connection\n",
      "  File \"/opt/spark/python/lib/py4j-0.10.9-src.zip/py4j/java_gateway.py\", line 1200, in send_command\n",
      "  File \"/usr/lib/python3.8/socket.py\", line 669, in readinto\n",
      "    return self._sock.recv_into(b)\n",
      "KeyboardInterrupt: \n"
     ]
    },
    {
     "name": "stdout",
     "output_type": "stream",
     "text": [
      "\n",
      "Processing data/data_268.json took 0.45403313636779785s\n",
      "269 not found at data/data_269.json; skipping...\n",
      "Processing data/data_269.json took 0.029652118682861328s\n",
      "270 not found at data/data_270.json; skipping...\n",
      "Processing data/data_270.json took 0.1565413475036621s\n",
      "271 not found at data/data_271.json; skipping...\n",
      "Processing data/data_271.json took 0.16143155097961426s\n",
      "272 not found at data/data_272.json; skipping...\n",
      "Processing data/data_272.json took 0.14052748680114746s\n",
      "273 not found at data/data_273.json; skipping...\n",
      "Processing data/data_273.json took 0.17720389366149902s\n",
      "274 not found at data/data_274.json; skipping...\n",
      "Processing data/data_274.json took 0.13234901428222656s\n",
      "275 not found at data/data_275.json; skipping...\n",
      "Processing data/data_275.json took 0.17529010772705078s\n",
      "276 not found at data/data_276.json; skipping...\n",
      "Processing data/data_276.json took 0.1538712978363037s\n"
     ]
    },
    {
     "name": "stderr",
     "output_type": "stream",
     "text": [
      "Exception ignored in: <function JavaObject.__init__.<locals>.<lambda> at 0x7fa50592ed30>\n",
      "Traceback (most recent call last):\n",
      "  File \"/opt/spark/python/lib/py4j-0.10.9-src.zip/py4j/java_gateway.py\", line 1341, in <lambda>\n",
      "  File \"/opt/spark/python/lib/py4j-0.10.9-src.zip/py4j/java_gateway.py\", line 645, in _garbage_collect_object\n",
      "  File \"/opt/spark/python/lib/py4j-0.10.9-src.zip/py4j/java_gateway.py\", line 964, in garbage_collect_object\n",
      "  File \"/opt/spark/python/lib/py4j-0.10.9-src.zip/py4j/java_gateway.py\", line 1031, in send_command\n",
      "  File \"/opt/spark/python/lib/py4j-0.10.9-src.zip/py4j/java_gateway.py\", line 979, in _get_connection\n",
      "  File \"/opt/spark/python/lib/py4j-0.10.9-src.zip/py4j/java_gateway.py\", line 985, in _create_connection\n",
      "  File \"/opt/spark/python/lib/py4j-0.10.9-src.zip/py4j/java_gateway.py\", line 1119, in start\n",
      "  File \"/opt/spark/python/lib/py4j-0.10.9-src.zip/py4j/java_gateway.py\", line 1135, in _authenticate_connection\n",
      "  File \"/opt/spark/python/lib/py4j-0.10.9-src.zip/py4j/java_gateway.py\", line 1200, in send_command\n",
      "  File \"/usr/lib/python3.8/socket.py\", line 669, in readinto\n",
      "    return self._sock.recv_into(b)\n",
      "KeyboardInterrupt: \n"
     ]
    },
    {
     "name": "stdout",
     "output_type": "stream",
     "text": [
      "277 not found at data/data_277.json; skipping...\n",
      "Processing data/data_277.json took 0.4136233329772949s\n",
      "278 not found at data/data_278.json; skipping...\n",
      "Processing data/data_278.json took 0.08617496490478516s\n",
      "279 not found at data/data_279.json; skipping...\n",
      "Processing data/data_279.json took 0.1530308723449707s\n",
      "280 not found at data/data_280.json; skipping...\n",
      "Processing data/data_280.json took 0.1542980670928955s\n",
      "281 not found at data/data_281.json; skipping...\n",
      "Processing data/data_281.json took 0.14403963088989258s\n",
      "282 not found at data/data_282.json; skipping...\n",
      "Processing data/data_282.json took 0.16292309761047363s\n",
      "283 not found at data/data_283.json; skipping...\n",
      "Processing data/data_283.json took 0.17930388450622559s\n",
      "284 not found at data/data_284.json; skipping...\n",
      "Processing data/data_284.json took 0.15617609024047852s\n",
      "285 not found at data/data_285.json; skipping...\n",
      "Processing data/data_285.json took 0.15742158889770508s\n",
      "286 not found at data/data_286.json; skipping...\n",
      "Processing data/data_286.json took 0.1613447666168213s\n",
      "287 not found at data/data_287.json; skipping...\n",
      "Processing data/data_287.json took 0.17163991928100586s\n",
      "288 not found at data/data_288.json; skipping...\n",
      "Processing data/data_288.json took 0.1718754768371582s\n",
      "289 not found at data/data_289.json; skipping...\n",
      "Processing data/data_289.json took 0.1691141128540039s\n",
      "290 not found at data/data_290.json; skipping...\n",
      "Processing data/data_290.json took 0.17009735107421875s\n",
      "291 not found at data/data_291.json; skipping...\n",
      "Processing data/data_291.json took 0.16937613487243652s\n",
      "292 not found at data/data_292.json; skipping...\n",
      "Processing data/data_292.json took 0.192352294921875s\n",
      "293 not found at data/data_293.json; skipping...\n",
      "Processing data/data_293.json took 0.2575259208679199s\n",
      "Finished\n"
     ]
    },
    {
     "ename": "KeyboardInterrupt",
     "evalue": "",
     "output_type": "error",
     "traceback": [
      "\u001b[0;31m---------------------------------------------------------------------------\u001b[0m",
      "\u001b[0;31mKeyboardInterrupt\u001b[0m                         Traceback (most recent call last)",
      "\u001b[0;32m<ipython-input-24-f1324a42300c>\u001b[0m in \u001b[0;36m<module>\u001b[0;34m\u001b[0m\n\u001b[1;32m      1\u001b[0m \u001b[0mstart\u001b[0m \u001b[0;34m=\u001b[0m \u001b[0mtime\u001b[0m\u001b[0;34m.\u001b[0m\u001b[0mtime\u001b[0m\u001b[0;34m(\u001b[0m\u001b[0;34m)\u001b[0m\u001b[0;34m\u001b[0m\u001b[0;34m\u001b[0m\u001b[0m\n\u001b[0;32m----> 2\u001b[0;31m \u001b[0mdf\u001b[0m \u001b[0;34m=\u001b[0m \u001b[0mload_data\u001b[0m\u001b[0;34m(\u001b[0m\u001b[0;36m0\u001b[0m\u001b[0;34m,\u001b[0m \u001b[0;36m292\u001b[0m\u001b[0;34m)\u001b[0m\u001b[0;34m\u001b[0m\u001b[0;34m\u001b[0m\u001b[0m\n\u001b[0m\u001b[1;32m      3\u001b[0m \u001b[0mprint\u001b[0m\u001b[0;34m(\u001b[0m\u001b[0;34mf\"Elapsed Time: {time.time() - start}\"\u001b[0m\u001b[0;34m)\u001b[0m\u001b[0;34m\u001b[0m\u001b[0;34m\u001b[0m\u001b[0m\n",
      "\u001b[0;32m<ipython-input-23-c61737973ff1>\u001b[0m in \u001b[0;36mload_data\u001b[0;34m(file_index, number)\u001b[0m\n\u001b[1;32m     21\u001b[0m \u001b[0;34m\u001b[0m\u001b[0m\n\u001b[1;32m     22\u001b[0m     \u001b[0mprint\u001b[0m\u001b[0;34m(\u001b[0m\u001b[0;34mf\"Finished\"\u001b[0m\u001b[0;34m)\u001b[0m\u001b[0;34m\u001b[0m\u001b[0;34m\u001b[0m\u001b[0m\n\u001b[0;32m---> 23\u001b[0;31m     \u001b[0mprint\u001b[0m\u001b[0;34m(\u001b[0m\u001b[0;34mf\"Total rows: {df.count()}\"\u001b[0m\u001b[0;34m)\u001b[0m\u001b[0;34m\u001b[0m\u001b[0;34m\u001b[0m\u001b[0m\n\u001b[0m\u001b[1;32m     24\u001b[0m     \u001b[0;32mreturn\u001b[0m \u001b[0mdf\u001b[0m\u001b[0;34m\u001b[0m\u001b[0;34m\u001b[0m\u001b[0m\n\u001b[1;32m     25\u001b[0m \u001b[0;34m\u001b[0m\u001b[0m\n",
      "\u001b[0;32m/opt/spark/python/pyspark/sql/dataframe.py\u001b[0m in \u001b[0;36mcount\u001b[0;34m(self)\u001b[0m\n\u001b[1;32m    583\u001b[0m         \u001b[0;36m2\u001b[0m\u001b[0;34m\u001b[0m\u001b[0;34m\u001b[0m\u001b[0m\n\u001b[1;32m    584\u001b[0m         \"\"\"\n\u001b[0;32m--> 585\u001b[0;31m         \u001b[0;32mreturn\u001b[0m \u001b[0mint\u001b[0m\u001b[0;34m(\u001b[0m\u001b[0mself\u001b[0m\u001b[0;34m.\u001b[0m\u001b[0m_jdf\u001b[0m\u001b[0;34m.\u001b[0m\u001b[0mcount\u001b[0m\u001b[0;34m(\u001b[0m\u001b[0;34m)\u001b[0m\u001b[0;34m)\u001b[0m\u001b[0;34m\u001b[0m\u001b[0;34m\u001b[0m\u001b[0m\n\u001b[0m\u001b[1;32m    586\u001b[0m \u001b[0;34m\u001b[0m\u001b[0m\n\u001b[1;32m    587\u001b[0m     \u001b[0;34m@\u001b[0m\u001b[0mignore_unicode_prefix\u001b[0m\u001b[0;34m\u001b[0m\u001b[0;34m\u001b[0m\u001b[0m\n",
      "\u001b[0;32m/opt/spark/python/lib/py4j-0.10.9-src.zip/py4j/java_gateway.py\u001b[0m in \u001b[0;36m__call__\u001b[0;34m(self, *args)\u001b[0m\n\u001b[1;32m   1301\u001b[0m             \u001b[0mproto\u001b[0m\u001b[0;34m.\u001b[0m\u001b[0mEND_COMMAND_PART\u001b[0m\u001b[0;34m\u001b[0m\u001b[0;34m\u001b[0m\u001b[0m\n\u001b[1;32m   1302\u001b[0m \u001b[0;34m\u001b[0m\u001b[0m\n\u001b[0;32m-> 1303\u001b[0;31m         \u001b[0manswer\u001b[0m \u001b[0;34m=\u001b[0m \u001b[0mself\u001b[0m\u001b[0;34m.\u001b[0m\u001b[0mgateway_client\u001b[0m\u001b[0;34m.\u001b[0m\u001b[0msend_command\u001b[0m\u001b[0;34m(\u001b[0m\u001b[0mcommand\u001b[0m\u001b[0;34m)\u001b[0m\u001b[0;34m\u001b[0m\u001b[0;34m\u001b[0m\u001b[0m\n\u001b[0m\u001b[1;32m   1304\u001b[0m         return_value = get_return_value(\n\u001b[1;32m   1305\u001b[0m             answer, self.gateway_client, self.target_id, self.name)\n",
      "\u001b[0;32m/opt/spark/python/lib/py4j-0.10.9-src.zip/py4j/java_gateway.py\u001b[0m in \u001b[0;36msend_command\u001b[0;34m(self, command, retry, binary)\u001b[0m\n\u001b[1;32m   1031\u001b[0m         \u001b[0mconnection\u001b[0m \u001b[0;34m=\u001b[0m \u001b[0mself\u001b[0m\u001b[0;34m.\u001b[0m\u001b[0m_get_connection\u001b[0m\u001b[0;34m(\u001b[0m\u001b[0;34m)\u001b[0m\u001b[0;34m\u001b[0m\u001b[0;34m\u001b[0m\u001b[0m\n\u001b[1;32m   1032\u001b[0m         \u001b[0;32mtry\u001b[0m\u001b[0;34m:\u001b[0m\u001b[0;34m\u001b[0m\u001b[0;34m\u001b[0m\u001b[0m\n\u001b[0;32m-> 1033\u001b[0;31m             \u001b[0mresponse\u001b[0m \u001b[0;34m=\u001b[0m \u001b[0mconnection\u001b[0m\u001b[0;34m.\u001b[0m\u001b[0msend_command\u001b[0m\u001b[0;34m(\u001b[0m\u001b[0mcommand\u001b[0m\u001b[0;34m)\u001b[0m\u001b[0;34m\u001b[0m\u001b[0;34m\u001b[0m\u001b[0m\n\u001b[0m\u001b[1;32m   1034\u001b[0m             \u001b[0;32mif\u001b[0m \u001b[0mbinary\u001b[0m\u001b[0;34m:\u001b[0m\u001b[0;34m\u001b[0m\u001b[0;34m\u001b[0m\u001b[0m\n\u001b[1;32m   1035\u001b[0m                 \u001b[0;32mreturn\u001b[0m \u001b[0mresponse\u001b[0m\u001b[0;34m,\u001b[0m \u001b[0mself\u001b[0m\u001b[0;34m.\u001b[0m\u001b[0m_create_connection_guard\u001b[0m\u001b[0;34m(\u001b[0m\u001b[0mconnection\u001b[0m\u001b[0;34m)\u001b[0m\u001b[0;34m\u001b[0m\u001b[0;34m\u001b[0m\u001b[0m\n",
      "\u001b[0;32m/opt/spark/python/lib/py4j-0.10.9-src.zip/py4j/java_gateway.py\u001b[0m in \u001b[0;36msend_command\u001b[0;34m(self, command)\u001b[0m\n\u001b[1;32m   1198\u001b[0m \u001b[0;34m\u001b[0m\u001b[0m\n\u001b[1;32m   1199\u001b[0m         \u001b[0;32mtry\u001b[0m\u001b[0;34m:\u001b[0m\u001b[0;34m\u001b[0m\u001b[0;34m\u001b[0m\u001b[0m\n\u001b[0;32m-> 1200\u001b[0;31m             \u001b[0manswer\u001b[0m \u001b[0;34m=\u001b[0m \u001b[0msmart_decode\u001b[0m\u001b[0;34m(\u001b[0m\u001b[0mself\u001b[0m\u001b[0;34m.\u001b[0m\u001b[0mstream\u001b[0m\u001b[0;34m.\u001b[0m\u001b[0mreadline\u001b[0m\u001b[0;34m(\u001b[0m\u001b[0;34m)\u001b[0m\u001b[0;34m[\u001b[0m\u001b[0;34m:\u001b[0m\u001b[0;34m-\u001b[0m\u001b[0;36m1\u001b[0m\u001b[0;34m]\u001b[0m\u001b[0;34m)\u001b[0m\u001b[0;34m\u001b[0m\u001b[0;34m\u001b[0m\u001b[0m\n\u001b[0m\u001b[1;32m   1201\u001b[0m             \u001b[0mlogger\u001b[0m\u001b[0;34m.\u001b[0m\u001b[0mdebug\u001b[0m\u001b[0;34m(\u001b[0m\u001b[0;34m\"Answer received: {0}\"\u001b[0m\u001b[0;34m.\u001b[0m\u001b[0mformat\u001b[0m\u001b[0;34m(\u001b[0m\u001b[0manswer\u001b[0m\u001b[0;34m)\u001b[0m\u001b[0;34m)\u001b[0m\u001b[0;34m\u001b[0m\u001b[0;34m\u001b[0m\u001b[0m\n\u001b[1;32m   1202\u001b[0m             \u001b[0;32mif\u001b[0m \u001b[0manswer\u001b[0m\u001b[0;34m.\u001b[0m\u001b[0mstartswith\u001b[0m\u001b[0;34m(\u001b[0m\u001b[0mproto\u001b[0m\u001b[0;34m.\u001b[0m\u001b[0mRETURN_MESSAGE\u001b[0m\u001b[0;34m)\u001b[0m\u001b[0;34m:\u001b[0m\u001b[0;34m\u001b[0m\u001b[0;34m\u001b[0m\u001b[0m\n",
      "\u001b[0;32m/usr/lib/python3.8/socket.py\u001b[0m in \u001b[0;36mreadinto\u001b[0;34m(self, b)\u001b[0m\n\u001b[1;32m    667\u001b[0m         \u001b[0;32mwhile\u001b[0m \u001b[0;32mTrue\u001b[0m\u001b[0;34m:\u001b[0m\u001b[0;34m\u001b[0m\u001b[0;34m\u001b[0m\u001b[0m\n\u001b[1;32m    668\u001b[0m             \u001b[0;32mtry\u001b[0m\u001b[0;34m:\u001b[0m\u001b[0;34m\u001b[0m\u001b[0;34m\u001b[0m\u001b[0m\n\u001b[0;32m--> 669\u001b[0;31m                 \u001b[0;32mreturn\u001b[0m \u001b[0mself\u001b[0m\u001b[0;34m.\u001b[0m\u001b[0m_sock\u001b[0m\u001b[0;34m.\u001b[0m\u001b[0mrecv_into\u001b[0m\u001b[0;34m(\u001b[0m\u001b[0mb\u001b[0m\u001b[0;34m)\u001b[0m\u001b[0;34m\u001b[0m\u001b[0;34m\u001b[0m\u001b[0m\n\u001b[0m\u001b[1;32m    670\u001b[0m             \u001b[0;32mexcept\u001b[0m \u001b[0mtimeout\u001b[0m\u001b[0;34m:\u001b[0m\u001b[0;34m\u001b[0m\u001b[0;34m\u001b[0m\u001b[0m\n\u001b[1;32m    671\u001b[0m                 \u001b[0mself\u001b[0m\u001b[0;34m.\u001b[0m\u001b[0m_timeout_occurred\u001b[0m \u001b[0;34m=\u001b[0m \u001b[0;32mTrue\u001b[0m\u001b[0;34m\u001b[0m\u001b[0;34m\u001b[0m\u001b[0m\n",
      "\u001b[0;31mKeyboardInterrupt\u001b[0m: "
     ]
    },
    {
     "name": "stderr",
     "output_type": "stream",
     "text": [
      "Error in atexit._run_exitfuncs:\n",
      "Traceback (most recent call last):\n",
      "  File \"/opt/spark/python/pyspark/shell.py\", line 51, in <lambda>\n",
      "    atexit.register(lambda: sc.stop())\n",
      "TypeError: stop() missing 1 required positional argument: 'self'\n",
      "Exception ignored in: <function JavaObject.__init__.<locals>.<lambda> at 0x7fa4eba96040>\n",
      "Traceback (most recent call last):\n",
      "  File \"/opt/spark/python/lib/py4j-0.10.9-src.zip/py4j/java_gateway.py\", line 1340, in <lambda>\n",
      "  File \"/opt/spark/python/pyspark/context.py\", line 274, in signal_handler\n",
      "    raise KeyboardInterrupt()\n",
      "KeyboardInterrupt: \n"
     ]
    }
   ],
   "source": [
    "start = time.time()\n",
    "df = load_data(0, 292)\n",
    "print(f\"Elapsed Time: {time.time() - start}\")"
   ]
  },
  {
   "cell_type": "code",
   "execution_count": 5,
   "metadata": {},
   "outputs": [
    {
     "name": "stdout",
     "output_type": "stream",
     "text": [
      "Elapsed Time: 6.31993293762207\n"
     ]
    }
   ],
   "source": [
    "start = time.time()\n",
    "df = load_data_v2('data')\n",
    "print(f\"Elapsed Time: {time.time() - start}\")"
   ]
  },
  {
   "cell_type": "markdown",
   "metadata": {},
   "source": [
    "## Duration\n",
    "\n",
    "load_data() => s\n",
    "\n",
    "load_data_v2() => 4.5s (lazy loading)"
   ]
  },
  {
   "cell_type": "code",
   "execution_count": 15,
   "metadata": {},
   "outputs": [
    {
     "name": "stdout",
     "output_type": "stream",
     "text": [
      "5824609\n"
     ]
    }
   ],
   "source": [
    "print(df.count())"
   ]
  },
  {
   "cell_type": "code",
   "execution_count": 6,
   "metadata": {},
   "outputs": [
    {
     "name": "stdout",
     "output_type": "stream",
     "text": [
      "[Row(title='Rumisapa District', text=['rumisapa', 'district', 'one', 'eleven', 'districts', 'province', 'lamas', 'peru', 'references']), Row(title='Craig J. Spence', text=['craig', 'j', 'spence', '1941', 'november', '10', '1989', 'republican', 'lobbyist', 'found', 'dead', 'ritz-carlton', 'hotel', 'room', '1989', 'background', 'spence', 'attended', 'syracuse', 'university', 'becoming', 'correspondent', 'abc', 'news', 'vietnam', 'war', 'covered', 'southeast', 'asia', 'eventually', 'left', 'work', 'expelled', 'south', 'vietnam', 'alleged', 'black', 'market', 'currency', 'transactions', '--', 'unknown', 'practice', 'removing', 'troublesome', 'reporters', 'relocated', 'tokyo', 'stringer', 'britain', 'daily', 'mail', 'began', 'public', 'relations', 'consulting', 'government-supported', 'japan', 'external', 'trade', 'organization', 'japanese', 'corporations', 'january', '1985', 'spence', 'registered', 'us', 'state', 'department', 'foreign', 'agent', 'japan', 'began', 'lobbying', 'japanese', 'interests', 'throughout', '1980s', 'spence', 'built', 'reputation', 'influential', 'lobbyist', 'represented', 'many', 'japanese', 'concerns', 'established', 'close', 'friendships', 'number', 'leading', 'japanese', 'politicians', 'including', 'motoo', 'shiina', 'considered', 'tokyo', 'analysts', 'inside', 'favorite', 'replace', 'scandal-plagued', 'sōsuke', 'uno', 'prime', 'minister', 'spence', 'mr', 'shiina', 'embroiled', 'real', 'estate', 'deal', 'involving', 'house', 'kalorama', 'two-story', 'victorian', 'showpiece', 'valued', 'real', 'estate', 'agents', '115', 'million', 'spence', 'told', 'friends', 'obtained', 'money', 'buy', 'house', 'blackmailing', 'mr', 'shiina', 'mr', 'shiina', 'denied', 'blackmailed', 'mr', 'spence', 'spence', 'implicated', 'gay', 'call-boy', 'ring', 'scandal', 'arranged', 'after-hours', 'visits', 'white', 'house', 'washington', 'times', 'papers', 'reported', 'june', '1989', 'afterward', 'spence', 'committed', 'suicide', 'boston', 'hotel', 'washington', 'call-boy', 'scandal', 'spence', 'name', 'came', 'national', 'prominence', 'aftermath', 'june', '28', '1989', 'article', 'washington', 'times', 'identifying', 'spence', 'customer', 'homosexual', 'escort', 'service', 'investigated', 'secret', 'service', 'district', 'columbia', 'police', 'united', 'states', 'attorney', 'office', 'suspected', 'credit', 'card', 'fraud', 'newspaper', 'said', 'spent', 'much', '20000', 'month', 'service', 'also', 'linked', 'white', 'house', 'guard', 'said', 'accepted', 'expensive', 'watch', 'mr', 'spence', 'allowed', 'friends', 'take', 'late-night', 'white', 'house', 'tours', 'spence', 'entered', 'downward', 'spiral', 'wake', 'washington', 'times', 'exposé', 'increasingly', 'involving', 'call', 'boys', 'crack', 'culminating', 'july', '31', '1989', 'arrest', 'barbizon', 'hotel', 'east', '63rd', 'st', 'manhattan', 'criminal', 'possession', 'firearm', 'criminal', 'possession', 'cocaine', 'months', 'scandal', 'died', 'weeks', 'spence', 'found', 'room', 'boston', 'ritz-carlton', 'hotel', 'asked', 'given', 'key', 'white', 'house', 'michael', 'hedges', 'jerry', 'seper', 'washington', 'times', 'reported', 'mr', 'spence', 'hinted', 'tours', 'arranged', 'top', 'level', 'persons', 'including', 'donald', 'gregg', 'national', 'security', 'adviser', 'vice', 'president', 'george', 'h', 'w', 'bush', 'time', 'tours', 'given', 'pressed', 'identify', 'got', 'inside', 'white', 'house', 'spence', 'asked', 'got', '[long-term', 'cia', 'operative]', 'félix', 'rodríguez', 'see', 'bush', 'agreeing', 'alluding', 'mr', 'gregg', 'gregg', 'dismissed', 'allegation', 'absolute', 'bull', 'according', 'hedges', 'seper', 'disturbs', 'reach', 'slimy', 'hand', 'sewer', 'grab', 'ankle', 'like', 'told', 'reporters', 'allegations', 'totally', 'false', 'death', 'november', '10', '1989', 'spence', 'found', 'dead', 'room', '429', 'boston', 'ritz', 'carlton', 'city', 'expensive', 'hotel', 'dressed', 'tuxedo', 'three', 'dollars', 'pocket', 'according', 'police', 'report', 'found', 'hotel', 'employees', 'attired', 'style', 'affected', 'lavish', 'dinner', 'parties', 'black', 'tux', 'white', 'shirt', 'bow', 'tie', 'white', 'suspenders', 'black', 'socks', 'shoes', 'telephone', 'cradled', 'ear', 'walkman', 'headset', 'containing', 'cassette', 'tape', 'mozart', 'little', 'night', 'music', 'prior', 'death', 'spoke', 'possibly', 'disappearing', 'may', 'look', 'like', 'suicide', 'found', 'hidden', 'false', 'ceiling', 'bathroom', 'seven', 'small', 'packets', 'xanax', 'anti-anxiety', 'prescription', 'drug', 'one', 'pill', 'removed', 'black', 'felt-tip', 'marker', 'written', 'mirror', 'room', 'postscript', 'wrote', 'ritz', 'please', 'forgive', 'inconvenience', 'lengthy', 'interview', 'manhattan', 'apartment', 'months', 'death', 'spence', 'alluded', 'intricate', 'involvements', 'stuff', 'youve', 'uncovered', 'involving', 'call', 'boys', 'bribery', 'white', 'house', 'tours', 'honest', 'insignificant', 'compared', 'things', 'ive', 'done', 'im', 'going', 'tell', 'things', 'somehow', 'world', 'carry', 'external', 'links', 'craig', 'spence', 'namebase', 'archive', 'references', 'category', '1941', 'births', 'category', '1989', 'deaths', 'category', 'american', 'lobbyists']), Row(title='KCQX', text=['kcqx', 'may', 'refer', 'chatham', 'municipal', 'airport', 'icao', 'code', 'kcqx', 'kcqx-lp', 'defunct', 'low-power', 'radio', 'station', '1069', 'fm', 'formerly', 'licensed', 'cuchara', 'colorado', 'united', 'states']), Row(title='Frigyes Riesz', text=['frigyes', 'riesz', '22', 'january', '1880', '28', 'february', '1956', 'hungarian', 'mathematician', 'made', 'fundamental', 'contributions', 'functional', 'analysis', 'younger', 'brother', 'marcel', 'riesz', 'life', 'career', 'born', 'jewish', 'family', 'győr', 'austria-hungary', 'died', 'budapest', 'hungary', '1911', '1919', 'professor', 'franz', 'joseph', 'university', 'kolozsvár', 'austria-hungary', 'post-ww1', 'treaty', 'trianon', 'transferred', 'former', 'austro-hungarian', 'territory', 'including', 'kolozsvár', 'kingdom', 'romania', 'whereupon', 'kolozsvár', 'name', 'changed', 'cluj', 'university', 'kolozsvár', 'moved', 'szeged', 'hungary', 'becoming', 'university', 'szeged', 'riesz', 'rector', 'professor', 'university', 'szeged', 'well', 'member', 'hungarian', 'academy', 'sciences', 'polish', 'academy', 'learning', 'older', 'brother', 'mathematician', 'marcel', 'riesz', 'riesz', 'fundamental', 'work', 'developing', 'functional', 'analysis', 'work', 'number', 'important', 'applications', 'physics', 'established', 'spectral', 'theory', 'bounded', 'symmetric', 'operators', 'form', 'much', 'like', 'regarded', 'standard', 'also', 'made', 'many', 'contributions', 'areas', 'including', 'ergodic', 'theory', 'gave', 'elementary', 'proof', 'mean', 'ergodic', 'theorem', 'riesz', 'founded', 'acta', 'scientiarum', 'mathematicarum', 'journal', 'together', 'alfréd', 'haar', 'uncommon', 'method', 'giving', 'lectures', 'entered', 'lecture', 'hall', 'assistant', 'docent', 'docent', 'began', 'reading', 'proper', 'passages', 'riesz', 'handbook', 'assistant', 'wrote', 'appropriate', 'equations', 'blackboardwhile', 'riesz', 'stood', 'aside', 'nodding', 'occasionally', 'swiss-american', 'mathematician', 'edgar', 'lorch', 'spent', '1934', 'szeged', 'working', 'riesz', 'wrote', 'reminiscence', 'time', 'including', 'collaboration', 'riesz', 'publications', 'see', 'also', 'denjoyriesz', 'theorem', 'riesz', 'representation', 'theorem', 'f', 'riesz', 'theorem', 'proximity', 'space', 'riesz-fischer', 'theorem', 'riesz', 'space', 'radon-riesz', 'property', 'riesz', 'lemma', 'references', 'external', 'links', 'category', '1880', 'births', 'category', '1956', 'deaths', 'category', 'university', 'szeged', 'faculty', 'category', '19th-century', 'mathematicians', 'category', '20th-century', 'hungarian', 'mathematicians', 'category', '20th-century', 'hungarian', 'people', 'category', 'mathematical', 'analysts', 'category', 'functional', 'analysts', 'category', 'operator', 'theorists', 'category', 'people', 'budapest', 'category', 'members', 'hungarian', 'academy', 'sciences', 'category', 'burials', 'kerepesi', 'cemetery', 'category', 'franz', 'joseph', 'university', 'faculty', 'category', 'rectors', 'franz', 'joseph', 'university', 'category', 'austro-hungarian', 'mathematicians', 'category', 'hungarian', 'jews']), Row(title='Crassispira rubidofusca', text=['crassispira', 'rubidofusca', 'species', 'sea', 'snail', 'marine', 'gastropod', 'mollusk', 'family', 'pseudomelatomidae', 'description', 'length', 'shell', 'attains', '20\\xa0mm', 'diameter', '6¼', 'mm', 'original', 'description', 'fusiform', 'rather', 'solid', 'shell', 'uniformly', 'red-brown', 'lighther', 'behind', 'peristome', 'sutural', 'sinus', 'orange', 'base', 'contains', '6', 'whorls', 'apex', 'broken-', 'number', 'whorls', 'may', 'least', '10', 'rather', 'convex', 'slightly', 'excavated', 'conspicuous', 'suture', 'accompanied', 'inconspicuous', 'infrasutural', 'thread', 'sculpture', 'consists', 'somewhat', 'oblique', 'ribs', 'nearly', 'crossing', 'entire', 'whorl', 'upper', 'ones', 'becoming', 'obsolete', 'infrasutural', 'depression', 'lower', 'whorls', '15', 'ribs', 'body', 'whorl', 'ventral', 'ones', 'obsolete', 'behind', 'peristome', 'strong', 'varix-like', 'moreover', 'shell', 'covered', 'fine', 'growth', 'striae', 'fine', 'spiral', 'striae', 'visible', 'lens', 'six', 'spiral', 'lirae', 'cross', 'ribs', 'cases', 'intermediate', 'much', 'finer', 'lirae', '3', '4', 'faint', 'ones', 'excavation', 'body', 'whorl', 'number', 'principal', 'lirae', 'amounts', '20', 'aperture', 'oblong', 'narrow', 'thin', 'peristome', 'protracted', 'middle', 'deep', 'rather', 'wide', 'sinus', 'columellar', 'side', 'contains', 'thick', 'layer', 'enamel', 'flat', 'whitish', 'tubercle', 'sinus', 'straight', 'peristome', 'margined', 'red-brown', 'interiorly', 'light', 'violet', 'layer', 'enamel', 'behind', 'depth', 'red-brown', 'upper', 'part', 'columellar', 'layer', 'red-brown', 'siphonal', 'canal', 'slightly', 'upturned', 'distribution', 'marine', 'species', 'occurs', 'western', 'sumatra', 'indonesia', 'references', 'external', 'links', 'rubidofusca', 'category', 'gastropods', 'described', '1913']), Row(title='Organic Letters', text=['organic', 'letters', 'peer-reviewed', 'biweekly', 'scientific', 'journal', 'published', 'since', '1999', 'american', 'chemical', 'society', '2014', 'journal', 'moved', 'hybrid', 'open', 'access', 'publishing', 'model', 'ol', 'indexed', 'chemical', 'abstracts', 'service', 'cas', 'ebscohost', 'british', 'library', 'pubmed', 'web', 'science', 'swetswise', 'organic', 'letters', 'publishes', 'brief', 'reports', 'broad', 'range', 'organic', 'chemistry', 'research', 'founding', 'editor-in-chief', 'amos', 'smith', 'organic', 'letters', 'serves', 'platform', 'communication', 'research', 'organic', 'chemistry', 'including', 'organometallic', 'materials', 'chemistry', 'physical', 'theoretical', 'organic', 'chemistry', 'natural', 'products', 'isolation', 'synthesis', 'new', 'synthetic', 'methodology', 'bioorganic', 'medicinal', 'chemistry', 'references', 'category', 'american', 'chemical', 'society', 'academic', 'journals', 'category', 'biweekly', 'journals', 'category', 'organic', 'chemistry', 'category', 'publications', 'established', '1999']), Row(title='Melitón Hernández', text=['édgar', 'melitón', 'hernández', 'cabrera', 'born', 'october', '15', '1982', 'coatriolla', 'veracruz', 'commonly', 'known', 'melitón', 'hernández', 'mexican', 'footballer', 'plays', 'liga', 'mx', 'club', 'veracruz', 'honours', 'club', 'veracruz', 'copa', 'mx', 'clausura', '2016', 'external', 'links', 'melitón', 'hernández', 'official', 'liga', 'mx', 'profile', 'profile', 'bdfa', 'category', '1982', 'births', 'category', 'living', 'people', 'category', 'liga', 'mx', 'players', 'category', 'cf', 'pachuca', 'players', 'category', 'club', 'león', 'footballers', 'category', 'tiburones', 'rojos', 'de', 'veracruz', 'footballers', 'category', 'association', 'football', 'goalkeepers', 'category', 'footballers', 'veracruz', 'category', 'mexico', 'international', 'footballers', 'category', '2015', 'copa', 'américa', 'players', 'category', 'mexican', 'footballers']), Row(title=None, text=None), Row(title=None, text=None), Row(title=None, text=None), Row(title=None, text=None), Row(title=None, text=None), Row(title=None, text=None), Row(title=None, text=None), Row(title=None, text=None), Row(title=None, text=None), Row(title=None, text=None), Row(title=None, text=None), Row(title=None, text=None), Row(title=None, text=None)]\n"
     ]
    }
   ],
   "source": [
    "print(df.tail(20))"
   ]
  },
  {
   "cell_type": "markdown",
   "metadata": {},
   "source": [
    "# Train"
   ]
  },
  {
   "cell_type": "code",
   "execution_count": 7,
   "metadata": {},
   "outputs": [
    {
     "name": "stdout",
     "output_type": "stream",
     "text": [
      "Start time: 1598481424.4315293\n",
      "Time elapsed: 11642.238344669342\n"
     ]
    }
   ],
   "source": [
    "model = train_model(df.limit(1000000))"
   ]
  },
  {
   "cell_type": "code",
   "execution_count": 8,
   "metadata": {},
   "outputs": [],
   "source": [
    "model.save(\"one_million_model\")"
   ]
  },
  {
   "cell_type": "code",
   "execution_count": 10,
   "metadata": {},
   "outputs": [
    {
     "name": "stdout",
     "output_type": "stream",
     "text": [
      "DataFrame[title: string, text: array<string>, result: vector]\n"
     ]
    }
   ],
   "source": [
    "result = model.transform(df.limit(1000000))\n",
    "print(result)"
   ]
  },
  {
   "cell_type": "code",
   "execution_count": 11,
   "metadata": {
    "scrolled": true
   },
   "outputs": [
    {
     "name": "stdout",
     "output_type": "stream",
     "text": [
      "+--------------------+--------------------+--------------------+\n",
      "|               title|                text|              result|\n",
      "+--------------------+--------------------+--------------------+\n",
      "|    Lesser shortwing|[lesser, shortwin...|[0.13181779829218...|\n",
      "|Shanghai Tobacco ...|[shanghai, tobacc...|[-0.0167293419171...|\n",
      "|         Niki Massey|[niki, massey, oc...|[-0.0304032912153...|\n",
      "|        Harry Leitch|[dr, harry, leitc...|[-0.0138400557823...|\n",
      "|    Ljupčo Kmetovski|[ljupčo, kmetovsk...|[-0.0479290529569...|\n",
      "|March 1979 lunar ...|[partial, lunar, ...|[0.00862733636429...|\n",
      "|              Mansun|[mansun, english,...|[-0.0354783898851...|\n",
      "|      Ladislav Klíma|[ladislav, klíma,...|[0.00286052224060...|\n",
      "|         Sex linkage|[sex, linkage, de...|[-0.0374448909977...|\n",
      "|         Mary Rowell|[mary, rowell, am...|[-0.0082153989390...|\n",
      "|             Sieneke|[sieneke, born, s...|[-0.0301110380857...|\n",
      "|Maltese First Div...|[maltese, first, ...|[0.01311316324092...|\n",
      "|St. John Baptist ...|[st, john, baptis...|[-0.0931062121720...|\n",
      "|          K. K. Usha|[k, k, usha, born...|[-0.0012474652376...|\n",
      "|       Chinese poker|[chinese, poker, ...|[0.03930597261048...|\n",
      "|     Thomas Spofford|[thomas, spofford...|[0.02066469757721...|\n",
      "|            Fugitive|[fugitive, runawa...|[-0.0471028772274...|\n",
      "|    Glacier foreland|[region, current,...|[0.07850676092671...|\n",
      "|  Calendar of saints|[calendar, saints...|[0.01974345632395...|\n",
      "| Studena (Babušnica)|[studena, village...|[-0.1687139258202...|\n",
      "+--------------------+--------------------+--------------------+\n",
      "only showing top 20 rows\n",
      "\n"
     ]
    }
   ],
   "source": [
    "result.show()"
   ]
  },
  {
   "cell_type": "code",
   "execution_count": 12,
   "metadata": {},
   "outputs": [],
   "source": [
    "model.save(\"one_million_two\")"
   ]
  },
  {
   "cell_type": "code",
   "execution_count": 13,
   "metadata": {},
   "outputs": [
    {
     "data": {
      "text/plain": [
       "10"
      ]
     },
     "execution_count": 13,
     "metadata": {},
     "output_type": "execute_result"
    }
   ],
   "source": [
    "model.getMinCount()"
   ]
  },
  {
   "cell_type": "code",
   "execution_count": null,
   "metadata": {},
   "outputs": [],
   "source": [
    "cluster = "
   ]
  },
  {
   "cell_type": "code",
   "execution_count": 15,
   "metadata": {
    "scrolled": true
   },
   "outputs": [
    {
     "name": "stdout",
     "output_type": "stream",
     "text": [
      "+-------------+--------------------+\n",
      "|         word|              vector|\n",
      "+-------------+--------------------+\n",
      "|     cristino|[-0.1160977184772...|\n",
      "|    hoshizora|[-0.1109780073165...|\n",
      "|        mells|[-0.0570699460804...|\n",
      "|     17901791|[-0.0185965653508...|\n",
      "|        frane|[-0.1329791694879...|\n",
      "|        gawar|[-0.0898746177554...|\n",
      "|          kuş|[-0.0321204923093...|\n",
      "|        toppo|[0.00813362747430...|\n",
      "|        shuvo|[-0.1562451720237...|\n",
      "|       hilyer|[-0.0437848530709...|\n",
      "|        cetti|[0.13472637534141...|\n",
      "|         koel|[-0.0291677471250...|\n",
      "|        10292|[0.03037112019956...|\n",
      "|rhynchostylis|[0.09231655299663...|\n",
      "|        1910s|[0.11900905519723...|\n",
      "|        19125|[0.00824300106614...|\n",
      "|         onam|[-0.0484162457287...|\n",
      "|      rahmani|[-0.2499719411134...|\n",
      "|      prinzip|[-0.0082170348614...|\n",
      "|       197077|[-0.0509997271001...|\n",
      "+-------------+--------------------+\n",
      "only showing top 20 rows\n",
      "\n"
     ]
    }
   ],
   "source": [
    "model.getVectors().show()"
   ]
  },
  {
   "cell_type": "code",
   "execution_count": 17,
   "metadata": {},
   "outputs": [],
   "source": [
    "result.write.format('json').option('header',True).mode('overwrite').option('sep',',').save('result_output.csv')"
   ]
  },
  {
   "cell_type": "code",
   "execution_count": 29,
   "metadata": {},
   "outputs": [],
   "source": [
    "def cosine_similarity(x, y):\n",
    "     return x.dot(y)/(x.norm()*y.norm())\n"
   ]
  },
  {
   "cell_type": "code",
   "execution_count": 30,
   "metadata": {},
   "outputs": [
    {
     "ename": "AttributeError",
     "evalue": "'str' object has no attribute '_jdf'",
     "output_type": "error",
     "traceback": [
      "\u001b[0;31m---------------------------------------------------------------------------\u001b[0m",
      "\u001b[0;31mAttributeError\u001b[0m                            Traceback (most recent call last)",
      "\u001b[0;32m<ipython-input-30-ba24ee8fcbbc>\u001b[0m in \u001b[0;36m<module>\u001b[0;34m\u001b[0m\n\u001b[0;32m----> 1\u001b[0;31m \u001b[0mx\u001b[0m \u001b[0;34m=\u001b[0m \u001b[0mmodel\u001b[0m\u001b[0;34m.\u001b[0m\u001b[0mtransform\u001b[0m\u001b[0;34m(\u001b[0m\u001b[0;34m'man'\u001b[0m\u001b[0;34m)\u001b[0m\u001b[0;34m\u001b[0m\u001b[0;34m\u001b[0m\u001b[0m\n\u001b[0m\u001b[1;32m      2\u001b[0m \u001b[0my\u001b[0m \u001b[0;34m=\u001b[0m \u001b[0mmodel\u001b[0m\u001b[0;34m.\u001b[0m\u001b[0mtransform\u001b[0m\u001b[0;34m(\u001b[0m\u001b[0;34m'woman'\u001b[0m\u001b[0;34m)\u001b[0m\u001b[0;34m\u001b[0m\u001b[0;34m\u001b[0m\u001b[0m\n\u001b[1;32m      3\u001b[0m \u001b[0mcosine_similarity\u001b[0m\u001b[0;34m(\u001b[0m\u001b[0mx\u001b[0m\u001b[0;34m,\u001b[0m \u001b[0my\u001b[0m\u001b[0;34m)\u001b[0m\u001b[0;34m\u001b[0m\u001b[0;34m\u001b[0m\u001b[0m\n",
      "\u001b[0;32m/opt/spark/python/pyspark/ml/base.py\u001b[0m in \u001b[0;36mtransform\u001b[0;34m(self, dataset, params)\u001b[0m\n\u001b[1;32m    168\u001b[0m                 \u001b[0;32mreturn\u001b[0m \u001b[0mself\u001b[0m\u001b[0;34m.\u001b[0m\u001b[0mcopy\u001b[0m\u001b[0;34m(\u001b[0m\u001b[0mparams\u001b[0m\u001b[0;34m)\u001b[0m\u001b[0;34m.\u001b[0m\u001b[0m_transform\u001b[0m\u001b[0;34m(\u001b[0m\u001b[0mdataset\u001b[0m\u001b[0;34m)\u001b[0m\u001b[0;34m\u001b[0m\u001b[0;34m\u001b[0m\u001b[0m\n\u001b[1;32m    169\u001b[0m             \u001b[0;32melse\u001b[0m\u001b[0;34m:\u001b[0m\u001b[0;34m\u001b[0m\u001b[0;34m\u001b[0m\u001b[0m\n\u001b[0;32m--> 170\u001b[0;31m                 \u001b[0;32mreturn\u001b[0m \u001b[0mself\u001b[0m\u001b[0;34m.\u001b[0m\u001b[0m_transform\u001b[0m\u001b[0;34m(\u001b[0m\u001b[0mdataset\u001b[0m\u001b[0;34m)\u001b[0m\u001b[0;34m\u001b[0m\u001b[0;34m\u001b[0m\u001b[0m\n\u001b[0m\u001b[1;32m    171\u001b[0m         \u001b[0;32melse\u001b[0m\u001b[0;34m:\u001b[0m\u001b[0;34m\u001b[0m\u001b[0;34m\u001b[0m\u001b[0m\n\u001b[1;32m    172\u001b[0m             \u001b[0;32mraise\u001b[0m \u001b[0mValueError\u001b[0m\u001b[0;34m(\u001b[0m\u001b[0;34m\"Params must be a param map but got %s.\"\u001b[0m \u001b[0;34m%\u001b[0m \u001b[0mtype\u001b[0m\u001b[0;34m(\u001b[0m\u001b[0mparams\u001b[0m\u001b[0;34m)\u001b[0m\u001b[0;34m)\u001b[0m\u001b[0;34m\u001b[0m\u001b[0;34m\u001b[0m\u001b[0m\n",
      "\u001b[0;32m/opt/spark/python/pyspark/ml/wrapper.py\u001b[0m in \u001b[0;36m_transform\u001b[0;34m(self, dataset)\u001b[0m\n\u001b[1;32m    336\u001b[0m     \u001b[0;32mdef\u001b[0m \u001b[0m_transform\u001b[0m\u001b[0;34m(\u001b[0m\u001b[0mself\u001b[0m\u001b[0;34m,\u001b[0m \u001b[0mdataset\u001b[0m\u001b[0;34m)\u001b[0m\u001b[0;34m:\u001b[0m\u001b[0;34m\u001b[0m\u001b[0;34m\u001b[0m\u001b[0m\n\u001b[1;32m    337\u001b[0m         \u001b[0mself\u001b[0m\u001b[0;34m.\u001b[0m\u001b[0m_transfer_params_to_java\u001b[0m\u001b[0;34m(\u001b[0m\u001b[0;34m)\u001b[0m\u001b[0;34m\u001b[0m\u001b[0;34m\u001b[0m\u001b[0m\n\u001b[0;32m--> 338\u001b[0;31m         \u001b[0;32mreturn\u001b[0m \u001b[0mDataFrame\u001b[0m\u001b[0;34m(\u001b[0m\u001b[0mself\u001b[0m\u001b[0;34m.\u001b[0m\u001b[0m_java_obj\u001b[0m\u001b[0;34m.\u001b[0m\u001b[0mtransform\u001b[0m\u001b[0;34m(\u001b[0m\u001b[0mdataset\u001b[0m\u001b[0;34m.\u001b[0m\u001b[0m_jdf\u001b[0m\u001b[0;34m)\u001b[0m\u001b[0;34m,\u001b[0m \u001b[0mdataset\u001b[0m\u001b[0;34m.\u001b[0m\u001b[0msql_ctx\u001b[0m\u001b[0;34m)\u001b[0m\u001b[0;34m\u001b[0m\u001b[0;34m\u001b[0m\u001b[0m\n\u001b[0m\u001b[1;32m    339\u001b[0m \u001b[0;34m\u001b[0m\u001b[0m\n\u001b[1;32m    340\u001b[0m \u001b[0;34m\u001b[0m\u001b[0m\n",
      "\u001b[0;31mAttributeError\u001b[0m: 'str' object has no attribute '_jdf'"
     ]
    }
   ],
   "source": [
    "x = model.transform('man')\n",
    "y = model.transform('woman')\n",
    "cosine_similarity(x, y)\n"
   ]
  },
  {
   "cell_type": "code",
   "execution_count": 20,
   "metadata": {},
   "outputs": [
    {
     "name": "stdout",
     "output_type": "stream",
     "text": [
      "+------------+----------+\n",
      "|        word|similarity|\n",
      "+------------+----------+\n",
      "|   political|   0.72774|\n",
      "|conservatism|   0.63732|\n",
      "+------------+----------+\n",
      "\n"
     ]
    }
   ],
   "source": [
    "from pyspark.sql.functions import format_number as fmt\n",
    "model.findSynonyms(\"politics\", 2).select(\"word\", fmt(\"similarity\", 5).alias(\"similarity\")).show()"
   ]
  },
  {
   "cell_type": "code",
   "execution_count": 22,
   "metadata": {},
   "outputs": [
    {
     "data": {
      "text/plain": [
       "[('fractievoorzitter', 0.7178506851196289),\n",
       " ('entryist', 0.6289839744567871),\n",
       " ('nfp', 0.6286091208457947),\n",
       " ('partys', 0.6178027987480164),\n",
       " ('neo-destour', 0.6160869002342224),\n",
       " ('leader', 0.6095247268676758)]"
      ]
     },
     "execution_count": 22,
     "metadata": {},
     "output_type": "execute_result"
    }
   ],
   "source": [
    "model.findSynonymsArray(\"leadership\", 6)"
   ]
  },
  {
   "cell_type": "code",
   "execution_count": 37,
   "metadata": {},
   "outputs": [
    {
     "name": "stdout",
     "output_type": "stream",
     "text": [
      "+---------+----------+\n",
      "|     word|similarity|\n",
      "+---------+----------+\n",
      "| dolittle|   0.59873|\n",
      "|silurians|   0.59751|\n",
      "| mid-nite|   0.57907|\n",
      "|chronotis|   0.56858|\n",
      "|      sjd|   0.56078|\n",
      "|doctorate|   0.56057|\n",
      "|    juris|   0.55439|\n",
      "+---------+----------+\n",
      "\n"
     ]
    }
   ],
   "source": [
    "model.findSynonyms(\"doctor\", 7).select(\"word\", fmt(\"similarity\", 5).alias(\"similarity\")).show()"
   ]
  },
  {
   "cell_type": "code",
   "execution_count": 23,
   "metadata": {},
   "outputs": [
    {
     "data": {
      "text/plain": [
       "[('woman', 0.7367258071899414),\n",
       " ('spider-plant', 0.6604211926460266),\n",
       " ('girl', 0.6590791940689087),\n",
       " ('handsome', 0.6530117988586426),\n",
       " ('meanest', 0.6431087851524353),\n",
       " ('thief', 0.6402087211608887)]"
      ]
     },
     "execution_count": 23,
     "metadata": {},
     "output_type": "execute_result"
    }
   ],
   "source": [
    "model.findSynonymsArray(\"man\", 6)"
   ]
  },
  {
   "cell_type": "code",
   "execution_count": 25,
   "metadata": {},
   "outputs": [
    {
     "name": "stdout",
     "output_type": "stream",
     "text": [
      "+------------+----------+\n",
      "|        word|similarity|\n",
      "+------------+----------+\n",
      "|    estrogen|   0.83971|\n",
      "|    androgen|   0.82857|\n",
      "|   androgens|   0.82131|\n",
      "|   estradiol|   0.81995|\n",
      "|   prolactin|   0.81540|\n",
      "|progesterone|   0.81341|\n",
      "+------------+----------+\n",
      "\n"
     ]
    }
   ],
   "source": [
    "model.findSynonyms(\"testosterone\", 6).select(\"word\", fmt(\"similarity\", 5).alias(\"similarity\")).show()"
   ]
  },
  {
   "cell_type": "code",
   "execution_count": 26,
   "metadata": {},
   "outputs": [
    {
     "data": {
      "text/plain": [
       "'/home/schen/Desktop/Laura'"
      ]
     },
     "execution_count": 26,
     "metadata": {},
     "output_type": "execute_result"
    }
   ],
   "source": [
    "os.getcwd()"
   ]
  },
  {
   "cell_type": "code",
   "execution_count": 27,
   "metadata": {},
   "outputs": [],
   "source": [
    "test = [\"trump is so great. I love him\", \"Joe Biden for the Win\"]"
   ]
  },
  {
   "cell_type": "code",
   "execution_count": 28,
   "metadata": {},
   "outputs": [
    {
     "name": "stdout",
     "output_type": "stream",
     "text": [
      "+---------------+----------+\n",
      "|           word|similarity|\n",
      "+---------------+----------+\n",
      "|president-elect|   0.82420|\n",
      "| vice-president|   0.79402|\n",
      "|     presidency|   0.77758|\n",
      "| then-president|   0.73219|\n",
      "|     presidents|   0.72987|\n",
      "|           vice|   0.70748|\n",
      "+---------------+----------+\n",
      "\n"
     ]
    }
   ],
   "source": [
    "model.findSynonyms(\"president\", 6).select(\"word\", fmt(\"similarity\", 5).alias(\"similarity\")).show()"
   ]
  },
  {
   "cell_type": "code",
   "execution_count": 34,
   "metadata": {},
   "outputs": [
    {
     "ename": "ModuleNotFoundError",
     "evalue": "No module named 'sklearn'",
     "output_type": "error",
     "traceback": [
      "\u001b[0;31m---------------------------------------------------------------------------\u001b[0m",
      "\u001b[0;31mModuleNotFoundError\u001b[0m                       Traceback (most recent call last)",
      "\u001b[0;32m<ipython-input-34-6764cf81ab0e>\u001b[0m in \u001b[0;36m<module>\u001b[0;34m\u001b[0m\n\u001b[0;32m----> 1\u001b[0;31m \u001b[0;32mfrom\u001b[0m \u001b[0msklearn\u001b[0m\u001b[0;34m.\u001b[0m\u001b[0mmetrics\u001b[0m\u001b[0;34m.\u001b[0m\u001b[0mpairwise\u001b[0m \u001b[0;32mimport\u001b[0m \u001b[0mcosine_similarity\u001b[0m\u001b[0;34m\u001b[0m\u001b[0;34m\u001b[0m\u001b[0m\n\u001b[0m\u001b[1;32m      2\u001b[0m \u001b[0;34m\u001b[0m\u001b[0m\n\u001b[1;32m      3\u001b[0m \u001b[0mcosine_similarity\u001b[0m\u001b[0;34m(\u001b[0m\u001b[0;34m[\u001b[0m\u001b[0;34m[\u001b[0m\u001b[0;36m1\u001b[0m\u001b[0;34m,\u001b[0m\u001b[0;36m0\u001b[0m\u001b[0;34m,\u001b[0m\u001b[0;34m-\u001b[0m\u001b[0;36m1\u001b[0m\u001b[0;34m]\u001b[0m\u001b[0;34m]\u001b[0m\u001b[0;34m,\u001b[0m\u001b[0;34m[\u001b[0m\u001b[0;34m[\u001b[0m\u001b[0;34m-\u001b[0m\u001b[0;36m1\u001b[0m\u001b[0;34m,\u001b[0m \u001b[0;34m-\u001b[0m\u001b[0;36m1\u001b[0m\u001b[0;34m,\u001b[0m \u001b[0;36m0\u001b[0m\u001b[0;34m]\u001b[0m\u001b[0;34m]\u001b[0m\u001b[0;34m)\u001b[0m\u001b[0;34m\u001b[0m\u001b[0;34m\u001b[0m\u001b[0m\n",
      "\u001b[0;31mModuleNotFoundError\u001b[0m: No module named 'sklearn'"
     ]
    }
   ],
   "source": [
    "from sklearn.metrics.pairwise import cosine_similarity\n",
    "\n",
    "cosine_similarity([[1,0,-1]],[[-1, -1, 0]])"
   ]
  },
  {
   "cell_type": "code",
   "execution_count": 33,
   "metadata": {},
   "outputs": [
    {
     "name": "stdout",
     "output_type": "stream",
     "text": [
      "Collecting sklearn\n",
      "  Downloading sklearn-0.0.tar.gz (1.1 kB)\n",
      "Collecting scikit-learn\n",
      "  Downloading scikit_learn-0.23.2-cp38-cp38-manylinux1_x86_64.whl (6.8 MB)\n",
      "\u001b[K     |████████████████████████████████| 6.8 MB 4.1 MB/s eta 0:00:01\n",
      "\u001b[?25hRequirement already satisfied: numpy>=1.13.3 in /usr/lib/python3/dist-packages (from scikit-learn->sklearn) (1.17.4)\n",
      "Requirement already satisfied: scipy>=0.19.1 in /usr/local/lib/python3.8/dist-packages (from scikit-learn->sklearn) (1.5.2)\n",
      "Collecting threadpoolctl>=2.0.0\n",
      "  Downloading threadpoolctl-2.1.0-py3-none-any.whl (12 kB)\n",
      "Collecting joblib>=0.11\n",
      "  Downloading joblib-0.16.0-py3-none-any.whl (300 kB)\n",
      "\u001b[K     |████████████████████████████████| 300 kB 8.2 MB/s eta 0:00:01\n",
      "\u001b[?25hBuilding wheels for collected packages: sklearn\n",
      "  Building wheel for sklearn (setup.py) ... \u001b[?25ldone\n",
      "\u001b[?25h  Created wheel for sklearn: filename=sklearn-0.0-py2.py3-none-any.whl size=1315 sha256=b93f2fd6dd83e185ca27110f6eee718a847dab01edfdf5d92898c322a05e96b9\n",
      "  Stored in directory: /home/schen/.cache/pip/wheels/22/0b/40/fd3f795caaa1fb4c6cb738bc1f56100be1e57da95849bfc897\n",
      "Successfully built sklearn\n",
      "Installing collected packages: threadpoolctl, joblib, scikit-learn, sklearn\n",
      "Successfully installed joblib-0.16.0 scikit-learn-0.23.2 sklearn-0.0 threadpoolctl-2.1.0\n",
      "Note: you may need to restart the kernel to use updated packages.\n"
     ]
    }
   ],
   "source": [
    "pip install sklearn"
   ]
  },
  {
   "cell_type": "code",
   "execution_count": 35,
   "metadata": {},
   "outputs": [],
   "source": [
    "model.save(\"one_million_twoptone\")"
   ]
  },
  {
   "cell_type": "code",
   "execution_count": null,
   "metadata": {},
   "outputs": [],
   "source": []
  }
 ],
 "metadata": {
  "kernelspec": {
   "display_name": "Python 3",
   "language": "python",
   "name": "python3"
  },
  "language_info": {
   "codemirror_mode": {
    "name": "ipython",
    "version": 3
   },
   "file_extension": ".py",
   "mimetype": "text/x-python",
   "name": "python",
   "nbconvert_exporter": "python",
   "pygments_lexer": "ipython3",
   "version": "3.8.2"
  }
 },
 "nbformat": 4,
 "nbformat_minor": 4
}
