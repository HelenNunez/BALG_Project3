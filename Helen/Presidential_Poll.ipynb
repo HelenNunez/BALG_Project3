{
 "cells": [
  {
   "cell_type": "code",
   "execution_count": 21,
   "metadata": {},
   "outputs": [],
   "source": [
    "import pandas as pd\n",
    "import numpy as np"
   ]
  },
  {
   "cell_type": "code",
   "execution_count": 22,
   "metadata": {},
   "outputs": [
    {
     "data": {
      "text/html": [
       "<div>\n",
       "<style scoped>\n",
       "    .dataframe tbody tr th:only-of-type {\n",
       "        vertical-align: middle;\n",
       "    }\n",
       "\n",
       "    .dataframe tbody tr th {\n",
       "        vertical-align: top;\n",
       "    }\n",
       "\n",
       "    .dataframe thead th {\n",
       "        text-align: right;\n",
       "    }\n",
       "</style>\n",
       "<table border=\"1\" class=\"dataframe\">\n",
       "  <thead>\n",
       "    <tr style=\"text-align: right;\">\n",
       "      <th></th>\n",
       "      <th>sample_size</th>\n",
       "      <th>population_full</th>\n",
       "      <th>methodology</th>\n",
       "      <th>candidate_name</th>\n",
       "      <th>candidate_party</th>\n",
       "      <th>pct</th>\n",
       "    </tr>\n",
       "  </thead>\n",
       "  <tbody>\n",
       "    <tr>\n",
       "      <td>0</td>\n",
       "      <td>1860</td>\n",
       "      <td>lv</td>\n",
       "      <td>Online</td>\n",
       "      <td>Joseph R. Biden Jr.</td>\n",
       "      <td>DEM</td>\n",
       "      <td>49.0</td>\n",
       "    </tr>\n",
       "    <tr>\n",
       "      <td>1</td>\n",
       "      <td>1860</td>\n",
       "      <td>lv</td>\n",
       "      <td>Online</td>\n",
       "      <td>Donald Trump</td>\n",
       "      <td>REP</td>\n",
       "      <td>39.0</td>\n",
       "    </tr>\n",
       "    <tr>\n",
       "      <td>2</td>\n",
       "      <td>1860</td>\n",
       "      <td>lv</td>\n",
       "      <td>Online</td>\n",
       "      <td>Jo Jorgensen</td>\n",
       "      <td>LIB</td>\n",
       "      <td>1.0</td>\n",
       "    </tr>\n",
       "    <tr>\n",
       "      <td>3</td>\n",
       "      <td>1860</td>\n",
       "      <td>lv</td>\n",
       "      <td>Online</td>\n",
       "      <td>Howie Hawkins</td>\n",
       "      <td>GRE</td>\n",
       "      <td>1.0</td>\n",
       "    </tr>\n",
       "    <tr>\n",
       "      <td>4</td>\n",
       "      <td>672</td>\n",
       "      <td>lv</td>\n",
       "      <td>Online</td>\n",
       "      <td>Joseph R. Biden Jr.</td>\n",
       "      <td>DEM</td>\n",
       "      <td>49.0</td>\n",
       "    </tr>\n",
       "    <tr>\n",
       "      <td>...</td>\n",
       "      <td>...</td>\n",
       "      <td>...</td>\n",
       "      <td>...</td>\n",
       "      <td>...</td>\n",
       "      <td>...</td>\n",
       "      <td>...</td>\n",
       "    </tr>\n",
       "    <tr>\n",
       "      <td>6109</td>\n",
       "      <td>648</td>\n",
       "      <td>v</td>\n",
       "      <td>Automated Phone</td>\n",
       "      <td>Donald Trump</td>\n",
       "      <td>REP</td>\n",
       "      <td>46.0</td>\n",
       "    </tr>\n",
       "    <tr>\n",
       "      <td>6110</td>\n",
       "      <td>648</td>\n",
       "      <td>v</td>\n",
       "      <td>Automated Phone</td>\n",
       "      <td>Elizabeth Warren</td>\n",
       "      <td>DEM</td>\n",
       "      <td>43.0</td>\n",
       "    </tr>\n",
       "    <tr>\n",
       "      <td>6111</td>\n",
       "      <td>648</td>\n",
       "      <td>v</td>\n",
       "      <td>Automated Phone</td>\n",
       "      <td>Donald Trump</td>\n",
       "      <td>REP</td>\n",
       "      <td>49.0</td>\n",
       "    </tr>\n",
       "    <tr>\n",
       "      <td>6112</td>\n",
       "      <td>1000</td>\n",
       "      <td>lv</td>\n",
       "      <td>IVR/Online</td>\n",
       "      <td>Michelle Obama</td>\n",
       "      <td>DEM</td>\n",
       "      <td>50.0</td>\n",
       "    </tr>\n",
       "    <tr>\n",
       "      <td>6113</td>\n",
       "      <td>1000</td>\n",
       "      <td>lv</td>\n",
       "      <td>IVR/Online</td>\n",
       "      <td>Donald Trump</td>\n",
       "      <td>REP</td>\n",
       "      <td>43.0</td>\n",
       "    </tr>\n",
       "  </tbody>\n",
       "</table>\n",
       "<p>6114 rows × 6 columns</p>\n",
       "</div>"
      ],
      "text/plain": [
       "      sample_size population_full      methodology       candidate_name  \\\n",
       "0            1860              lv           Online  Joseph R. Biden Jr.   \n",
       "1            1860              lv           Online         Donald Trump   \n",
       "2            1860              lv           Online         Jo Jorgensen   \n",
       "3            1860              lv           Online        Howie Hawkins   \n",
       "4             672              lv           Online  Joseph R. Biden Jr.   \n",
       "...           ...             ...              ...                  ...   \n",
       "6109          648               v  Automated Phone         Donald Trump   \n",
       "6110          648               v  Automated Phone     Elizabeth Warren   \n",
       "6111          648               v  Automated Phone         Donald Trump   \n",
       "6112         1000              lv       IVR/Online       Michelle Obama   \n",
       "6113         1000              lv       IVR/Online         Donald Trump   \n",
       "\n",
       "     candidate_party   pct  \n",
       "0                DEM  49.0  \n",
       "1                REP  39.0  \n",
       "2                LIB   1.0  \n",
       "3                GRE   1.0  \n",
       "4                DEM  49.0  \n",
       "...              ...   ...  \n",
       "6109             REP  46.0  \n",
       "6110             DEM  43.0  \n",
       "6111             REP  49.0  \n",
       "6112             DEM  50.0  \n",
       "6113             REP  43.0  \n",
       "\n",
       "[6114 rows x 6 columns]"
      ]
     },
     "execution_count": 22,
     "metadata": {},
     "output_type": "execute_result"
    }
   ],
   "source": [
    "DataSet1 = \"president_polls.csv\"\n",
    "DataSet1 = pd.read_csv(DataSet1)\n",
    "President_Poll = DataSet1[[\"sample_size\", \"population_full\", \"methodology\", \"candidate_name\", \"candidate_party\", \"pct\"]]\n",
    "President_Poll"
   ]
  },
  {
   "cell_type": "code",
   "execution_count": null,
   "metadata": {},
   "outputs": [],
   "source": []
  },
  {
   "cell_type": "code",
   "execution_count": 23,
   "metadata": {},
   "outputs": [
    {
     "name": "stdout",
     "output_type": "stream",
     "text": [
      "<class 'pandas.core.frame.DataFrame'>\n",
      "RangeIndex: 6114 entries, 0 to 6113\n",
      "Data columns (total 6 columns):\n",
      "sample_size        6114 non-null int64\n",
      "population_full    6114 non-null object\n",
      "methodology        6104 non-null object\n",
      "candidate_name     6114 non-null object\n",
      "candidate_party    6114 non-null object\n",
      "pct                6114 non-null float64\n",
      "dtypes: float64(1), int64(1), object(4)\n",
      "memory usage: 286.7+ KB\n"
     ]
    }
   ],
   "source": [
    "#check columns and data types\n",
    "President_Poll.info()"
   ]
  },
  {
   "cell_type": "code",
   "execution_count": 24,
   "metadata": {},
   "outputs": [],
   "source": [
    "#Remove duplicates based on Name, City, and State\n",
    "#concat_df = concat_df.drop_duplicates(subset = [\"Victim's name\",\"City\", \"State\"])"
   ]
  },
  {
   "cell_type": "code",
   "execution_count": 25,
   "metadata": {},
   "outputs": [
    {
     "data": {
      "text/plain": [
       "Online                    2955\n",
       "Live Phone                1705\n",
       "IVR/Online                 586\n",
       "Live Phone/Online          198\n",
       "IVR/Text                   184\n",
       "Online/IVR                 137\n",
       "Live Phone/Text            110\n",
       "Automated Phone             75\n",
       "IVR/Live Phone              59\n",
       "Online/Text                 56\n",
       "IVR/Online/Text             25\n",
       "Live Phone/Online/Text      10\n",
       "Text                         4\n",
       "Name: methodology, dtype: int64"
      ]
     },
     "execution_count": 25,
     "metadata": {},
     "output_type": "execute_result"
    }
   ],
   "source": [
    "President_Poll[\"methodology\"].value_counts()"
   ]
  },
  {
   "cell_type": "code",
   "execution_count": 26,
   "metadata": {},
   "outputs": [
    {
     "data": {
      "text/plain": [
       "Online                    2955\n",
       "Live Phone                1705\n",
       "IVR/Online                 723\n",
       "Live Phone/Online          198\n",
       "IVR/Text                   184\n",
       "Live Phone/Text            110\n",
       "IVR                         75\n",
       "IVR/Live Phone              59\n",
       "Online/Text                 56\n",
       "IVR/Online/Text             25\n",
       "Live Phone/Online/Text      10\n",
       "Text                         4\n",
       "Name: methodology, dtype: int64"
      ]
     },
     "execution_count": 26,
     "metadata": {},
     "output_type": "execute_result"
    }
   ],
   "source": [
    "#Change \"True\" values to \"Yes\" for normalization, etc\n",
    "President_Poll.loc[President_Poll[\"methodology\"]==\"Online/IVR\", \"methodology\"] = \"IVR/Online\"\n",
    "President_Poll.loc[President_Poll[\"methodology\"]==\"Automated Phone\", \"methodology\"] = \"IVR\"\n",
    "President_Poll[\"methodology\"].value_counts()"
   ]
  },
  {
   "cell_type": "code",
   "execution_count": 27,
   "metadata": {},
   "outputs": [
    {
     "data": {
      "text/plain": [
       "rv    3565\n",
       "lv    1950\n",
       "a      425\n",
       "v      174\n",
       "Name: population_full, dtype: int64"
      ]
     },
     "execution_count": 27,
     "metadata": {},
     "output_type": "execute_result"
    }
   ],
   "source": [
    "President_Poll[\"population_full\"].value_counts()"
   ]
  },
  {
   "cell_type": "code",
   "execution_count": 28,
   "metadata": {},
   "outputs": [
    {
     "data": {
      "text/plain": [
       "Donald Trump                2901\n",
       "Joseph R. Biden Jr.         1379\n",
       "Bernard Sanders              436\n",
       "Elizabeth Warren             349\n",
       "Pete Buttigieg               234\n",
       "Kamala D. Harris             152\n",
       "Michael Bloomberg            104\n",
       "Amy Klobuchar                 77\n",
       "Jo Jorgensen                  67\n",
       "Beto O'Rourke                 59\n",
       "Howie Hawkins                 51\n",
       "Mike Pence                    48\n",
       "Cory A. Booker                34\n",
       "Howard Schultz                30\n",
       "Nimrata R. Haley              20\n",
       "Julián Castro                 17\n",
       "Andrew Yang                   16\n",
       "Kanye West                    13\n",
       "Justin Amash                  13\n",
       "Tom Steyer                    12\n",
       "Kirsten E. Gillibrand         11\n",
       "Tulsi Gabbard                 10\n",
       "Marianne Williamson            8\n",
       "John K. Delaney                7\n",
       "John Hickenlooper              6\n",
       "Jay Robert Inslee              6\n",
       "Bill de Blasio                 5\n",
       "Michelle Obama                 5\n",
       "Wayne Messam                   5\n",
       "Seth Moulton                   4\n",
       "Hillary Rodham Clinton         4\n",
       "Steve Bullock                  4\n",
       "Mike Gravel                    4\n",
       "Michael F. Bennet              3\n",
       "Oprah Winfrey                  3\n",
       "Sherrod Brown                  3\n",
       "Eric Swalwell                  3\n",
       "Nancy Pelosi                   2\n",
       "Tim Ryan                       2\n",
       "Jacob Hornberger               1\n",
       "Don Blankenship                1\n",
       "Megan Rapinoe                  1\n",
       "Barack Obama                   1\n",
       "Andrew Cuomo                   1\n",
       "Alexandria Ocasio-Cortez       1\n",
       "Charles E. Schumer             1\n",
       "Name: candidate_name, dtype: int64"
      ]
     },
     "execution_count": 28,
     "metadata": {},
     "output_type": "execute_result"
    }
   ],
   "source": [
    "President_Poll[\"candidate_name\"].value_counts()"
   ]
  },
  {
   "cell_type": "code",
   "execution_count": 29,
   "metadata": {},
   "outputs": [],
   "source": [
    "President_Poll.to_csv(r'Cleaned_Presidential_Poll.csv', index = False)"
   ]
  }
 ],
 "metadata": {
  "kernelspec": {
   "display_name": "Python 3",
   "language": "python",
   "name": "python3"
  },
  "language_info": {
   "codemirror_mode": {
    "name": "ipython",
    "version": 3
   },
   "file_extension": ".py",
   "mimetype": "text/x-python",
   "name": "python",
   "nbconvert_exporter": "python",
   "pygments_lexer": "ipython3",
   "version": "3.7.4"
  }
 },
 "nbformat": 4,
 "nbformat_minor": 4
}
