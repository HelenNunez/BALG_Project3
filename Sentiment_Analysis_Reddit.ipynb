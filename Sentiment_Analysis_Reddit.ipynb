{
  "nbformat": 4,
  "nbformat_minor": 0,
  "metadata": {
    "kernelspec": {
      "display_name": "Python 3",
      "language": "python",
      "name": "python3"
    },
    "language_info": {
      "codemirror_mode": {
        "name": "ipython",
        "version": 3
      },
      "file_extension": ".py",
      "mimetype": "text/x-python",
      "name": "python",
      "nbconvert_exporter": "python",
      "pygments_lexer": "ipython3",
      "version": "3.7.4"
    },
    "colab": {
      "name": "Copy of reddit_api_code.ipynb",
      "provenance": [],
      "collapsed_sections": [],
      "toc_visible": true,
      "include_colab_link": true
    }
  },
  "cells": [
    {
      "cell_type": "markdown",
      "metadata": {
        "id": "view-in-github",
        "colab_type": "text"
      },
      "source": [
        "<a href=\"https://colab.research.google.com/github/HelenNunez/BALG_Project3/blob/aranza4/Sentiment_Analysis_Reddit.ipynb\" target=\"_parent\"><img src=\"https://colab.research.google.com/assets/colab-badge.svg\" alt=\"Open In Colab\"/></a>"
      ]
    },
    {
      "cell_type": "markdown",
      "metadata": {
        "id": "4ubx7NKTiexR",
        "colab_type": "text"
      },
      "source": [
        "# Reddit API Code"
      ]
    },
    {
      "cell_type": "markdown",
      "metadata": {
        "id": "2--GfleXiexS",
        "colab_type": "text"
      },
      "source": [
        "random notes on machine learning:\n",
        "naive: we could test every word in sentence and average closeness of every word\n",
        "- it kind of takes into account the negative word\n",
        "\n",
        "we'll use yelp 100K for practice\n",
        "use something much more general and significantly larger\n",
        "\n",
        "standard training datasets for natural language processing\n",
        "- clustering\n",
        "maybe can get something directly from tensorflow --this is the library we used for neural networks"
      ]
    },
    {
      "cell_type": "code",
      "metadata": {
        "id": "qrsexOrliexT",
        "colab_type": "code",
        "colab": {
          "base_uri": "https://localhost:8080/",
          "height": 187
        },
        "outputId": "ec18085b-40e6-4e49-add2-f7157b3f7d2e"
      },
      "source": [
        "pip install psaw\n"
      ],
      "execution_count": 4,
      "outputs": [
        {
          "output_type": "stream",
          "text": [
            "Collecting psaw\n",
            "  Downloading https://files.pythonhosted.org/packages/a2/ad/ba88c5004a6e3434c032a605685d90eb3ad3de355d7ee26869124bf3be73/psaw-0.0.12-py3-none-any.whl\n",
            "Requirement already satisfied: Click in /usr/local/lib/python3.6/dist-packages (from psaw) (7.1.2)\n",
            "Requirement already satisfied: requests in /usr/local/lib/python3.6/dist-packages (from psaw) (2.23.0)\n",
            "Requirement already satisfied: idna<3,>=2.5 in /usr/local/lib/python3.6/dist-packages (from requests->psaw) (2.10)\n",
            "Requirement already satisfied: certifi>=2017.4.17 in /usr/local/lib/python3.6/dist-packages (from requests->psaw) (2020.6.20)\n",
            "Requirement already satisfied: urllib3!=1.25.0,!=1.25.1,<1.26,>=1.21.1 in /usr/local/lib/python3.6/dist-packages (from requests->psaw) (1.24.3)\n",
            "Requirement already satisfied: chardet<4,>=3.0.2 in /usr/local/lib/python3.6/dist-packages (from requests->psaw) (3.0.4)\n",
            "Installing collected packages: psaw\n",
            "Successfully installed psaw-0.0.12\n"
          ],
          "name": "stdout"
        }
      ]
    },
    {
      "cell_type": "code",
      "metadata": {
        "id": "Rxzzxn7PiexX",
        "colab_type": "code",
        "colab": {}
      },
      "source": [
        "from psaw import PushshiftAPI\n",
        "import json\n",
        "import datetime as dt\n",
        "import pandas as pd\n",
        "from pprint import pprint\n",
        "import matplotlib.pyplot as plt\n",
        "from wordcloud import WordCloud, STOPWORDS"
      ],
      "execution_count": 5,
      "outputs": []
    },
    {
      "cell_type": "code",
      "metadata": {
        "id": "OrUdvknEiexa",
        "colab_type": "code",
        "colab": {}
      },
      "source": [
        "# Setup API instance\n",
        "api = PushshiftAPI()"
      ],
      "execution_count": 6,
      "outputs": []
    },
    {
      "cell_type": "code",
      "metadata": {
        "id": "uL8O3Sfkiexc",
        "colab_type": "code",
        "colab": {}
      },
      "source": [
        "# # Set start time to search after\n",
        "# start = dt.datetime(2020, 4, 8)\n",
        "# end = dt.datetime(2020, 8, 19)\n",
        "\n",
        "# data = []\n",
        "# comments = []\n",
        "# hours=24\n",
        "\n",
        "# search_query = 'election&2020'\n",
        "\n",
        "# before = (start + dt.timedelta(hours=hours))\n",
        "# #print(f'Working on {start} - {end}')\n",
        "    \n",
        "#     # Get query iterator\n",
        "# response = api.search_comments(q=search_query,\n",
        "#                                after=int(start.timestamp()),\n",
        "#                                before=int(before.timestamp()))\n",
        "\n",
        "# for x in response:\n",
        "#     data.append(x.d_) #split \"response\" into its dictionaries\n",
        "\n",
        "\n",
        "# pprint(data)"
      ],
      "execution_count": 7,
      "outputs": []
    },
    {
      "cell_type": "code",
      "metadata": {
        "id": "VQUXGh4Aiex0",
        "colab_type": "code",
        "colab": {
          "base_uri": "https://localhost:8080/",
          "height": 1000
        },
        "outputId": "f3377cb7-105f-4a70-8e9c-4f02d32df328"
      },
      "source": [
        "#TRUMP API REDDIT COMMENTS\n",
        "trump_data = []\n",
        "start = dt.datetime(2020, 7, 24)\n",
        "end = dt.datetime(2020, 8, 24)\n",
        "hours=24\n",
        "comment_count = []\n",
        "count = 0\n",
        "\n",
        "search_query = 'Donald Trump'\n",
        "after = start\n",
        "\n",
        "# Loop until we hit end of time range\n",
        "while after < end:\n",
        "    before = (after + dt.timedelta(hours=hours))\n",
        "\n",
        "    print(f'Working on {after} - {before}')\n",
        "    \n",
        "    # Get query iterator\n",
        "    response = api.search_comments(q=search_query,\n",
        "                                   after=int(after.timestamp()),\n",
        "                                   before=int(before.timestamp())\n",
        "                                  )\n",
        "    \n",
        "    #split \"response\" into its dictionaries, count comments\n",
        "    for x in response:\n",
        "        trump_data.append(x.d_) \n",
        "        count = count +1\n",
        "    comment_count.append(count)\n",
        "    print(f'Comments Made Today: {count}')\n",
        "    \n",
        "\n",
        "    # Update to next time slice\n",
        "    after = after + dt.timedelta(hours=hours)\n",
        "    count = 0"
      ],
      "execution_count": 8,
      "outputs": [
        {
          "output_type": "stream",
          "text": [
            "Working on 2020-07-24 00:00:00 - 2020-07-25 00:00:00\n"
          ],
          "name": "stdout"
        },
        {
          "output_type": "stream",
          "text": [
            "/usr/local/lib/python3.6/dist-packages/psaw/PushshiftAPI.py:192: UserWarning: Got non 200 code 429\n",
            "  warnings.warn(\"Got non 200 code %s\" % response.status_code)\n",
            "/usr/local/lib/python3.6/dist-packages/psaw/PushshiftAPI.py:180: UserWarning: Unable to connect to pushshift.io. Retrying after backoff.\n",
            "  warnings.warn(\"Unable to connect to pushshift.io. Retrying after backoff.\")\n"
          ],
          "name": "stderr"
        },
        {
          "output_type": "stream",
          "text": [
            "Comments Made Today: 2647\n",
            "Working on 2020-07-25 00:00:00 - 2020-07-26 00:00:00\n",
            "Comments Made Today: 1919\n",
            "Working on 2020-07-26 00:00:00 - 2020-07-27 00:00:00\n",
            "Comments Made Today: 1850\n",
            "Working on 2020-07-27 00:00:00 - 2020-07-28 00:00:00\n",
            "Comments Made Today: 2449\n",
            "Working on 2020-07-28 00:00:00 - 2020-07-29 00:00:00\n",
            "Comments Made Today: 2679\n",
            "Working on 2020-07-29 00:00:00 - 2020-07-30 00:00:00\n",
            "Comments Made Today: 2738\n",
            "Working on 2020-07-30 00:00:00 - 2020-07-31 00:00:00\n",
            "Comments Made Today: 3096\n",
            "Working on 2020-07-31 00:00:00 - 2020-08-01 00:00:00\n",
            "Comments Made Today: 2672\n",
            "Working on 2020-08-01 00:00:00 - 2020-08-02 00:00:00\n",
            "Comments Made Today: 2432\n",
            "Working on 2020-08-02 00:00:00 - 2020-08-03 00:00:00\n",
            "Comments Made Today: 2397\n",
            "Working on 2020-08-03 00:00:00 - 2020-08-04 00:00:00\n",
            "Comments Made Today: 2730\n",
            "Working on 2020-08-04 00:00:00 - 2020-08-05 00:00:00\n",
            "Comments Made Today: 3735\n",
            "Working on 2020-08-05 00:00:00 - 2020-08-06 00:00:00\n",
            "Comments Made Today: 2832\n",
            "Working on 2020-08-06 00:00:00 - 2020-08-07 00:00:00\n",
            "Comments Made Today: 2930\n",
            "Working on 2020-08-07 00:00:00 - 2020-08-08 00:00:00\n",
            "Comments Made Today: 2832\n",
            "Working on 2020-08-08 00:00:00 - 2020-08-09 00:00:00\n",
            "Comments Made Today: 2287\n",
            "Working on 2020-08-09 00:00:00 - 2020-08-10 00:00:00\n",
            "Comments Made Today: 1875\n",
            "Working on 2020-08-10 00:00:00 - 2020-08-11 00:00:00\n",
            "Comments Made Today: 2397\n",
            "Working on 2020-08-11 00:00:00 - 2020-08-12 00:00:00\n",
            "Comments Made Today: 3189\n",
            "Working on 2020-08-12 00:00:00 - 2020-08-13 00:00:00\n",
            "Comments Made Today: 3137\n",
            "Working on 2020-08-13 00:00:00 - 2020-08-14 00:00:00\n",
            "Comments Made Today: 3045\n",
            "Working on 2020-08-14 00:00:00 - 2020-08-15 00:00:00\n",
            "Comments Made Today: 3107\n",
            "Working on 2020-08-15 00:00:00 - 2020-08-16 00:00:00\n",
            "Comments Made Today: 2310\n",
            "Working on 2020-08-16 00:00:00 - 2020-08-17 00:00:00\n",
            "Comments Made Today: 2720\n",
            "Working on 2020-08-17 00:00:00 - 2020-08-18 00:00:00\n",
            "Comments Made Today: 2706\n",
            "Working on 2020-08-18 00:00:00 - 2020-08-19 00:00:00\n",
            "Comments Made Today: 3652\n",
            "Working on 2020-08-19 00:00:00 - 2020-08-20 00:00:00\n",
            "Comments Made Today: 3013\n",
            "Working on 2020-08-20 00:00:00 - 2020-08-21 00:00:00\n",
            "Comments Made Today: 3452\n",
            "Working on 2020-08-21 00:00:00 - 2020-08-22 00:00:00\n",
            "Comments Made Today: 3250\n",
            "Working on 2020-08-22 00:00:00 - 2020-08-23 00:00:00\n",
            "Comments Made Today: 2270\n",
            "Working on 2020-08-23 00:00:00 - 2020-08-24 00:00:00\n",
            "Comments Made Today: 2392\n"
          ],
          "name": "stdout"
        }
      ]
    },
    {
      "cell_type": "code",
      "metadata": {
        "id": "VPWwME7LqPpX",
        "colab_type": "code",
        "colab": {
          "base_uri": "https://localhost:8080/",
          "height": 1000
        },
        "outputId": "91d94bff-2a18-481e-c68e-627764b56095"
      },
      "source": [
        "#BIDEN API REDDIT COMMENTS\n",
        "biden_data = []\n",
        "start = dt.datetime(2020, 7, 24)\n",
        "end = dt.datetime(2020, 8, 24)\n",
        "hours=24\n",
        "comment_count = []\n",
        "count = 0\n",
        "\n",
        "search_query = 'Joe Biden'\n",
        "after = start\n",
        "\n",
        "# Loop until we hit end of time range\n",
        "while after < end:\n",
        "    before = (after + dt.timedelta(hours=hours))\n",
        "\n",
        "    print(f'Working on {after} - {before}')\n",
        "    \n",
        "    # Get query iterator\n",
        "    response = api.search_comments(q=search_query,\n",
        "                                   after=int(after.timestamp()),\n",
        "                                   before=int(before.timestamp())\n",
        "                                  )\n",
        "    \n",
        "    #split \"response\" into its dictionaries, count comments\n",
        "    for x in response:\n",
        "        biden_data.append(x.d_) \n",
        "        count = count +1\n",
        "    comment_count.append(count)\n",
        "    print(f'Comments Made Today: {count}')\n",
        "    \n",
        "\n",
        "    # Update to next time slice\n",
        "    after = after + dt.timedelta(hours=hours)\n",
        "    count = 0"
      ],
      "execution_count": 10,
      "outputs": [
        {
          "output_type": "stream",
          "text": [
            "Working on 2020-07-24 00:00:00 - 2020-07-25 00:00:00\n",
            "Comments Made Today: 1199\n",
            "Working on 2020-07-25 00:00:00 - 2020-07-26 00:00:00\n",
            "Comments Made Today: 1072\n",
            "Working on 2020-07-26 00:00:00 - 2020-07-27 00:00:00\n"
          ],
          "name": "stdout"
        },
        {
          "output_type": "stream",
          "text": [
            "/usr/local/lib/python3.6/dist-packages/psaw/PushshiftAPI.py:192: UserWarning: Got non 200 code 429\n",
            "  warnings.warn(\"Got non 200 code %s\" % response.status_code)\n",
            "/usr/local/lib/python3.6/dist-packages/psaw/PushshiftAPI.py:180: UserWarning: Unable to connect to pushshift.io. Retrying after backoff.\n",
            "  warnings.warn(\"Unable to connect to pushshift.io. Retrying after backoff.\")\n"
          ],
          "name": "stderr"
        },
        {
          "output_type": "stream",
          "text": [
            "Comments Made Today: 1010\n",
            "Working on 2020-07-27 00:00:00 - 2020-07-28 00:00:00\n",
            "Comments Made Today: 1228\n",
            "Working on 2020-07-28 00:00:00 - 2020-07-29 00:00:00\n",
            "Comments Made Today: 1298\n",
            "Working on 2020-07-29 00:00:00 - 2020-07-30 00:00:00\n",
            "Comments Made Today: 1326\n",
            "Working on 2020-07-30 00:00:00 - 2020-07-31 00:00:00\n",
            "Comments Made Today: 1572\n",
            "Working on 2020-07-31 00:00:00 - 2020-08-01 00:00:00\n",
            "Comments Made Today: 1455\n",
            "Working on 2020-08-01 00:00:00 - 2020-08-02 00:00:00\n",
            "Comments Made Today: 1074\n",
            "Working on 2020-08-02 00:00:00 - 2020-08-03 00:00:00\n",
            "Comments Made Today: 1085\n",
            "Working on 2020-08-03 00:00:00 - 2020-08-04 00:00:00\n",
            "Comments Made Today: 1231\n",
            "Working on 2020-08-04 00:00:00 - 2020-08-05 00:00:00\n",
            "Comments Made Today: 1626\n",
            "Working on 2020-08-05 00:00:00 - 2020-08-06 00:00:00\n",
            "Comments Made Today: 1683\n",
            "Working on 2020-08-06 00:00:00 - 2020-08-07 00:00:00\n",
            "Comments Made Today: 1892\n",
            "Working on 2020-08-07 00:00:00 - 2020-08-08 00:00:00\n",
            "Comments Made Today: 2177\n",
            "Working on 2020-08-08 00:00:00 - 2020-08-09 00:00:00\n",
            "Comments Made Today: 1713\n",
            "Working on 2020-08-09 00:00:00 - 2020-08-10 00:00:00\n",
            "Comments Made Today: 1193\n",
            "Working on 2020-08-10 00:00:00 - 2020-08-11 00:00:00\n",
            "Comments Made Today: 1436\n",
            "Working on 2020-08-11 00:00:00 - 2020-08-12 00:00:00\n",
            "Comments Made Today: 3005\n",
            "Working on 2020-08-12 00:00:00 - 2020-08-13 00:00:00\n",
            "Comments Made Today: 3555\n",
            "Working on 2020-08-13 00:00:00 - 2020-08-14 00:00:00\n",
            "Comments Made Today: 2458\n",
            "Working on 2020-08-14 00:00:00 - 2020-08-15 00:00:00\n",
            "Comments Made Today: 1973\n",
            "Working on 2020-08-15 00:00:00 - 2020-08-16 00:00:00\n",
            "Comments Made Today: 1390\n",
            "Working on 2020-08-16 00:00:00 - 2020-08-17 00:00:00\n",
            "Comments Made Today: 1335\n",
            "Working on 2020-08-17 00:00:00 - 2020-08-18 00:00:00\n",
            "Comments Made Today: 1628\n",
            "Working on 2020-08-18 00:00:00 - 2020-08-19 00:00:00\n",
            "Comments Made Today: 2490\n",
            "Working on 2020-08-19 00:00:00 - 2020-08-20 00:00:00\n",
            "Comments Made Today: 2354\n",
            "Working on 2020-08-20 00:00:00 - 2020-08-21 00:00:00\n",
            "Comments Made Today: 2192\n",
            "Working on 2020-08-21 00:00:00 - 2020-08-22 00:00:00\n",
            "Comments Made Today: 3251\n",
            "Working on 2020-08-22 00:00:00 - 2020-08-23 00:00:00\n",
            "Comments Made Today: 1786\n",
            "Working on 2020-08-23 00:00:00 - 2020-08-24 00:00:00\n",
            "Comments Made Today: 1404\n"
          ],
          "name": "stdout"
        }
      ]
    },
    {
      "cell_type": "code",
      "metadata": {
        "id": "b6Tey-kVaFfI",
        "colab_type": "code",
        "colab": {}
      },
      "source": [
        "trump_df = pd.DataFrame([item for item in trump_data])"
      ],
      "execution_count": null,
      "outputs": []
    },
    {
      "cell_type": "code",
      "metadata": {
        "id": "qQj_oBipZ8n_",
        "colab_type": "code",
        "colab": {}
      },
      "source": [
        "biden_df = pd.DataFrame([item for item in data])"
      ],
      "execution_count": null,
      "outputs": []
    },
    {
      "cell_type": "code",
      "metadata": {
        "id": "Qcv9D_dNFqLN",
        "colab_type": "code",
        "colab": {
          "base_uri": "https://localhost:8080/",
          "height": 122
        },
        "outputId": "766fa2ec-516f-4bfd-d4e3-8af12b039f9d"
      },
      "source": [
        "from google.colab import drive\n",
        "drive.mount('/content/drive')"
      ],
      "execution_count": 2,
      "outputs": [
        {
          "output_type": "stream",
          "text": [
            "Go to this URL in a browser: https://accounts.google.com/o/oauth2/auth?client_id=947318989803-6bn6qk8qdgf4n4g3pfee6491hc0brc4i.apps.googleusercontent.com&redirect_uri=urn%3aietf%3awg%3aoauth%3a2.0%3aoob&scope=email%20https%3a%2f%2fwww.googleapis.com%2fauth%2fdocs.test%20https%3a%2f%2fwww.googleapis.com%2fauth%2fdrive%20https%3a%2f%2fwww.googleapis.com%2fauth%2fdrive.photos.readonly%20https%3a%2f%2fwww.googleapis.com%2fauth%2fpeopleapi.readonly&response_type=code\n",
            "\n",
            "Enter your authorization code:\n",
            "··········\n",
            "Mounted at /content/drive\n"
          ],
          "name": "stdout"
        }
      ]
    },
    {
      "cell_type": "code",
      "metadata": {
        "id": "NIQS6Dm9WrzS",
        "colab_type": "code",
        "colab": {}
      },
      "source": [
        "!cp /content/drive/My\\ Drive/BALG_GoogleDriveLN -r /content/ "
      ],
      "execution_count": 13,
      "outputs": []
    },
    {
      "cell_type": "code",
      "metadata": {
        "id": "qK5BlBeuiexn",
        "colab_type": "code",
        "colab": {}
      },
      "source": [
        "trump_df.columns\n",
        "trump_reddit_comments =trump_df[['associated_award', 'author',\n",
        "       'author_fullname', 'author_premium', 'awarders',\n",
        "       'body', 'collapsed_because_crowd_control', 'created_utc', 'gildings',\n",
        "       'id', 'is_submitter', 'link_id', 'locked', 'no_follow', 'parent_id',\n",
        "       'permalink', 'retrieved_on', 'score', 'send_replies', 'stickied',\n",
        "       'subreddit', 'subreddit_id', 'total_awards_received', 'created',\n",
        "       'edited', 'author_cakeday', 'distinguished', 'treatment_tags']]\n",
        "\n",
        "trump_reddit_comments\n",
        "trump_reddit_comments.to_csv('/content/trump_reddit_pull_test.csv')"
      ],
      "execution_count": 14,
      "outputs": []
    },
    {
      "cell_type": "code",
      "metadata": {
        "id": "N1o-odGNqeMO",
        "colab_type": "code",
        "colab": {}
      },
      "source": [
        "biden_df.columns\n",
        "biden_reddit_comments = biden_df[['associated_award', 'author',\n",
        "       'author_fullname', 'author_premium', 'awarders',\n",
        "       'body', 'collapsed_because_crowd_control', 'created_utc', 'gildings',\n",
        "       'id', 'is_submitter', 'link_id', 'locked', 'no_follow', 'parent_id',\n",
        "       'permalink', 'retrieved_on', 'score', 'send_replies', 'stickied',\n",
        "       'subreddit', 'subreddit_id', 'total_awards_received', 'created',\n",
        "       'edited', 'author_cakeday', 'distinguished', 'treatment_tags']]\n",
        "\n",
        "biden_reddit_comments\n",
        "biden_reddit_comments.to_csv('/content/biden_reddit_pull_test.csv')"
      ],
      "execution_count": 16,
      "outputs": []
    },
    {
      "cell_type": "code",
      "metadata": {
        "id": "sqPKX14eFm84",
        "colab_type": "code",
        "colab": {
          "base_uri": "https://localhost:8080/",
          "height": 51
        },
        "outputId": "b052e95e-ea50-4f21-fdf7-a45b7ae88f16"
      },
      "source": [
        "# Read School and Student Data File and store into Pandas Data Frames\n",
        "trump_data = pd.read_csv('/content/trump_reddit_pull_test.csv')\n",
        "biden_data = pd.read_csv('/content/biden_reddit_pull_test.csv')\n"
      ],
      "execution_count": 17,
      "outputs": [
        {
          "output_type": "stream",
          "text": [
            "/usr/local/lib/python3.6/dist-packages/IPython/core/interactiveshell.py:2718: DtypeWarning: Columns (1) have mixed types.Specify dtype option on import or set low_memory=False.\n",
            "  interactivity=interactivity, compiler=compiler, result=result)\n"
          ],
          "name": "stderr"
        }
      ]
    },
    {
      "cell_type": "code",
      "metadata": {
        "id": "JT8a-d711ZAY",
        "colab_type": "code",
        "colab": {
          "base_uri": "https://localhost:8080/",
          "height": 238
        },
        "outputId": "7585181e-7a1b-4fbe-bcac-8aaacfdd29c7"
      },
      "source": [
        "pip install pyspark"
      ],
      "execution_count": 18,
      "outputs": [
        {
          "output_type": "stream",
          "text": [
            "Collecting pyspark\n",
            "\u001b[?25l  Downloading https://files.pythonhosted.org/packages/8e/b0/bf9020b56492281b9c9d8aae8f44ff51e1bc91b3ef5a884385cb4e389a40/pyspark-3.0.0.tar.gz (204.7MB)\n",
            "\u001b[K     |████████████████████████████████| 204.7MB 59kB/s \n",
            "\u001b[?25hCollecting py4j==0.10.9\n",
            "\u001b[?25l  Downloading https://files.pythonhosted.org/packages/9e/b6/6a4fb90cd235dc8e265a6a2067f2a2c99f0d91787f06aca4bcf7c23f3f80/py4j-0.10.9-py2.py3-none-any.whl (198kB)\n",
            "\u001b[K     |████████████████████████████████| 204kB 33.9MB/s \n",
            "\u001b[?25hBuilding wheels for collected packages: pyspark\n",
            "  Building wheel for pyspark (setup.py) ... \u001b[?25l\u001b[?25hdone\n",
            "  Created wheel for pyspark: filename=pyspark-3.0.0-py2.py3-none-any.whl size=205044182 sha256=2310bf8c1aaf460cceb49e4fdc1335e497339f1b409343e2755027f833aff3d7\n",
            "  Stored in directory: /root/.cache/pip/wheels/57/27/4d/ddacf7143f8d5b76c45c61ee2e43d9f8492fc5a8e78ebd7d37\n",
            "Successfully built pyspark\n",
            "Installing collected packages: py4j, pyspark\n",
            "Successfully installed py4j-0.10.9 pyspark-3.0.0\n"
          ],
          "name": "stdout"
        }
      ]
    },
    {
      "cell_type": "code",
      "metadata": {
        "id": "eg6p0xCqv8-1",
        "colab_type": "code",
        "colab": {}
      },
      "source": [
        "from pyspark.sql import SparkSession\n",
        "from textblob import TextBlob"
      ],
      "execution_count": 19,
      "outputs": []
    },
    {
      "cell_type": "code",
      "metadata": {
        "id": "RE5q3Bed132q",
        "colab_type": "code",
        "colab": {}
      },
      "source": [
        "spark = SparkSession.builder.appName(\"word2vec\").getOrCreate()"
      ],
      "execution_count": 20,
      "outputs": []
    },
    {
      "cell_type": "markdown",
      "metadata": {
        "id": "L1i6SMovlg0C",
        "colab_type": "text"
      },
      "source": [
        "**BIDEN ANALYSIS**"
      ]
    },
    {
      "cell_type": "code",
      "metadata": {
        "id": "oLwzxuvC2ptj",
        "colab_type": "code",
        "colab": {
          "base_uri": "https://localhost:8080/",
          "height": 221
        },
        "outputId": "827f890e-1b50-4f45-9b0f-07e89f2ef56f"
      },
      "source": [
        "biden_data[\"retrieved_on\"]"
      ],
      "execution_count": 45,
      "outputs": [
        {
          "output_type": "execute_result",
          "data": {
            "text/plain": [
              "0        1595696099\n",
              "1        1595696085\n",
              "2        1595696023\n",
              "3        1595696006\n",
              "4        1595695959\n",
              "            ...    \n",
              "54086    1598145605\n",
              "54087    1598145553\n",
              "54088    1598145497\n",
              "54089    1598145494\n",
              "54090    1598145461\n",
              "Name: retrieved_on, Length: 54091, dtype: int64"
            ]
          },
          "metadata": {
            "tags": []
          },
          "execution_count": 45
        }
      ]
    },
    {
      "cell_type": "code",
      "metadata": {
        "id": "HOPn0thydtdd",
        "colab_type": "code",
        "colab": {}
      },
      "source": [
        "import datetime as datetime\n",
        "biden_data['date'] = biden_data['retrieved_on'].apply(lambda x:datetime.datetime.fromtimestamp(x))  \n",
        "#New_Data['Date']"
      ],
      "execution_count": 46,
      "outputs": []
    },
    {
      "cell_type": "code",
      "metadata": {
        "id": "H8JIyawld8bR",
        "colab_type": "code",
        "colab": {
          "base_uri": "https://localhost:8080/",
          "height": 221
        },
        "outputId": "092c1bee-ce9b-4cb7-de8c-598630be42f8"
      },
      "source": [
        "biden_data[\"date\"]"
      ],
      "execution_count": 47,
      "outputs": [
        {
          "output_type": "execute_result",
          "data": {
            "text/plain": [
              "0       2020-07-25 16:54:59\n",
              "1       2020-07-25 16:54:45\n",
              "2       2020-07-25 16:53:43\n",
              "3       2020-07-25 16:53:26\n",
              "4       2020-07-25 16:52:39\n",
              "                ...        \n",
              "54086   2020-08-23 01:20:05\n",
              "54087   2020-08-23 01:19:13\n",
              "54088   2020-08-23 01:18:17\n",
              "54089   2020-08-23 01:18:14\n",
              "54090   2020-08-23 01:17:41\n",
              "Name: date, Length: 54091, dtype: datetime64[ns]"
            ]
          },
          "metadata": {
            "tags": []
          },
          "execution_count": 47
        }
      ]
    },
    {
      "cell_type": "code",
      "metadata": {
        "id": "ulfxYalHh5Gu",
        "colab_type": "code",
        "colab": {}
      },
      "source": [
        "biden_data['just_date'] = biden_data['date'].dt.date"
      ],
      "execution_count": 58,
      "outputs": []
    },
    {
      "cell_type": "code",
      "metadata": {
        "id": "klc-Jj4Ch9Wm",
        "colab_type": "code",
        "colab": {
          "base_uri": "https://localhost:8080/",
          "height": 221
        },
        "outputId": "702f1349-299c-4dd5-cef4-56fd0893b5c1"
      },
      "source": [
        "biden_data['just_date']"
      ],
      "execution_count": 59,
      "outputs": [
        {
          "output_type": "execute_result",
          "data": {
            "text/plain": [
              "0        2020-07-25\n",
              "1        2020-07-25\n",
              "2        2020-07-25\n",
              "3        2020-07-25\n",
              "4        2020-07-25\n",
              "            ...    \n",
              "54086    2020-08-23\n",
              "54087    2020-08-23\n",
              "54088    2020-08-23\n",
              "54089    2020-08-23\n",
              "54090    2020-08-23\n",
              "Name: just_date, Length: 54091, dtype: object"
            ]
          },
          "metadata": {
            "tags": []
          },
          "execution_count": 59
        }
      ]
    },
    {
      "cell_type": "code",
      "metadata": {
        "id": "Jpb04lxZ20Re",
        "colab_type": "code",
        "colab": {}
      },
      "source": [
        "#Combine the data into a single dataset\n",
        "biden_body_df = biden_data[['date', 'just_date','body']] "
      ],
      "execution_count": 60,
      "outputs": []
    },
    {
      "cell_type": "code",
      "metadata": {
        "id": "4sxeSH2z28uH",
        "colab_type": "code",
        "colab": {
          "base_uri": "https://localhost:8080/",
          "height": 419
        },
        "outputId": "a6cebc39-7fef-46f3-b4ec-19f93bb8684d"
      },
      "source": [
        "biden_body_df"
      ],
      "execution_count": 61,
      "outputs": [
        {
          "output_type": "execute_result",
          "data": {
            "text/html": [
              "<div>\n",
              "<style scoped>\n",
              "    .dataframe tbody tr th:only-of-type {\n",
              "        vertical-align: middle;\n",
              "    }\n",
              "\n",
              "    .dataframe tbody tr th {\n",
              "        vertical-align: top;\n",
              "    }\n",
              "\n",
              "    .dataframe thead th {\n",
              "        text-align: right;\n",
              "    }\n",
              "</style>\n",
              "<table border=\"1\" class=\"dataframe\">\n",
              "  <thead>\n",
              "    <tr style=\"text-align: right;\">\n",
              "      <th></th>\n",
              "      <th>date</th>\n",
              "      <th>just_date</th>\n",
              "      <th>body</th>\n",
              "    </tr>\n",
              "  </thead>\n",
              "  <tbody>\n",
              "    <tr>\n",
              "      <th>0</th>\n",
              "      <td>2020-07-25 16:54:59</td>\n",
              "      <td>2020-07-25</td>\n",
              "      <td>Joe Biden bad... Is not a conspiracy.</td>\n",
              "    </tr>\n",
              "    <tr>\n",
              "      <th>1</th>\n",
              "      <td>2020-07-25 16:54:45</td>\n",
              "      <td>2020-07-25</td>\n",
              "      <td>&amp;gt; You said all grandfather clauses were ill...</td>\n",
              "    </tr>\n",
              "    <tr>\n",
              "      <th>2</th>\n",
              "      <td>2020-07-25 16:53:43</td>\n",
              "      <td>2020-07-25</td>\n",
              "      <td>Don’t need silly memes on the internet to conv...</td>\n",
              "    </tr>\n",
              "    <tr>\n",
              "      <th>3</th>\n",
              "      <td>2020-07-25 16:53:26</td>\n",
              "      <td>2020-07-25</td>\n",
              "      <td>The only thing we can really do to combat deep...</td>\n",
              "    </tr>\n",
              "    <tr>\n",
              "      <th>4</th>\n",
              "      <td>2020-07-25 16:52:39</td>\n",
              "      <td>2020-07-25</td>\n",
              "      <td>([Link in case](https://www.reddit.com/r/Toile...</td>\n",
              "    </tr>\n",
              "    <tr>\n",
              "      <th>...</th>\n",
              "      <td>...</td>\n",
              "      <td>...</td>\n",
              "      <td>...</td>\n",
              "    </tr>\n",
              "    <tr>\n",
              "      <th>54086</th>\n",
              "      <td>2020-08-23 01:20:05</td>\n",
              "      <td>2020-08-23</td>\n",
              "      <td>Yeah the theory of the case was that you could...</td>\n",
              "    </tr>\n",
              "    <tr>\n",
              "      <th>54087</th>\n",
              "      <td>2020-08-23 01:19:13</td>\n",
              "      <td>2020-08-23</td>\n",
              "      <td>Do you believe the women that have accused Joe...</td>\n",
              "    </tr>\n",
              "    <tr>\n",
              "      <th>54088</th>\n",
              "      <td>2020-08-23 01:18:17</td>\n",
              "      <td>2020-08-23</td>\n",
              "      <td>Biden will agree with ANYONE. That is the prob...</td>\n",
              "    </tr>\n",
              "    <tr>\n",
              "      <th>54089</th>\n",
              "      <td>2020-08-23 01:18:14</td>\n",
              "      <td>2020-08-23</td>\n",
              "      <td>Speaking exclusively of the health of Biden an...</td>\n",
              "    </tr>\n",
              "    <tr>\n",
              "      <th>54090</th>\n",
              "      <td>2020-08-23 01:17:41</td>\n",
              "      <td>2020-08-23</td>\n",
              "      <td>Big LOL on that bullshit Vox article. I alread...</td>\n",
              "    </tr>\n",
              "  </tbody>\n",
              "</table>\n",
              "<p>54091 rows × 3 columns</p>\n",
              "</div>"
            ],
            "text/plain": [
              "                     date  ...                                               body\n",
              "0     2020-07-25 16:54:59  ...              Joe Biden bad... Is not a conspiracy.\n",
              "1     2020-07-25 16:54:45  ...  &gt; You said all grandfather clauses were ill...\n",
              "2     2020-07-25 16:53:43  ...  Don’t need silly memes on the internet to conv...\n",
              "3     2020-07-25 16:53:26  ...  The only thing we can really do to combat deep...\n",
              "4     2020-07-25 16:52:39  ...  ([Link in case](https://www.reddit.com/r/Toile...\n",
              "...                   ...  ...                                                ...\n",
              "54086 2020-08-23 01:20:05  ...  Yeah the theory of the case was that you could...\n",
              "54087 2020-08-23 01:19:13  ...  Do you believe the women that have accused Joe...\n",
              "54088 2020-08-23 01:18:17  ...  Biden will agree with ANYONE. That is the prob...\n",
              "54089 2020-08-23 01:18:14  ...  Speaking exclusively of the health of Biden an...\n",
              "54090 2020-08-23 01:17:41  ...  Big LOL on that bullshit Vox article. I alread...\n",
              "\n",
              "[54091 rows x 3 columns]"
            ]
          },
          "metadata": {
            "tags": []
          },
          "execution_count": 61
        }
      ]
    },
    {
      "cell_type": "code",
      "metadata": {
        "id": "pPo0S9Lvv-Rh",
        "colab_type": "code",
        "colab": {}
      },
      "source": [
        "biden_df = spark.createDataFrame(biden_body_df)"
      ],
      "execution_count": 66,
      "outputs": []
    },
    {
      "cell_type": "code",
      "metadata": {
        "id": "f9DMvWh6jhhO",
        "colab_type": "code",
        "colab": {
          "base_uri": "https://localhost:8080/",
          "height": 493
        },
        "outputId": "be839a10-1657-4491-c062-3531b273ade0"
      },
      "source": [
        "biden_df.show()"
      ],
      "execution_count": 67,
      "outputs": [
        {
          "output_type": "stream",
          "text": [
            "+-------------------+----------+--------------------+\n",
            "|               date| just_date|                body|\n",
            "+-------------------+----------+--------------------+\n",
            "|2020-07-25 16:54:59|2020-07-25|Joe Biden bad... ...|\n",
            "|2020-07-25 16:54:45|2020-07-25|&gt; You said all...|\n",
            "|2020-07-25 16:53:43|2020-07-25|Don’t need silly ...|\n",
            "|2020-07-25 16:53:26|2020-07-25|The only thing we...|\n",
            "|2020-07-25 16:52:39|2020-07-25|([Link in case](h...|\n",
            "|2020-07-25 16:51:49|2020-07-25|Bernie Sanders 10...|\n",
            "|2020-07-25 16:50:45|2020-07-25|[https://www.wash...|\n",
            "|2020-07-25 16:49:03|2020-07-25|He's wrong.\n",
            "\n",
            "http...|\n",
            "|2020-07-25 16:48:32|2020-07-25|&gt; Joe “defund ...|\n",
            "|2020-07-25 16:47:14|2020-07-25|\"I love my Caucas...|\n",
            "|2020-07-25 16:47:11|2020-07-25|They've been sayi...|\n",
            "|2020-07-25 16:46:50|2020-07-25|Joe Biden promise...|\n",
            "|2020-07-25 16:46:38|2020-07-25|It's a good thing...|\n",
            "|2020-07-25 16:46:35|2020-07-25|It should be JOE ...|\n",
            "|2020-07-25 16:44:31|2020-07-25|Yeah once we have...|\n",
            "|2020-07-25 16:43:45|2020-07-25|I like this one l...|\n",
            "|2020-07-25 16:43:05|2020-07-25|Joe Biden isn't t...|\n",
            "|2020-07-25 16:40:36|2020-07-25|You might be too ...|\n",
            "|2020-07-25 16:40:24|2020-07-25|I'd like to see h...|\n",
            "|2020-07-25 16:40:12|2020-07-25|It's good to have...|\n",
            "+-------------------+----------+--------------------+\n",
            "only showing top 20 rows\n",
            "\n"
          ],
          "name": "stdout"
        }
      ]
    },
    {
      "cell_type": "markdown",
      "metadata": {
        "id": "n9zm0SrJZENf",
        "colab_type": "text"
      },
      "source": [
        ""
      ]
    },
    {
      "cell_type": "code",
      "metadata": {
        "id": "Watfj3V03VD8",
        "colab_type": "code",
        "colab": {}
      },
      "source": [
        "from pyspark.sql.functions import udf, avg, col"
      ],
      "execution_count": 68,
      "outputs": []
    },
    {
      "cell_type": "code",
      "metadata": {
        "id": "tCGJUOkByKFN",
        "colab_type": "code",
        "colab": {}
      },
      "source": [
        "sentiment = udf(lambda x: TextBlob(x).sentiment[0])\n",
        "spark.udf.register(\"sentiment\", sentiment)\n",
        "biden_sentiment = biden_df.withColumn('sentiment', sentiment('body'))"
      ],
      "execution_count": 69,
      "outputs": []
    },
    {
      "cell_type": "code",
      "metadata": {
        "id": "59fmSuddqu21",
        "colab_type": "code",
        "colab": {}
      },
      "source": [
        "biden_sentiment.write.csv('/content/biden_sentiment.csv')"
      ],
      "execution_count": 83,
      "outputs": []
    },
    {
      "cell_type": "code",
      "metadata": {
        "id": "BoHBnlf_3aaH",
        "colab_type": "code",
        "colab": {
          "base_uri": "https://localhost:8080/",
          "height": 493
        },
        "outputId": "45bafe6c-7f1d-4aeb-dd96-db2214462fba"
      },
      "source": [
        "biden_sentiment.show()"
      ],
      "execution_count": 70,
      "outputs": [
        {
          "output_type": "stream",
          "text": [
            "+-------------------+----------+--------------------+--------------------+\n",
            "|               date| just_date|                body|           sentiment|\n",
            "+-------------------+----------+--------------------+--------------------+\n",
            "|2020-07-25 16:54:59|2020-07-25|Joe Biden bad... ...| -0.6999999999999998|\n",
            "|2020-07-25 16:54:45|2020-07-25|&gt; You said all...| 0.13731697224344283|\n",
            "|2020-07-25 16:53:43|2020-07-25|Don’t need silly ...|                -0.5|\n",
            "|2020-07-25 16:53:26|2020-07-25|The only thing we...| 0.16491228070175437|\n",
            "|2020-07-25 16:52:39|2020-07-25|([Link in case](h...|                0.25|\n",
            "|2020-07-25 16:51:49|2020-07-25|Bernie Sanders 10...|0.007142857142857145|\n",
            "|2020-07-25 16:50:45|2020-07-25|[https://www.wash...| 0.29791666666666666|\n",
            "|2020-07-25 16:49:03|2020-07-25|He's wrong.\n",
            "\n",
            "http...|-0.09930555555555559|\n",
            "|2020-07-25 16:48:32|2020-07-25|&gt; Joe “defund ...|                 0.0|\n",
            "|2020-07-25 16:47:14|2020-07-25|\"I love my Caucas...|                0.25|\n",
            "|2020-07-25 16:47:11|2020-07-25|They've been sayi...| 0.31500000000000006|\n",
            "|2020-07-25 16:46:50|2020-07-25|Joe Biden promise...|                 0.5|\n",
            "|2020-07-25 16:46:38|2020-07-25|It's a good thing...|                 0.7|\n",
            "|2020-07-25 16:46:35|2020-07-25|It should be JOE ...|  0.1545918367346939|\n",
            "|2020-07-25 16:44:31|2020-07-25|Yeah once we have...|                 0.1|\n",
            "|2020-07-25 16:43:45|2020-07-25|I like this one l...| 0.30000000000000004|\n",
            "|2020-07-25 16:43:05|2020-07-25|Joe Biden isn't t...|                 0.0|\n",
            "|2020-07-25 16:40:36|2020-07-25|You might be too ...|-0.24260461760461763|\n",
            "|2020-07-25 16:40:24|2020-07-25|I'd like to see h...|                 0.4|\n",
            "|2020-07-25 16:40:12|2020-07-25|It's good to have...| 0.06063311688311688|\n",
            "+-------------------+----------+--------------------+--------------------+\n",
            "only showing top 20 rows\n",
            "\n"
          ],
          "name": "stdout"
        }
      ]
    },
    {
      "cell_type": "code",
      "metadata": {
        "id": "RJ5FKGISkXSo",
        "colab_type": "code",
        "colab": {
          "base_uri": "https://localhost:8080/",
          "height": 459
        },
        "outputId": "c76d19b1-3bf3-4201-e81f-5c5174eb218b"
      },
      "source": [
        "biden_group = biden_sentiment.groupBy('just_date')\n",
        "biden_group.agg({'sentiment':'avg'}).show()"
      ],
      "execution_count": 72,
      "outputs": [
        {
          "output_type": "stream",
          "text": [
            "+----------+--------------------+\n",
            "| just_date|      avg(sentiment)|\n",
            "+----------+--------------------+\n",
            "|2020-08-24| 0.03016304901062418|\n",
            "|2020-07-24|  0.0509629851323414|\n",
            "|2020-08-05|0.055863334119235955|\n",
            "|2020-08-22| 0.05964799539733485|\n",
            "|2020-08-04|0.059565859960457754|\n",
            "|2020-08-09| 0.04411846346294464|\n",
            "|2020-08-07| 0.04923069085424319|\n",
            "|2020-08-16| 0.06045271989929845|\n",
            "|2020-08-13| 0.04926839747161069|\n",
            "|2020-08-20| 0.05953066379696908|\n",
            "|2020-08-23| 0.06030377107684641|\n",
            "|2020-07-29| 0.05263515802842169|\n",
            "|2020-07-28| 0.05152537927575326|\n",
            "|2020-08-12| 0.06099798870173119|\n",
            "|2020-07-31| 0.04909799375444829|\n",
            "|2020-07-26| 0.05535663267536393|\n",
            "|2020-07-25|0.038948262314387215|\n",
            "|2020-08-15| 0.04605069998305327|\n",
            "|2020-08-01|0.047876616911793075|\n",
            "|2020-08-11| 0.06974334332726766|\n",
            "+----------+--------------------+\n",
            "only showing top 20 rows\n",
            "\n"
          ],
          "name": "stdout"
        }
      ]
    },
    {
      "cell_type": "code",
      "metadata": {
        "id": "vRhfXH_n4HaQ",
        "colab_type": "code",
        "colab": {
          "base_uri": "https://localhost:8080/",
          "height": 136
        },
        "outputId": "bbbc4e75-b525-42a9-cf03-a130cab3746d"
      },
      "source": [
        "biden_sentiment.show(1, truncate=False)"
      ],
      "execution_count": 31,
      "outputs": [
        {
          "output_type": "stream",
          "text": [
            "+-------------------------------------+-------------------+\n",
            "|body                                 |sentiment          |\n",
            "+-------------------------------------+-------------------+\n",
            "|Joe Biden bad... Is not a conspiracy.|-0.6999999999999998|\n",
            "+-------------------------------------+-------------------+\n",
            "only showing top 1 row\n",
            "\n"
          ],
          "name": "stdout"
        }
      ]
    },
    {
      "cell_type": "code",
      "metadata": {
        "id": "e2TnOzye3xN9",
        "colab_type": "code",
        "colab": {
          "base_uri": "https://localhost:8080/",
          "height": 119
        },
        "outputId": "c6cd1c07-4934-4387-c6b2-14625d2a30bd"
      },
      "source": [
        "biden_sentiment.agg(avg(col(\"sentiment\"))).show()"
      ],
      "execution_count": 32,
      "outputs": [
        {
          "output_type": "stream",
          "text": [
            "+-------------------+\n",
            "|     avg(sentiment)|\n",
            "+-------------------+\n",
            "|0.05674129881787715|\n",
            "+-------------------+\n",
            "\n"
          ],
          "name": "stdout"
        }
      ]
    },
    {
      "cell_type": "markdown",
      "metadata": {
        "id": "i5LrYXfYlr0p",
        "colab_type": "text"
      },
      "source": [
        "TRUMP ANALYSIS"
      ]
    },
    {
      "cell_type": "code",
      "metadata": {
        "id": "96gm-AanacWx",
        "colab_type": "code",
        "colab": {}
      },
      "source": [
        "import datetime as datetime\n",
        "trump_data['date'] = trump_data['retrieved_on'].apply(lambda x:datetime.datetime.fromtimestamp(x))  \n",
        "#New_Data['Date']"
      ],
      "execution_count": 53,
      "outputs": []
    },
    {
      "cell_type": "code",
      "metadata": {
        "id": "kr3XgajHmfX8",
        "colab_type": "code",
        "colab": {}
      },
      "source": [
        "trump_data['just_date'] = trump_data['date'].dt.date"
      ],
      "execution_count": 73,
      "outputs": []
    },
    {
      "cell_type": "code",
      "metadata": {
        "id": "0NMNaTvY5DdP",
        "colab_type": "code",
        "colab": {
          "base_uri": "https://localhost:8080/",
          "height": 419
        },
        "outputId": "fea7cbb2-b8ac-46ec-d10c-34f83765926d"
      },
      "source": [
        "#Combine the data into a single dataset\n",
        "trump_body_df = trump_data[['date', 'just_date','body']] \n",
        "trump_body_df"
      ],
      "execution_count": 75,
      "outputs": [
        {
          "output_type": "execute_result",
          "data": {
            "text/html": [
              "<div>\n",
              "<style scoped>\n",
              "    .dataframe tbody tr th:only-of-type {\n",
              "        vertical-align: middle;\n",
              "    }\n",
              "\n",
              "    .dataframe tbody tr th {\n",
              "        vertical-align: top;\n",
              "    }\n",
              "\n",
              "    .dataframe thead th {\n",
              "        text-align: right;\n",
              "    }\n",
              "</style>\n",
              "<table border=\"1\" class=\"dataframe\">\n",
              "  <thead>\n",
              "    <tr style=\"text-align: right;\">\n",
              "      <th></th>\n",
              "      <th>date</th>\n",
              "      <th>just_date</th>\n",
              "      <th>body</th>\n",
              "    </tr>\n",
              "  </thead>\n",
              "  <tbody>\n",
              "    <tr>\n",
              "      <th>0</th>\n",
              "      <td>2020-07-25 16:54:53</td>\n",
              "      <td>2020-07-25</td>\n",
              "      <td>&amp;gt;Well it would be nice if all that quoted w...</td>\n",
              "    </tr>\n",
              "    <tr>\n",
              "      <th>1</th>\n",
              "      <td>2020-07-25 16:54:02</td>\n",
              "      <td>2020-07-25</td>\n",
              "      <td>Yeah, I'm sure [this](https://www-gq-com.cdn.a...</td>\n",
              "    </tr>\n",
              "    <tr>\n",
              "      <th>2</th>\n",
              "      <td>2020-07-25 16:52:45</td>\n",
              "      <td>2020-07-25</td>\n",
              "      <td>https://www.insider.com/donald-trump-jeffrey-e...</td>\n",
              "    </tr>\n",
              "    <tr>\n",
              "      <th>3</th>\n",
              "      <td>2020-07-25 16:52:40</td>\n",
              "      <td>2020-07-25</td>\n",
              "      <td>Then protesters have every right to defend the...</td>\n",
              "    </tr>\n",
              "    <tr>\n",
              "      <th>4</th>\n",
              "      <td>2020-07-25 16:52:33</td>\n",
              "      <td>2020-07-25</td>\n",
              "      <td>[Truth.](https://time.com/4465744/donald-trump...</td>\n",
              "    </tr>\n",
              "    <tr>\n",
              "      <th>...</th>\n",
              "      <td>...</td>\n",
              "      <td>...</td>\n",
              "      <td>...</td>\n",
              "    </tr>\n",
              "    <tr>\n",
              "      <th>84735</th>\n",
              "      <td>2020-08-23 01:20:30</td>\n",
              "      <td>2020-08-23</td>\n",
              "      <td>\\nThis subreddit is a pro-Trump subreddit for ...</td>\n",
              "    </tr>\n",
              "    <tr>\n",
              "      <th>84736</th>\n",
              "      <td>2020-08-23 01:20:08</td>\n",
              "      <td>2020-08-23</td>\n",
              "      <td>&amp;gt; If people think all politicians are corru...</td>\n",
              "    </tr>\n",
              "    <tr>\n",
              "      <th>84737</th>\n",
              "      <td>2020-08-23 01:19:35</td>\n",
              "      <td>2020-08-23</td>\n",
              "      <td>\\nThis subreddit is a pro-Trump subreddit for ...</td>\n",
              "    </tr>\n",
              "    <tr>\n",
              "      <th>84738</th>\n",
              "      <td>2020-08-23 01:19:04</td>\n",
              "      <td>2020-08-23</td>\n",
              "      <td>\\nThis subreddit is a pro-Trump subreddit for ...</td>\n",
              "    </tr>\n",
              "    <tr>\n",
              "      <th>84739</th>\n",
              "      <td>2020-08-23 01:18:48</td>\n",
              "      <td>2020-08-23</td>\n",
              "      <td>I heard donald trump was going to rake the pin...</td>\n",
              "    </tr>\n",
              "  </tbody>\n",
              "</table>\n",
              "<p>84740 rows × 3 columns</p>\n",
              "</div>"
            ],
            "text/plain": [
              "                     date  ...                                               body\n",
              "0     2020-07-25 16:54:53  ...  &gt;Well it would be nice if all that quoted w...\n",
              "1     2020-07-25 16:54:02  ...  Yeah, I'm sure [this](https://www-gq-com.cdn.a...\n",
              "2     2020-07-25 16:52:45  ...  https://www.insider.com/donald-trump-jeffrey-e...\n",
              "3     2020-07-25 16:52:40  ...  Then protesters have every right to defend the...\n",
              "4     2020-07-25 16:52:33  ...  [Truth.](https://time.com/4465744/donald-trump...\n",
              "...                   ...  ...                                                ...\n",
              "84735 2020-08-23 01:20:30  ...  \\nThis subreddit is a pro-Trump subreddit for ...\n",
              "84736 2020-08-23 01:20:08  ...  &gt; If people think all politicians are corru...\n",
              "84737 2020-08-23 01:19:35  ...  \\nThis subreddit is a pro-Trump subreddit for ...\n",
              "84738 2020-08-23 01:19:04  ...  \\nThis subreddit is a pro-Trump subreddit for ...\n",
              "84739 2020-08-23 01:18:48  ...  I heard donald trump was going to rake the pin...\n",
              "\n",
              "[84740 rows x 3 columns]"
            ]
          },
          "metadata": {
            "tags": []
          },
          "execution_count": 75
        }
      ]
    },
    {
      "cell_type": "code",
      "metadata": {
        "id": "gwpe1hiHZsjQ",
        "colab_type": "code",
        "colab": {}
      },
      "source": [
        "trump_df = spark.createDataFrame(trump_body_df)"
      ],
      "execution_count": 76,
      "outputs": []
    },
    {
      "cell_type": "code",
      "metadata": {
        "id": "yTV-hchDZvu-",
        "colab_type": "code",
        "colab": {}
      },
      "source": [
        "sentiment = udf(lambda x: TextBlob(x).sentiment[0])\n",
        "spark.udf.register(\"sentiment\", sentiment)\n",
        "trump_sentiment = trump_df.withColumn('sentiment',sentiment('body'))"
      ],
      "execution_count": 78,
      "outputs": []
    },
    {
      "cell_type": "code",
      "metadata": {
        "id": "rYq_aGqdrbay",
        "colab_type": "code",
        "colab": {}
      },
      "source": [
        "trump_sentiment.write.csv('/content/trump_sentiment.csv')"
      ],
      "execution_count": 84,
      "outputs": []
    },
    {
      "cell_type": "code",
      "metadata": {
        "id": "vYVHFW2lhaoV",
        "colab_type": "code",
        "colab": {
          "base_uri": "https://localhost:8080/",
          "height": 510
        },
        "outputId": "996c1929-050d-4450-c8d0-2b2f176e6e85"
      },
      "source": [
        "trump_sentiment.show()"
      ],
      "execution_count": 79,
      "outputs": [
        {
          "output_type": "stream",
          "text": [
            "+-------------------+----------+--------------------+--------------------+\n",
            "|               date| just_date|                body|           sentiment|\n",
            "+-------------------+----------+--------------------+--------------------+\n",
            "|2020-07-25 16:54:53|2020-07-25|&gt;Well it would...| 0.11536796536796536|\n",
            "|2020-07-25 16:54:02|2020-07-25|Yeah, I'm sure [t...|                 0.5|\n",
            "|2020-07-25 16:52:45|2020-07-25|https://www.insid...| -0.8928571428571429|\n",
            "|2020-07-25 16:52:40|2020-07-25|Then protesters h...|-0.14285714285714288|\n",
            "|2020-07-25 16:52:33|2020-07-25|[Truth.](https://...|                 0.0|\n",
            "|2020-07-25 16:51:49|2020-07-25|Bernie Sanders 10...|0.007142857142857145|\n",
            "|2020-07-25 16:51:41|2020-07-25|Haha! I try not t...|-0.18749999999999997|\n",
            "|2020-07-25 16:51:12|2020-07-25|\n",
            "This subreddit i...| 0.16666666666666666|\n",
            "|2020-07-25 16:49:44|2020-07-25|Your post is the ...| 0.10833333333333335|\n",
            "|2020-07-25 16:49:41|2020-07-25|\n",
            "This subreddit i...| 0.16666666666666666|\n",
            "|2020-07-25 16:49:40|2020-07-25|https://youtu.be/...|                 0.5|\n",
            "|2020-07-25 16:49:03|2020-07-25|https://www.insid...|                 0.0|\n",
            "|2020-07-25 16:48:34|2020-07-25|Those guys pionee...|               0.125|\n",
            "|2020-07-25 16:48:26|2020-07-25|A layout of the f...| 0.12500000000000003|\n",
            "|2020-07-25 16:47:37|2020-07-25|“I’ve known Jeff ...| 0.18333333333333335|\n",
            "|2020-07-25 16:46:59|2020-07-25|\n",
            "This subreddit i...| 0.16666666666666666|\n",
            "|2020-07-25 16:46:45|2020-07-25|Could you imagine...|              -0.225|\n",
            "|2020-07-25 16:46:29|2020-07-25|in the words of D...|                 0.0|\n",
            "|2020-07-25 16:46:19|2020-07-25|Both parties aren...|0.051913875598086114|\n",
            "|2020-07-25 16:45:58|2020-07-25|https://www.nbcne...|  0.2287878787878788|\n",
            "+-------------------+----------+--------------------+--------------------+\n",
            "only showing top 20 rows\n",
            "\n"
          ],
          "name": "stdout"
        }
      ]
    },
    {
      "cell_type": "code",
      "metadata": {
        "id": "0M8bRX7SniZg",
        "colab_type": "code",
        "colab": {
          "base_uri": "https://localhost:8080/",
          "height": 459
        },
        "outputId": "33134f43-840f-4e46-c179-a1b2924b9940"
      },
      "source": [
        "trump_group = trump_sentiment.groupBy('just_date')\n",
        "avg_sentiment = trump_group.agg({'sentiment':'avg'})"
      ],
      "execution_count": 88,
      "outputs": [
        {
          "output_type": "stream",
          "text": [
            "+----------+--------------------+\n",
            "| just_date|      avg(sentiment)|\n",
            "+----------+--------------------+\n",
            "|2020-08-24| 0.06384774885415974|\n",
            "|2020-07-24| 0.06200084432531178|\n",
            "|2020-08-05| 0.06136549195309054|\n",
            "|2020-08-22|  0.0720543274156559|\n",
            "|2020-08-04| 0.06648313618742034|\n",
            "|2020-08-09| 0.05683471314536184|\n",
            "|2020-08-07|  0.0740690339568333|\n",
            "|2020-08-16| 0.06103149284887917|\n",
            "|2020-08-13| 0.08462476310528741|\n",
            "|2020-08-20|  0.0633813873634603|\n",
            "|2020-08-23| 0.08038508096152824|\n",
            "|2020-07-29|0.048822234281804586|\n",
            "|2020-07-28| 0.07488417356240785|\n",
            "|2020-08-12| 0.07166212227990709|\n",
            "|2020-07-31| 0.05636334417820588|\n",
            "|2020-07-26|0.061477354050605365|\n",
            "|2020-07-25| 0.07564586076704131|\n",
            "|2020-08-15| 0.07250069238305233|\n",
            "|2020-08-01| 0.05947595559626746|\n",
            "|2020-08-11| 0.07834797101003237|\n",
            "+----------+--------------------+\n",
            "only showing top 20 rows\n",
            "\n"
          ],
          "name": "stdout"
        }
      ]
    },
    {
      "cell_type": "code",
      "metadata": {
        "id": "Vr4sNGPv0hf1",
        "colab_type": "code",
        "colab": {
          "base_uri": "https://localhost:8080/",
          "height": 307
        },
        "outputId": "1cbcff42-dd43-4f01-c111-fa24b884d1e1"
      },
      "source": [
        "# trump_daily_sentiment = spark.createDataFrame(avg_sentiment)"
      ],
      "execution_count": 89,
      "outputs": [
        {
          "output_type": "error",
          "ename": "TypeError",
          "evalue": "ignored",
          "traceback": [
            "\u001b[0;31m---------------------------------------------------------------------------\u001b[0m",
            "\u001b[0;31mTypeError\u001b[0m                                 Traceback (most recent call last)",
            "\u001b[0;32m<ipython-input-89-595019aa1f61>\u001b[0m in \u001b[0;36m<module>\u001b[0;34m()\u001b[0m\n\u001b[0;32m----> 1\u001b[0;31m \u001b[0mtrump_daily_sentiment\u001b[0m \u001b[0;34m=\u001b[0m \u001b[0mspark\u001b[0m\u001b[0;34m.\u001b[0m\u001b[0mcreateDataFrame\u001b[0m\u001b[0;34m(\u001b[0m\u001b[0mavg_sentiment\u001b[0m\u001b[0;34m)\u001b[0m\u001b[0;34m\u001b[0m\u001b[0;34m\u001b[0m\u001b[0m\n\u001b[0m",
            "\u001b[0;32m/usr/local/lib/python3.6/dist-packages/pyspark/sql/session.py\u001b[0m in \u001b[0;36mcreateDataFrame\u001b[0;34m(self, data, schema, samplingRatio, verifySchema)\u001b[0m\n\u001b[1;32m    600\u001b[0m             return super(SparkSession, self).createDataFrame(\n\u001b[1;32m    601\u001b[0m                 data, schema, samplingRatio, verifySchema)\n\u001b[0;32m--> 602\u001b[0;31m         \u001b[0;32mreturn\u001b[0m \u001b[0mself\u001b[0m\u001b[0;34m.\u001b[0m\u001b[0m_create_dataframe\u001b[0m\u001b[0;34m(\u001b[0m\u001b[0mdata\u001b[0m\u001b[0;34m,\u001b[0m \u001b[0mschema\u001b[0m\u001b[0;34m,\u001b[0m \u001b[0msamplingRatio\u001b[0m\u001b[0;34m,\u001b[0m \u001b[0mverifySchema\u001b[0m\u001b[0;34m)\u001b[0m\u001b[0;34m\u001b[0m\u001b[0;34m\u001b[0m\u001b[0m\n\u001b[0m\u001b[1;32m    603\u001b[0m \u001b[0;34m\u001b[0m\u001b[0m\n\u001b[1;32m    604\u001b[0m     \u001b[0;32mdef\u001b[0m \u001b[0m_create_dataframe\u001b[0m\u001b[0;34m(\u001b[0m\u001b[0mself\u001b[0m\u001b[0;34m,\u001b[0m \u001b[0mdata\u001b[0m\u001b[0;34m,\u001b[0m \u001b[0mschema\u001b[0m\u001b[0;34m,\u001b[0m \u001b[0msamplingRatio\u001b[0m\u001b[0;34m,\u001b[0m \u001b[0mverifySchema\u001b[0m\u001b[0;34m)\u001b[0m\u001b[0;34m:\u001b[0m\u001b[0;34m\u001b[0m\u001b[0;34m\u001b[0m\u001b[0m\n",
            "\u001b[0;32m/usr/local/lib/python3.6/dist-packages/pyspark/sql/session.py\u001b[0m in \u001b[0;36m_create_dataframe\u001b[0;34m(self, data, schema, samplingRatio, verifySchema)\u001b[0m\n\u001b[1;32m    625\u001b[0m             \u001b[0mrdd\u001b[0m\u001b[0;34m,\u001b[0m \u001b[0mschema\u001b[0m \u001b[0;34m=\u001b[0m \u001b[0mself\u001b[0m\u001b[0;34m.\u001b[0m\u001b[0m_createFromRDD\u001b[0m\u001b[0;34m(\u001b[0m\u001b[0mdata\u001b[0m\u001b[0;34m.\u001b[0m\u001b[0mmap\u001b[0m\u001b[0;34m(\u001b[0m\u001b[0mprepare\u001b[0m\u001b[0;34m)\u001b[0m\u001b[0;34m,\u001b[0m \u001b[0mschema\u001b[0m\u001b[0;34m,\u001b[0m \u001b[0msamplingRatio\u001b[0m\u001b[0;34m)\u001b[0m\u001b[0;34m\u001b[0m\u001b[0;34m\u001b[0m\u001b[0m\n\u001b[1;32m    626\u001b[0m         \u001b[0;32melse\u001b[0m\u001b[0;34m:\u001b[0m\u001b[0;34m\u001b[0m\u001b[0;34m\u001b[0m\u001b[0m\n\u001b[0;32m--> 627\u001b[0;31m             \u001b[0mrdd\u001b[0m\u001b[0;34m,\u001b[0m \u001b[0mschema\u001b[0m \u001b[0;34m=\u001b[0m \u001b[0mself\u001b[0m\u001b[0;34m.\u001b[0m\u001b[0m_createFromLocal\u001b[0m\u001b[0;34m(\u001b[0m\u001b[0mmap\u001b[0m\u001b[0;34m(\u001b[0m\u001b[0mprepare\u001b[0m\u001b[0;34m,\u001b[0m \u001b[0mdata\u001b[0m\u001b[0;34m)\u001b[0m\u001b[0;34m,\u001b[0m \u001b[0mschema\u001b[0m\u001b[0;34m)\u001b[0m\u001b[0;34m\u001b[0m\u001b[0;34m\u001b[0m\u001b[0m\n\u001b[0m\u001b[1;32m    628\u001b[0m         \u001b[0mjrdd\u001b[0m \u001b[0;34m=\u001b[0m \u001b[0mself\u001b[0m\u001b[0;34m.\u001b[0m\u001b[0m_jvm\u001b[0m\u001b[0;34m.\u001b[0m\u001b[0mSerDeUtil\u001b[0m\u001b[0;34m.\u001b[0m\u001b[0mtoJavaArray\u001b[0m\u001b[0;34m(\u001b[0m\u001b[0mrdd\u001b[0m\u001b[0;34m.\u001b[0m\u001b[0m_to_java_object_rdd\u001b[0m\u001b[0;34m(\u001b[0m\u001b[0;34m)\u001b[0m\u001b[0;34m)\u001b[0m\u001b[0;34m\u001b[0m\u001b[0;34m\u001b[0m\u001b[0m\n\u001b[1;32m    629\u001b[0m         \u001b[0mjdf\u001b[0m \u001b[0;34m=\u001b[0m \u001b[0mself\u001b[0m\u001b[0;34m.\u001b[0m\u001b[0m_jsparkSession\u001b[0m\u001b[0;34m.\u001b[0m\u001b[0mapplySchemaToPythonRDD\u001b[0m\u001b[0;34m(\u001b[0m\u001b[0mjrdd\u001b[0m\u001b[0;34m.\u001b[0m\u001b[0mrdd\u001b[0m\u001b[0;34m(\u001b[0m\u001b[0;34m)\u001b[0m\u001b[0;34m,\u001b[0m \u001b[0mschema\u001b[0m\u001b[0;34m.\u001b[0m\u001b[0mjson\u001b[0m\u001b[0;34m(\u001b[0m\u001b[0;34m)\u001b[0m\u001b[0;34m)\u001b[0m\u001b[0;34m\u001b[0m\u001b[0;34m\u001b[0m\u001b[0m\n",
            "\u001b[0;31mTypeError\u001b[0m: 'NoneType' object is not iterable"
          ]
        }
      ]
    },
    {
      "cell_type": "code",
      "metadata": {
        "id": "TkL_wBwBtOds",
        "colab_type": "code",
        "colab": {
          "base_uri": "https://localhost:8080/",
          "height": 164
        },
        "outputId": "16fbd406-9386-4af8-b06e-b0caed4a0af6"
      },
      "source": [
        "trump_histogram = trump_group.select('avg(sentiment)').rdd.flatMap(lambda x: x).histogram(11)\n"
      ],
      "execution_count": 87,
      "outputs": [
        {
          "output_type": "error",
          "ename": "AttributeError",
          "evalue": "ignored",
          "traceback": [
            "\u001b[0;31m---------------------------------------------------------------------------\u001b[0m",
            "\u001b[0;31mAttributeError\u001b[0m                            Traceback (most recent call last)",
            "\u001b[0;32m<ipython-input-87-845c11b8ab5c>\u001b[0m in \u001b[0;36m<module>\u001b[0;34m()\u001b[0m\n\u001b[0;32m----> 1\u001b[0;31m \u001b[0mtrump_histogram\u001b[0m \u001b[0;34m=\u001b[0m \u001b[0mtrump_group\u001b[0m\u001b[0;34m.\u001b[0m\u001b[0mselect\u001b[0m\u001b[0;34m(\u001b[0m\u001b[0;34m'avg(sentiment)'\u001b[0m\u001b[0;34m)\u001b[0m\u001b[0;34m.\u001b[0m\u001b[0mrdd\u001b[0m\u001b[0;34m.\u001b[0m\u001b[0mflatMap\u001b[0m\u001b[0;34m(\u001b[0m\u001b[0;32mlambda\u001b[0m \u001b[0mx\u001b[0m\u001b[0;34m:\u001b[0m \u001b[0mx\u001b[0m\u001b[0;34m)\u001b[0m\u001b[0;34m.\u001b[0m\u001b[0mhistogram\u001b[0m\u001b[0;34m(\u001b[0m\u001b[0;36m11\u001b[0m\u001b[0;34m)\u001b[0m\u001b[0;34m\u001b[0m\u001b[0;34m\u001b[0m\u001b[0m\n\u001b[0m",
            "\u001b[0;31mAttributeError\u001b[0m: 'GroupedData' object has no attribute 'select'"
          ]
        }
      ]
    },
    {
      "cell_type": "code",
      "metadata": {
        "id": "7tAsztEPZ03X",
        "colab_type": "code",
        "colab": {
          "base_uri": "https://localhost:8080/",
          "height": 119
        },
        "outputId": "c89d9f5c-b200-497d-e6b9-881f78bb179f"
      },
      "source": [
        "trump_sentiment.agg(avg(col(\"sentiment\"))).show()"
      ],
      "execution_count": 80,
      "outputs": [
        {
          "output_type": "stream",
          "text": [
            "+-------------------+\n",
            "|     avg(sentiment)|\n",
            "+-------------------+\n",
            "|0.06997730491630241|\n",
            "+-------------------+\n",
            "\n"
          ],
          "name": "stdout"
        }
      ]
    },
    {
      "cell_type": "code",
      "metadata": {
        "id": "yTArhLP0gIDX",
        "colab_type": "code",
        "colab": {}
      },
      "source": [
        ""
      ],
      "execution_count": null,
      "outputs": []
    }
  ]
}