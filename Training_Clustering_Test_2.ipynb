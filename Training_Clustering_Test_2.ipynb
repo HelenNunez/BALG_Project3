{
  "nbformat": 4,
  "nbformat_minor": 0,
  "metadata": {
    "colab": {
      "name": "Training_Clustering_Test_1.ipynb",
      "provenance": [],
      "collapsed_sections": [],
      "authorship_tag": "ABX9TyOzlOU7gGwrLA4NoZsCwaE6",
      "include_colab_link": true
    },
    "kernelspec": {
      "name": "python3",
      "display_name": "Python 3"
    },
    "widgets": {
      "application/vnd.jupyter.widget-state+json": {
        "9b95a93faf274210a2771e9a310b7db2": {
          "model_module": "@jupyter-widgets/controls",
          "model_name": "HBoxModel",
          "state": {
            "_view_name": "HBoxView",
            "_dom_classes": [],
            "_model_name": "HBoxModel",
            "_view_module": "@jupyter-widgets/controls",
            "_model_module_version": "1.5.0",
            "_view_count": null,
            "_view_module_version": "1.5.0",
            "box_style": "",
            "layout": "IPY_MODEL_ed3832cda8c94c26a0686e1d11ee698a",
            "_model_module": "@jupyter-widgets/controls",
            "children": [
              "IPY_MODEL_d44a9a8617b24c69ad8eedbe4cdf956d",
              "IPY_MODEL_e7f3f39e7e454c6892166b90d60e3129"
            ]
          }
        },
        "ed3832cda8c94c26a0686e1d11ee698a": {
          "model_module": "@jupyter-widgets/base",
          "model_name": "LayoutModel",
          "state": {
            "_view_name": "LayoutView",
            "grid_template_rows": null,
            "right": null,
            "justify_content": null,
            "_view_module": "@jupyter-widgets/base",
            "overflow": null,
            "_model_module_version": "1.2.0",
            "_view_count": null,
            "flex_flow": null,
            "width": null,
            "min_width": null,
            "border": null,
            "align_items": null,
            "bottom": null,
            "_model_module": "@jupyter-widgets/base",
            "top": null,
            "grid_column": null,
            "overflow_y": null,
            "overflow_x": null,
            "grid_auto_flow": null,
            "grid_area": null,
            "grid_template_columns": null,
            "flex": null,
            "_model_name": "LayoutModel",
            "justify_items": null,
            "grid_row": null,
            "max_height": null,
            "align_content": null,
            "visibility": null,
            "align_self": null,
            "height": null,
            "min_height": null,
            "padding": null,
            "grid_auto_rows": null,
            "grid_gap": null,
            "max_width": null,
            "order": null,
            "_view_module_version": "1.2.0",
            "grid_template_areas": null,
            "object_position": null,
            "object_fit": null,
            "grid_auto_columns": null,
            "margin": null,
            "display": null,
            "left": null
          }
        },
        "d44a9a8617b24c69ad8eedbe4cdf956d": {
          "model_module": "@jupyter-widgets/controls",
          "model_name": "FloatProgressModel",
          "state": {
            "_view_name": "ProgressView",
            "style": "IPY_MODEL_e4715135dd9043fb8dd27f1006e9769d",
            "_dom_classes": [],
            "description": "Dl Completed...: 100%",
            "_model_name": "FloatProgressModel",
            "bar_style": "success",
            "max": 258,
            "_view_module": "@jupyter-widgets/controls",
            "_model_module_version": "1.5.0",
            "value": 258,
            "_view_count": null,
            "_view_module_version": "1.5.0",
            "orientation": "horizontal",
            "min": 0,
            "description_tooltip": null,
            "_model_module": "@jupyter-widgets/controls",
            "layout": "IPY_MODEL_c98b77381e1841a48ea97ee4c1a2bbca"
          }
        },
        "e7f3f39e7e454c6892166b90d60e3129": {
          "model_module": "@jupyter-widgets/controls",
          "model_name": "HTMLModel",
          "state": {
            "_view_name": "HTMLView",
            "style": "IPY_MODEL_29ee68ca3ff94050be3f5c17ce7860ed",
            "_dom_classes": [],
            "description": "",
            "_model_name": "HTMLModel",
            "placeholder": "​",
            "_view_module": "@jupyter-widgets/controls",
            "_model_module_version": "1.5.0",
            "value": " 258/258 [04:51&lt;00:00,  1.13s/ file]",
            "_view_count": null,
            "_view_module_version": "1.5.0",
            "description_tooltip": null,
            "_model_module": "@jupyter-widgets/controls",
            "layout": "IPY_MODEL_6d8eb28cd79e4decb8bebe25c332addb"
          }
        },
        "e4715135dd9043fb8dd27f1006e9769d": {
          "model_module": "@jupyter-widgets/controls",
          "model_name": "ProgressStyleModel",
          "state": {
            "_view_name": "StyleView",
            "_model_name": "ProgressStyleModel",
            "description_width": "initial",
            "_view_module": "@jupyter-widgets/base",
            "_model_module_version": "1.5.0",
            "_view_count": null,
            "_view_module_version": "1.2.0",
            "bar_color": null,
            "_model_module": "@jupyter-widgets/controls"
          }
        },
        "c98b77381e1841a48ea97ee4c1a2bbca": {
          "model_module": "@jupyter-widgets/base",
          "model_name": "LayoutModel",
          "state": {
            "_view_name": "LayoutView",
            "grid_template_rows": null,
            "right": null,
            "justify_content": null,
            "_view_module": "@jupyter-widgets/base",
            "overflow": null,
            "_model_module_version": "1.2.0",
            "_view_count": null,
            "flex_flow": null,
            "width": null,
            "min_width": null,
            "border": null,
            "align_items": null,
            "bottom": null,
            "_model_module": "@jupyter-widgets/base",
            "top": null,
            "grid_column": null,
            "overflow_y": null,
            "overflow_x": null,
            "grid_auto_flow": null,
            "grid_area": null,
            "grid_template_columns": null,
            "flex": null,
            "_model_name": "LayoutModel",
            "justify_items": null,
            "grid_row": null,
            "max_height": null,
            "align_content": null,
            "visibility": null,
            "align_self": null,
            "height": null,
            "min_height": null,
            "padding": null,
            "grid_auto_rows": null,
            "grid_gap": null,
            "max_width": null,
            "order": null,
            "_view_module_version": "1.2.0",
            "grid_template_areas": null,
            "object_position": null,
            "object_fit": null,
            "grid_auto_columns": null,
            "margin": null,
            "display": null,
            "left": null
          }
        },
        "29ee68ca3ff94050be3f5c17ce7860ed": {
          "model_module": "@jupyter-widgets/controls",
          "model_name": "DescriptionStyleModel",
          "state": {
            "_view_name": "StyleView",
            "_model_name": "DescriptionStyleModel",
            "description_width": "",
            "_view_module": "@jupyter-widgets/base",
            "_model_module_version": "1.5.0",
            "_view_count": null,
            "_view_module_version": "1.2.0",
            "_model_module": "@jupyter-widgets/controls"
          }
        },
        "6d8eb28cd79e4decb8bebe25c332addb": {
          "model_module": "@jupyter-widgets/base",
          "model_name": "LayoutModel",
          "state": {
            "_view_name": "LayoutView",
            "grid_template_rows": null,
            "right": null,
            "justify_content": null,
            "_view_module": "@jupyter-widgets/base",
            "overflow": null,
            "_model_module_version": "1.2.0",
            "_view_count": null,
            "flex_flow": null,
            "width": null,
            "min_width": null,
            "border": null,
            "align_items": null,
            "bottom": null,
            "_model_module": "@jupyter-widgets/base",
            "top": null,
            "grid_column": null,
            "overflow_y": null,
            "overflow_x": null,
            "grid_auto_flow": null,
            "grid_area": null,
            "grid_template_columns": null,
            "flex": null,
            "_model_name": "LayoutModel",
            "justify_items": null,
            "grid_row": null,
            "max_height": null,
            "align_content": null,
            "visibility": null,
            "align_self": null,
            "height": null,
            "min_height": null,
            "padding": null,
            "grid_auto_rows": null,
            "grid_gap": null,
            "max_width": null,
            "order": null,
            "_view_module_version": "1.2.0",
            "grid_template_areas": null,
            "object_position": null,
            "object_fit": null,
            "grid_auto_columns": null,
            "margin": null,
            "display": null,
            "left": null
          }
        }
      }
    }
  },
  "cells": [
    {
      "cell_type": "markdown",
      "metadata": {
        "id": "view-in-github",
        "colab_type": "text"
      },
      "source": [
        "<a href=\"https://colab.research.google.com/github/HelenNunez/BALG_Project3/blob/master/Training_Clustering_Test_2.ipynb\" target=\"_parent\"><img src=\"https://colab.research.google.com/assets/colab-badge.svg\" alt=\"Open In Colab\"/></a>"
      ]
    },
    {
      "cell_type": "code",
      "metadata": {
        "id": "nMAaj8e10esu",
        "colab_type": "code",
        "colab": {
          "base_uri": "https://localhost:8080/",
          "height": 666
        },
        "outputId": "b4684e04-7d64-4229-9723-83b257e1534b"
      },
      "source": [
        "pip install tensorflow"
      ],
      "execution_count": null,
      "outputs": [
        {
          "output_type": "stream",
          "text": [
            "Requirement already satisfied: tensorflow in /usr/local/lib/python3.6/dist-packages (2.3.0)\n",
            "Requirement already satisfied: h5py<2.11.0,>=2.10.0 in /usr/local/lib/python3.6/dist-packages (from tensorflow) (2.10.0)\n",
            "Requirement already satisfied: scipy==1.4.1 in /usr/local/lib/python3.6/dist-packages (from tensorflow) (1.4.1)\n",
            "Requirement already satisfied: wrapt>=1.11.1 in /usr/local/lib/python3.6/dist-packages (from tensorflow) (1.12.1)\n",
            "Requirement already satisfied: tensorflow-estimator<2.4.0,>=2.3.0 in /usr/local/lib/python3.6/dist-packages (from tensorflow) (2.3.0)\n",
            "Requirement already satisfied: tensorboard<3,>=2.3.0 in /usr/local/lib/python3.6/dist-packages (from tensorflow) (2.3.0)\n",
            "Requirement already satisfied: termcolor>=1.1.0 in /usr/local/lib/python3.6/dist-packages (from tensorflow) (1.1.0)\n",
            "Requirement already satisfied: grpcio>=1.8.6 in /usr/local/lib/python3.6/dist-packages (from tensorflow) (1.31.0)\n",
            "Requirement already satisfied: opt-einsum>=2.3.2 in /usr/local/lib/python3.6/dist-packages (from tensorflow) (3.3.0)\n",
            "Requirement already satisfied: numpy<1.19.0,>=1.16.0 in /usr/local/lib/python3.6/dist-packages (from tensorflow) (1.18.5)\n",
            "Requirement already satisfied: gast==0.3.3 in /usr/local/lib/python3.6/dist-packages (from tensorflow) (0.3.3)\n",
            "Requirement already satisfied: six>=1.12.0 in /usr/local/lib/python3.6/dist-packages (from tensorflow) (1.15.0)\n",
            "Requirement already satisfied: wheel>=0.26 in /usr/local/lib/python3.6/dist-packages (from tensorflow) (0.34.2)\n",
            "Requirement already satisfied: astunparse==1.6.3 in /usr/local/lib/python3.6/dist-packages (from tensorflow) (1.6.3)\n",
            "Requirement already satisfied: keras-preprocessing<1.2,>=1.1.1 in /usr/local/lib/python3.6/dist-packages (from tensorflow) (1.1.2)\n",
            "Requirement already satisfied: protobuf>=3.9.2 in /usr/local/lib/python3.6/dist-packages (from tensorflow) (3.12.4)\n",
            "Requirement already satisfied: google-pasta>=0.1.8 in /usr/local/lib/python3.6/dist-packages (from tensorflow) (0.2.0)\n",
            "Requirement already satisfied: absl-py>=0.7.0 in /usr/local/lib/python3.6/dist-packages (from tensorflow) (0.9.0)\n",
            "Requirement already satisfied: markdown>=2.6.8 in /usr/local/lib/python3.6/dist-packages (from tensorboard<3,>=2.3.0->tensorflow) (3.2.2)\n",
            "Requirement already satisfied: google-auth-oauthlib<0.5,>=0.4.1 in /usr/local/lib/python3.6/dist-packages (from tensorboard<3,>=2.3.0->tensorflow) (0.4.1)\n",
            "Requirement already satisfied: requests<3,>=2.21.0 in /usr/local/lib/python3.6/dist-packages (from tensorboard<3,>=2.3.0->tensorflow) (2.23.0)\n",
            "Requirement already satisfied: werkzeug>=0.11.15 in /usr/local/lib/python3.6/dist-packages (from tensorboard<3,>=2.3.0->tensorflow) (1.0.1)\n",
            "Requirement already satisfied: google-auth<2,>=1.6.3 in /usr/local/lib/python3.6/dist-packages (from tensorboard<3,>=2.3.0->tensorflow) (1.17.2)\n",
            "Requirement already satisfied: tensorboard-plugin-wit>=1.6.0 in /usr/local/lib/python3.6/dist-packages (from tensorboard<3,>=2.3.0->tensorflow) (1.7.0)\n",
            "Requirement already satisfied: setuptools>=41.0.0 in /usr/local/lib/python3.6/dist-packages (from tensorboard<3,>=2.3.0->tensorflow) (49.2.0)\n",
            "Requirement already satisfied: importlib-metadata; python_version < \"3.8\" in /usr/local/lib/python3.6/dist-packages (from markdown>=2.6.8->tensorboard<3,>=2.3.0->tensorflow) (1.7.0)\n",
            "Requirement already satisfied: requests-oauthlib>=0.7.0 in /usr/local/lib/python3.6/dist-packages (from google-auth-oauthlib<0.5,>=0.4.1->tensorboard<3,>=2.3.0->tensorflow) (1.3.0)\n",
            "Requirement already satisfied: idna<3,>=2.5 in /usr/local/lib/python3.6/dist-packages (from requests<3,>=2.21.0->tensorboard<3,>=2.3.0->tensorflow) (2.10)\n",
            "Requirement already satisfied: urllib3!=1.25.0,!=1.25.1,<1.26,>=1.21.1 in /usr/local/lib/python3.6/dist-packages (from requests<3,>=2.21.0->tensorboard<3,>=2.3.0->tensorflow) (1.24.3)\n",
            "Requirement already satisfied: certifi>=2017.4.17 in /usr/local/lib/python3.6/dist-packages (from requests<3,>=2.21.0->tensorboard<3,>=2.3.0->tensorflow) (2020.6.20)\n",
            "Requirement already satisfied: chardet<4,>=3.0.2 in /usr/local/lib/python3.6/dist-packages (from requests<3,>=2.21.0->tensorboard<3,>=2.3.0->tensorflow) (3.0.4)\n",
            "Requirement already satisfied: rsa<5,>=3.1.4; python_version >= \"3\" in /usr/local/lib/python3.6/dist-packages (from google-auth<2,>=1.6.3->tensorboard<3,>=2.3.0->tensorflow) (4.6)\n",
            "Requirement already satisfied: cachetools<5.0,>=2.0.0 in /usr/local/lib/python3.6/dist-packages (from google-auth<2,>=1.6.3->tensorboard<3,>=2.3.0->tensorflow) (4.1.1)\n",
            "Requirement already satisfied: pyasn1-modules>=0.2.1 in /usr/local/lib/python3.6/dist-packages (from google-auth<2,>=1.6.3->tensorboard<3,>=2.3.0->tensorflow) (0.2.8)\n",
            "Requirement already satisfied: zipp>=0.5 in /usr/local/lib/python3.6/dist-packages (from importlib-metadata; python_version < \"3.8\"->markdown>=2.6.8->tensorboard<3,>=2.3.0->tensorflow) (3.1.0)\n",
            "Requirement already satisfied: oauthlib>=3.0.0 in /usr/local/lib/python3.6/dist-packages (from requests-oauthlib>=0.7.0->google-auth-oauthlib<0.5,>=0.4.1->tensorboard<3,>=2.3.0->tensorflow) (3.1.0)\n",
            "Requirement already satisfied: pyasn1>=0.1.3 in /usr/local/lib/python3.6/dist-packages (from rsa<5,>=3.1.4; python_version >= \"3\"->google-auth<2,>=1.6.3->tensorboard<3,>=2.3.0->tensorflow) (0.4.8)\n"
          ],
          "name": "stdout"
        }
      ]
    },
    {
      "cell_type": "code",
      "metadata": {
        "id": "XswxFih9AiIl",
        "colab_type": "code",
        "colab": {
          "base_uri": "https://localhost:8080/",
          "height": 582
        },
        "outputId": "caacc6a4-fc25-41a5-c078-c69245ab8983"
      },
      "source": [
        "pip install --upgrade tensorflow-datasets"
      ],
      "execution_count": null,
      "outputs": [
        {
          "output_type": "stream",
          "text": [
            "Collecting tensorflow-datasets\n",
            "\u001b[?25l  Downloading https://files.pythonhosted.org/packages/ca/c9/d97bdf931edbae9aebc767633d088bd674136d5fe7587ef693b7cb6a1883/tensorflow_datasets-3.2.1-py3-none-any.whl (3.4MB)\n",
            "\u001b[K     |████████████████████████████████| 3.4MB 2.7MB/s \n",
            "\u001b[?25hRequirement already satisfied, skipping upgrade: protobuf>=3.6.1 in /usr/local/lib/python3.6/dist-packages (from tensorflow-datasets) (3.12.4)\n",
            "Requirement already satisfied, skipping upgrade: promise in /usr/local/lib/python3.6/dist-packages (from tensorflow-datasets) (2.3)\n",
            "Requirement already satisfied, skipping upgrade: future in /usr/local/lib/python3.6/dist-packages (from tensorflow-datasets) (0.16.0)\n",
            "Requirement already satisfied, skipping upgrade: tqdm in /usr/local/lib/python3.6/dist-packages (from tensorflow-datasets) (4.41.1)\n",
            "Requirement already satisfied, skipping upgrade: wrapt in /usr/local/lib/python3.6/dist-packages (from tensorflow-datasets) (1.12.1)\n",
            "Requirement already satisfied, skipping upgrade: dill in /usr/local/lib/python3.6/dist-packages (from tensorflow-datasets) (0.3.2)\n",
            "Requirement already satisfied, skipping upgrade: termcolor in /usr/local/lib/python3.6/dist-packages (from tensorflow-datasets) (1.1.0)\n",
            "Requirement already satisfied, skipping upgrade: absl-py in /usr/local/lib/python3.6/dist-packages (from tensorflow-datasets) (0.9.0)\n",
            "Requirement already satisfied, skipping upgrade: requests>=2.19.0 in /usr/local/lib/python3.6/dist-packages (from tensorflow-datasets) (2.23.0)\n",
            "Requirement already satisfied, skipping upgrade: tensorflow-metadata in /usr/local/lib/python3.6/dist-packages (from tensorflow-datasets) (0.22.2)\n",
            "Requirement already satisfied, skipping upgrade: six in /usr/local/lib/python3.6/dist-packages (from tensorflow-datasets) (1.15.0)\n",
            "Requirement already satisfied, skipping upgrade: numpy in /usr/local/lib/python3.6/dist-packages (from tensorflow-datasets) (1.18.5)\n",
            "Requirement already satisfied, skipping upgrade: attrs>=18.1.0 in /usr/local/lib/python3.6/dist-packages (from tensorflow-datasets) (19.3.0)\n",
            "Requirement already satisfied, skipping upgrade: setuptools in /usr/local/lib/python3.6/dist-packages (from protobuf>=3.6.1->tensorflow-datasets) (49.2.0)\n",
            "Requirement already satisfied, skipping upgrade: urllib3!=1.25.0,!=1.25.1,<1.26,>=1.21.1 in /usr/local/lib/python3.6/dist-packages (from requests>=2.19.0->tensorflow-datasets) (1.24.3)\n",
            "Requirement already satisfied, skipping upgrade: certifi>=2017.4.17 in /usr/local/lib/python3.6/dist-packages (from requests>=2.19.0->tensorflow-datasets) (2020.6.20)\n",
            "Requirement already satisfied, skipping upgrade: idna<3,>=2.5 in /usr/local/lib/python3.6/dist-packages (from requests>=2.19.0->tensorflow-datasets) (2.10)\n",
            "Requirement already satisfied, skipping upgrade: chardet<4,>=3.0.2 in /usr/local/lib/python3.6/dist-packages (from requests>=2.19.0->tensorflow-datasets) (3.0.4)\n",
            "Requirement already satisfied, skipping upgrade: googleapis-common-protos in /usr/local/lib/python3.6/dist-packages (from tensorflow-metadata->tensorflow-datasets) (1.52.0)\n",
            "Installing collected packages: tensorflow-datasets\n",
            "  Found existing installation: tensorflow-datasets 2.1.0\n",
            "    Uninstalling tensorflow-datasets-2.1.0:\n",
            "      Successfully uninstalled tensorflow-datasets-2.1.0\n",
            "Successfully installed tensorflow-datasets-3.2.1\n"
          ],
          "name": "stdout"
        },
        {
          "output_type": "display_data",
          "data": {
            "application/vnd.colab-display-data+json": {
              "pip_warning": {
                "packages": [
                  "tensorflow_datasets"
                ]
              }
            }
          },
          "metadata": {
            "tags": []
          }
        }
      ]
    },
    {
      "cell_type": "code",
      "metadata": {
        "id": "agj19FtDADGs",
        "colab_type": "code",
        "colab": {}
      },
      "source": [
        "pip install -q tensorflow>=2 tfds-nightly matplotlib"
      ],
      "execution_count": null,
      "outputs": []
    },
    {
      "cell_type": "code",
      "metadata": {
        "id": "QJ29Gldf15mx",
        "colab_type": "code",
        "colab": {}
      },
      "source": [
        "import tensorflow as tf\n",
        "import numpy as np\n",
        "import tensorflow_datasets as tfds \n",
        "import pandas as pd"
      ],
      "execution_count": 1,
      "outputs": []
    },
    {
      "cell_type": "code",
      "metadata": {
        "id": "WTFZAhnU-SSC",
        "colab_type": "code",
        "colab": {
          "base_uri": "https://localhost:8080/",
          "height": 1000
        },
        "outputId": "2e54a5b6-1aba-46a5-b2bc-f9d3bc75a2fc"
      },
      "source": [
        "tfds.list_builders()"
      ],
      "execution_count": 2,
      "outputs": [
        {
          "output_type": "execute_result",
          "data": {
            "text/plain": [
              "['abstract_reasoning',\n",
              " 'aeslc',\n",
              " 'aflw2k3d',\n",
              " 'ai2_arc',\n",
              " 'amazon_us_reviews',\n",
              " 'anli',\n",
              " 'arc',\n",
              " 'bair_robot_pushing_small',\n",
              " 'beans',\n",
              " 'big_patent',\n",
              " 'bigearthnet',\n",
              " 'billsum',\n",
              " 'binarized_mnist',\n",
              " 'binary_alpha_digits',\n",
              " 'blimp',\n",
              " 'c4',\n",
              " 'caltech101',\n",
              " 'caltech_birds2010',\n",
              " 'caltech_birds2011',\n",
              " 'cars196',\n",
              " 'cassava',\n",
              " 'cats_vs_dogs',\n",
              " 'celeb_a',\n",
              " 'celeb_a_hq',\n",
              " 'cfq',\n",
              " 'chexpert',\n",
              " 'cifar10',\n",
              " 'cifar100',\n",
              " 'cifar10_1',\n",
              " 'cifar10_corrupted',\n",
              " 'citrus_leaves',\n",
              " 'cityscapes',\n",
              " 'civil_comments',\n",
              " 'clevr',\n",
              " 'clinc_oos',\n",
              " 'cmaterdb',\n",
              " 'cnn_dailymail',\n",
              " 'coco',\n",
              " 'coil100',\n",
              " 'colorectal_histology',\n",
              " 'colorectal_histology_large',\n",
              " 'common_voice',\n",
              " 'cos_e',\n",
              " 'cosmos_qa',\n",
              " 'covid19sum',\n",
              " 'crema_d',\n",
              " 'curated_breast_imaging_ddsm',\n",
              " 'cycle_gan',\n",
              " 'deep_weeds',\n",
              " 'definite_pronoun_resolution',\n",
              " 'dementiabank',\n",
              " 'diabetic_retinopathy_detection',\n",
              " 'div2k',\n",
              " 'dmlab',\n",
              " 'downsampled_imagenet',\n",
              " 'dsprites',\n",
              " 'dtd',\n",
              " 'duke_ultrasound',\n",
              " 'emnist',\n",
              " 'eraser_multi_rc',\n",
              " 'esnli',\n",
              " 'eurosat',\n",
              " 'fashion_mnist',\n",
              " 'flic',\n",
              " 'flores',\n",
              " 'food101',\n",
              " 'forest_fires',\n",
              " 'fuss',\n",
              " 'gap',\n",
              " 'geirhos_conflict_stimuli',\n",
              " 'german_credit_numeric',\n",
              " 'gigaword',\n",
              " 'glue',\n",
              " 'groove',\n",
              " 'higgs',\n",
              " 'horses_or_humans',\n",
              " 'i_naturalist2017',\n",
              " 'imagenet2012',\n",
              " 'imagenet2012_corrupted',\n",
              " 'imagenet2012_real',\n",
              " 'imagenet2012_subset',\n",
              " 'imagenet_a',\n",
              " 'imagenet_resized',\n",
              " 'imagenet_v2',\n",
              " 'imagenette',\n",
              " 'imagewang',\n",
              " 'imdb_reviews',\n",
              " 'irc_disentanglement',\n",
              " 'iris',\n",
              " 'kitti',\n",
              " 'kmnist',\n",
              " 'lfw',\n",
              " 'librispeech',\n",
              " 'librispeech_lm',\n",
              " 'libritts',\n",
              " 'ljspeech',\n",
              " 'lm1b',\n",
              " 'lost_and_found',\n",
              " 'lsun',\n",
              " 'malaria',\n",
              " 'math_dataset',\n",
              " 'mctaco',\n",
              " 'mnist',\n",
              " 'mnist_corrupted',\n",
              " 'movie_lens',\n",
              " 'movie_rationales',\n",
              " 'moving_mnist',\n",
              " 'multi_news',\n",
              " 'multi_nli',\n",
              " 'multi_nli_mismatch',\n",
              " 'natural_questions',\n",
              " 'newsroom',\n",
              " 'nsynth',\n",
              " 'nyu_depth_v2',\n",
              " 'omniglot',\n",
              " 'open_images_challenge2019_detection',\n",
              " 'open_images_v4',\n",
              " 'openbookqa',\n",
              " 'opinion_abstracts',\n",
              " 'opinosis',\n",
              " 'opus',\n",
              " 'oxford_flowers102',\n",
              " 'oxford_iiit_pet',\n",
              " 'para_crawl',\n",
              " 'patch_camelyon',\n",
              " 'pet_finder',\n",
              " 'pg19',\n",
              " 'places365_small',\n",
              " 'plant_leaves',\n",
              " 'plant_village',\n",
              " 'plantae_k',\n",
              " 'qa4mre',\n",
              " 'quickdraw_bitmap',\n",
              " 'reddit',\n",
              " 'reddit_disentanglement',\n",
              " 'reddit_tifu',\n",
              " 'resisc45',\n",
              " 'robonet',\n",
              " 'rock_paper_scissors',\n",
              " 'rock_you',\n",
              " 'samsum',\n",
              " 'savee',\n",
              " 'scan',\n",
              " 'scene_parse150',\n",
              " 'scicite',\n",
              " 'scientific_papers',\n",
              " 'shapes3d',\n",
              " 'smallnorb',\n",
              " 'snli',\n",
              " 'so2sat',\n",
              " 'speech_commands',\n",
              " 'squad',\n",
              " 'stanford_dogs',\n",
              " 'stanford_online_products',\n",
              " 'starcraft_video',\n",
              " 'stl10',\n",
              " 'sun397',\n",
              " 'super_glue',\n",
              " 'svhn_cropped',\n",
              " 'ted_hrlr_translate',\n",
              " 'ted_multi_translate',\n",
              " 'tedlium',\n",
              " 'tf_flowers',\n",
              " 'the300w_lp',\n",
              " 'tiny_shakespeare',\n",
              " 'titanic',\n",
              " 'trivia_qa',\n",
              " 'uc_merced',\n",
              " 'ucf101',\n",
              " 'vctk',\n",
              " 'vgg_face2',\n",
              " 'visual_domain_decathlon',\n",
              " 'voc',\n",
              " 'voxceleb',\n",
              " 'voxforge',\n",
              " 'waymo_open_dataset',\n",
              " 'web_questions',\n",
              " 'wider_face',\n",
              " 'wiki40b',\n",
              " 'wikihow',\n",
              " 'wikipedia',\n",
              " 'wikipedia_toxicity_subtypes',\n",
              " 'winogrande',\n",
              " 'wmt14_translate',\n",
              " 'wmt15_translate',\n",
              " 'wmt16_translate',\n",
              " 'wmt17_translate',\n",
              " 'wmt18_translate',\n",
              " 'wmt19_translate',\n",
              " 'wmt_t2t_translate',\n",
              " 'wmt_translate',\n",
              " 'wordnet',\n",
              " 'xnli',\n",
              " 'xsum',\n",
              " 'yelp_polarity_reviews']"
            ]
          },
          "metadata": {
            "tags": []
          },
          "execution_count": 2
        }
      ]
    },
    {
      "cell_type": "code",
      "metadata": {
        "id": "jl_a006A0MAd",
        "colab_type": "code",
        "colab": {
          "base_uri": "https://localhost:8080/",
          "height": 222,
          "referenced_widgets": [
            "9b95a93faf274210a2771e9a310b7db2",
            "ed3832cda8c94c26a0686e1d11ee698a",
            "d44a9a8617b24c69ad8eedbe4cdf956d",
            "e7f3f39e7e454c6892166b90d60e3129",
            "e4715135dd9043fb8dd27f1006e9769d",
            "c98b77381e1841a48ea97ee4c1a2bbca",
            "29ee68ca3ff94050be3f5c17ce7860ed",
            "6d8eb28cd79e4decb8bebe25c332addb"
          ]
        },
        "outputId": "8af3af20-6743-4323-9480-245ac018b4f4"
      },
      "source": [
        "# Loading the wikipedia dataset.\n",
        "DATASET_NAME = 'wikipedia/20200301.en'\n",
        "# DATASET_NAME = 'wikipedia/20190301.uk'\n",
        "\n",
        "dataset, dataset_info = tfds.load(\n",
        "    name=DATASET_NAME,\n",
        "    data_dir='tmp',\n",
        "    with_info=True,\n",
        "    split=tfds.Split.TRAIN,\n",
        ")"
      ],
      "execution_count": 17,
      "outputs": [
        {
          "output_type": "stream",
          "text": [
            "\u001b[1mDownloading and preparing dataset wikipedia/20200301.en/1.0.0 (download: 16.73 GiB, generated: 17.05 GiB, total: 33.77 GiB) to tmp/wikipedia/20200301.en/1.0.0...\u001b[0m\n"
          ],
          "name": "stdout"
        },
        {
          "output_type": "stream",
          "text": [
            "WARNING:absl:Dataset wikipedia is hosted on GCS. It will automatically be downloaded to your\n",
            "local data directory. If you'd instead prefer to read directly from our public\n",
            "GCS bucket (recommended if you're running on GCP), you can instead pass\n",
            "`try_gcs=True` to `tfds.load` or set `data_dir=gs://tfds-data/datasets`.\n",
            "\n"
          ],
          "name": "stderr"
        },
        {
          "output_type": "display_data",
          "data": {
            "application/vnd.jupyter.widget-view+json": {
              "model_id": "9b95a93faf274210a2771e9a310b7db2",
              "version_minor": 0,
              "version_major": 2
            },
            "text/plain": [
              "HBox(children=(FloatProgress(value=0.0, description='Dl Completed...', max=258.0, style=ProgressStyle(descript…"
            ]
          },
          "metadata": {
            "tags": []
          }
        },
        {
          "output_type": "stream",
          "text": [
            "\n",
            "\n",
            "\u001b[1mDataset wikipedia downloaded and prepared to tmp/wikipedia/20200301.en/1.0.0. Subsequent calls will reuse this data.\u001b[0m\n"
          ],
          "name": "stdout"
        }
      ]
    },
    {
      "cell_type": "code",
      "metadata": {
        "id": "64YDc_zCBG6u",
        "colab_type": "code",
        "colab": {
          "base_uri": "https://localhost:8080/",
          "height": 479
        },
        "outputId": "96586c4d-0285-4fba-c3a4-cb7a5084887d"
      },
      "source": [
        "print(dataset_info)"
      ],
      "execution_count": 18,
      "outputs": [
        {
          "output_type": "stream",
          "text": [
            "tfds.core.DatasetInfo(\n",
            "    name='wikipedia',\n",
            "    version=1.0.0,\n",
            "    description='Wikipedia dataset containing cleaned articles of all languages.\n",
            "The datasets are built from the Wikipedia dump\n",
            "(https://dumps.wikimedia.org/) with one split per language. Each example\n",
            "contains the content of one full Wikipedia article with cleaning to strip\n",
            "markdown and unwanted sections (references, etc.).',\n",
            "    homepage='https://dumps.wikimedia.org',\n",
            "    features=FeaturesDict({\n",
            "        'text': Text(shape=(), dtype=tf.string),\n",
            "        'title': Text(shape=(), dtype=tf.string),\n",
            "    }),\n",
            "    total_num_examples=6033151,\n",
            "    splits={\n",
            "        'train': 6033151,\n",
            "    },\n",
            "    supervised_keys=None,\n",
            "    citation=\"\"\"@ONLINE {wikidump,\n",
            "        author = \"Wikimedia Foundation\",\n",
            "        title  = \"Wikimedia Downloads\",\n",
            "        url    = \"https://dumps.wikimedia.org\"\n",
            "    }\"\"\",\n",
            "    redistribution_info=license: \"This work is licensed under the Creative Commons Attribution-ShareAlike 3.0 Unported License. To view a copy of this license, visit http://creativecommons.org/licenses/by-sa/3.0/ or send a letter to Creative Commons, PO Box 1866, Mountain View, CA 94042, USA.\",\n",
            ")\n",
            "\n"
          ],
          "name": "stdout"
        }
      ]
    },
    {
      "cell_type": "code",
      "metadata": {
        "id": "JF0VYOLSFEgR",
        "colab_type": "code",
        "colab": {
          "base_uri": "https://localhost:8080/",
          "height": 34
        },
        "outputId": "cae5cb33-59ff-4c54-d4a4-9c8e565359c6"
      },
      "source": [
        "print(dataset)"
      ],
      "execution_count": 19,
      "outputs": [
        {
          "output_type": "stream",
          "text": [
            "<PrefetchDataset shapes: {text: (), title: ()}, types: {text: tf.string, title: tf.string}>\n"
          ],
          "name": "stdout"
        }
      ]
    },
    {
      "cell_type": "code",
      "metadata": {
        "id": "oHEWNqKWGTEV",
        "colab_type": "code",
        "colab": {
          "base_uri": "https://localhost:8080/",
          "height": 34
        },
        "outputId": "4fd8b23a-fbf9-4898-c029-4042a4442985"
      },
      "source": [
        "TRAIN_NUM_EXAMPLES = dataset_info.splits['train'].num_examples\n",
        "print('Total number of articles: ', TRAIN_NUM_EXAMPLES)"
      ],
      "execution_count": 20,
      "outputs": [
        {
          "output_type": "stream",
          "text": [
            "Total number of articles:  6033151\n"
          ],
          "name": "stdout"
        }
      ]
    },
    {
      "cell_type": "code",
      "metadata": {
        "id": "ERiC7RoTGXnu",
        "colab_type": "code",
        "colab": {
          "base_uri": "https://localhost:8080/",
          "height": 1000
        },
        "outputId": "4691ed76-fd75-4ef5-c7bd-42a3decbff13"
      },
      "source": [
        "print('First article','\\n======\\n')\n",
        "for example in dataset.take(1):\n",
        "    print('Title:','\\n------')\n",
        "    print(example['title'].numpy().decode('utf-8'))\n",
        "    print()\n",
        "\n",
        "    print('Text:', '\\n------')\n",
        "    print(example['text'].numpy().decode('utf-8'))"
      ],
      "execution_count": 21,
      "outputs": [
        {
          "output_type": "stream",
          "text": [
            "First article \n",
            "======\n",
            "\n",
            "Title: \n",
            "------\n",
            "Joseph Greenberg\n",
            "\n",
            "Text: \n",
            "------\n",
            "Joseph Harold Greenberg (May 28, 1915 – May 7, 2001) was an American linguist, known mainly for his work concerning linguistic typology and the genetic classification of languages.\n",
            "\n",
            "Life\n",
            "\n",
            "Early life and education \n",
            "\n",
            "Joseph Greenberg was born on May 28, 1915 to Jewish parents in Brooklyn, New York. His first great interest was music. At the age of 14, he gave a piano concert in Steinway Hall. He continued to play the piano frequently throughout his life.\n",
            "\n",
            "After finishing high school, he decided to pursue a scholarly career rather than a musical one. He enrolled at Columbia University in New York. During his senior year, he attended a class taught by Franz Boas concerning American Indian languages. With references from Boas and Ruth Benedict, he was accepted as a graduate student by Melville J. Herskovits at Northwestern University in Chicago. During the course of his graduate studies, Greenberg did fieldwork among the Hausa people of Nigeria, where he learned the Hausa language. The subject of his doctoral dissertation was the influence of Islam on a Hausa group that, unlike most others, had not converted to it.\n",
            "\n",
            "During 1940, he began postdoctoral studies at Yale University. These were interrupted by service in the U.S. Army Signal Corps during World War II, for which he worked as a codebreaker and participated with the landing at Casablanca. Before leaving for Europe during 1943, Greenberg married Selma Berkowitz, whom he had met during his first year at Columbia University.\n",
            "\n",
            "Career\n",
            "After the war, Greenberg taught at the University of Minnesota before returning to Columbia University during 1948 as a teacher of anthropology. While in New York, he became acquainted with Roman Jakobson and André Martinet. They introduced him to the Prague school of structuralism, which influenced his work.\n",
            "\n",
            "During 1962, Greenberg relocated to the anthropology department of Stanford University in California, where he continued to work for the rest of his life. During 1965 Greenberg served as president of the African Studies Association. He received during 1996 the highest award for a scholar in Linguistics, the Gold Medal of Philology.\n",
            "\n",
            "Contributions to linguistics\n",
            "\n",
            "Linguistic typology \n",
            "\n",
            "Greenberg's reputation rests partly on his contributions to synchronic linguistics and the quest to identify linguistic universals. During the late 1950s, Greenberg began to examine languages covering a wide geographic and genetic distribution. He located a number of interesting potential universals as well as many strong cross-linguistic tendencies.\n",
            "\n",
            "In particular, Greenberg conceptualized the idea of \"implicational universal\", which has the form, \"if a language has structure X, then it must also have structure Y.\" For example, X might be \"mid front rounded vowels\" and Y \"high front rounded vowels\" (for terminology see phonetics). Many scholars adopted this kind of research following Greenberg's example and it remains important in synchronic linguistics.\n",
            "\n",
            "Like Noam Chomsky, Greenberg sought to discover the universal structures on which human language is based. Unlike Chomsky, Greenberg's method was functionalist, rather than formalist. An argument to reconcile the Greenbergian and Chomskyan methods can be found in Linguistic Universals (2006), edited by Ricardo Mairal and Juana Gil .\n",
            "\n",
            "Many who are strongly opposed to Greenberg's methods of language classification (see below) acknowledge the importance of his typological work. During 1963 he published an article that was extremely influential: \"Some universals of grammar with particular reference to the order of meaningful elements\".\n",
            "\n",
            "Mass comparison \n",
            "\n",
            "Greenberg rejected the opinion, prevalent among linguists since the mid-20th century, that comparative reconstruction was the only method to discover relationships between languages. He argued that genetic classification is methodologically prior to comparative reconstruction, or the first stage of it: one cannot engage in the comparative reconstruction of languages until one knows which languages to compare (1957:44).\n",
            "\n",
            "He also criticized the prevalent opinion that comprehensive comparisons of two languages at a time (which commonly take years to perform) could establish language families of any size. He argued that, even for 8 languages, there are already 4,140 ways to classify them into distinct families, while for 25 languages there are 4,749,027,089,305,918,018 ways (1957:44). For comparison, the Niger–Congo family is said to have some 1,500 languages. He thought language families of any size needed to be established by some scholastic means other than bilateral comparison. The theory of mass comparison is an attempt to demonstrate such means.\n",
            "\n",
            "Greenberg argued for the virtues of breadth over depth. He advocated restricting the amount of material to be compared (to basic vocabulary, morphology, and known paths of sound change) and increasing the number of languages to be compared to all the languages in a given area. This would make it possible to compare numerous languages reliably. At the same time, the process would provide a check on accidental resemblances through the sheer number of languages under review. The mathematical probability that resemblances are accidental decreases strongly with the number of languages concerned (1957:39).\n",
            "\n",
            "Greenberg used the premise that mass \"borrowing\" of basic vocabulary is unknown. He argued that borrowing, when it occurs, is concentrated in cultural vocabulary and clusters \"in certain semantic areas\", making it easy to detect (1957:39). With the goal of determining broad patterns of relationship, the idea was not to get every word right but to detect patterns. From the beginning with his theory of mass comparison, Greenberg addressed why chance resemblance and borrowing were not obstacles to its being useful. Despite that, critics consider those phenomena caused difficulties for his theory.\n",
            "\n",
            "Greenberg first termed his method \"mass comparison\" in an article of 1954 (reprinted in Greenberg 1955). As of 1987, he replaced the term \"mass comparison\" with \"multilateral comparison\", to emphasize its contrast with the bilateral comparisons recommended by linguistics textbooks. He believed that multilateral comparison was not in any way opposed to the comparative method, but is, on the contrary, its necessary first step (Greenberg, 1957:44). According to him, comparative reconstruction should have the status of an explanatory theory for facts already established by language classification (Greenberg, 1957:45).\n",
            "\n",
            "Most historical linguists (Campbell 2001:45) reject the use of mass comparison as a method for establishing genealogical relationships between languages. Among the most outspoken critics of mass comparison have been Lyle Campbell, Donald Ringe, William Poser, and the late R. Larry Trask.\n",
            "\n",
            "Genetic classification of languages\n",
            "\n",
            "Languages of Africa \n",
            "\n",
            "Greenberg is known widely for his development of a classification system for the languages of Africa, which he published as a series of articles in the Southwestern Journal of Anthropology from 1949 to 1954 (reprinted together as a book, The Languages of Africa, in 1955). He revised the book and published it again during 1963, followed by a nearly identical edition of 1966 (reprinted without change during 1970). A few more changes of the classification were made by Greenberg in an article during 1981.\n",
            "\n",
            "Greenberg grouped the hundreds of African languages into four families, which he dubbed Afroasiatic, Nilo-Saharan, Niger–Congo, and Khoisan. During the course of his work, Greenberg invented the term \"Afroasiatic\" to replace the earlier term \"Hamito-Semitic\", after showing that the Hamitic group, accepted widely since the 19th century, is not a valid language family. Another major feature of his work was to establish the classification of the Bantu languages, which occupy much of sub-Saharan Africa, as a part of the Niger–Congo family, rather than as an independent family as many Bantuists had maintained.\n",
            "\n",
            "Greenberg's classification rested largely in evaluating competing earlier classifications. For a time, his classification was considered bold and speculative, especially the proposal of a Nilo-Saharan language family. Now, apart from Khoisan, it is generally accepted by African specialists and has been used as a basis for further work by other scholars.\n",
            "\n",
            "Greenberg's work on African languages has been criticised by Lyle Campbell and Donald Ringe, who do not believe that his classification is justified by his data and request a re-examination of his macro-phyla by \"reliable methods\" (Ringe 1993:104). Harold Fleming and Lionel Bender, who were sympathetic to Greenberg's classification, acknowledged that at least some of his macrofamilies (particularly the Nilo-Saharan and the Khoisan macrofamiles) are not accepted completely by most linguists and may need to be divided (Campbell 1997). Their objection was methodological: if mass comparison is not a valid method, it cannot be expected to have brought order successfully out of the confusion of African languages.\n",
            "\n",
            "By contrast, some linguists have sought to combine Greenberg's four African families into larger units. In particular, Edgar Gregersen (1972) proposed joining Niger–Congo and Nilo-Saharan into a larger family, which he termed Kongo-Saharan. Roger Blench (1995) suggests Niger–Congo is a subfamily of Nilo-Saharan.\n",
            "\n",
            "The languages of New Guinea, Tasmania, and the Andaman Islands\n",
            "\n",
            "During 1971 Greenberg proposed the Indo-Pacific macrofamily, which groups together the Papuan languages (a large number of language families of New Guinea and nearby islands) with the native languages of the Andaman Islands and Tasmania but excludes the Australian Aboriginal languages. Its principal feature was to reduce the manifold language families of New Guinea to a single genetic unit. This excludes the Austronesian languages, which have been established as associated with a more recent migration of people.\n",
            "\n",
            "Greenberg's subgrouping of these languages has not been accepted by the few specialists who have worked on the classification of these languages. However, the work of Stephen Wurm (1982) and Malcolm Ross (2005) has provided considerable evidence for his once-radical idea that these languages form a single genetic unit. Wurm stated that the lexical similarities between Great Andamanese and the West Papuan and Timor–Alor families \"are quite striking and amount to virtual formal identity [...] in a number of instances.\" He believes this to be due to a linguistic substratum.\n",
            "\n",
            "The languages of the Americas\n",
            "\n",
            "Most linguists concerned with the native languages of the Americas classify them into 150 to 180 independent language families. Some believe that two language families, Eskimo–Aleut and Na-Dené, were distinct, perhaps the results of later migrations into the New World.\n",
            "\n",
            "Early on, Greenberg (1957:41, 1960) became convinced that many of the language groups considered unrelated could be classified into larger groupings. In his 1987 book Language in the Americas, while agreeing that the Eskimo–Aleut and Na-Dené groupings as distinct, he proposed that all the other Native American languages belong to a single language macro-family, which he termed Amerind.\n",
            "\n",
            "Language in the Americas has generated lively debate, but has been criticized strongly; it is rejected by most specialists of indigenous languages of the Americas and also by most historical linguists. Specialists of the individual language families have found extensive inaccuracies and errors in Greenberg's data, such as including data from non-existent languages, erroneous transcriptions of the forms compared, misinterpretations of the meanings of words used for comparison, and entirely spurious forms.\n",
            "\n",
            "Historical linguists also reject the validity of the method of multilateral (or mass) comparison upon which the classification is based. They argue that he has not provided a convincing case that the similarities presented as evidence are due to inheritance from an earlier common ancestor rather than being explained by a combination of errors, accidental similarity, excessive semantic latitude in comparisons, borrowings, onomatopoeia, etc.\n",
            "\n",
            "However, Harvard geneticist David Reich notes that recent genetic studies have identified patterns that support Greenberg's Amerind classification: the “First American” category. “The cluster of populations that he predicted to be most closely related based on language were in fact verified by the genetic patterns in populations for which data are available.” Nevertheless, this category of “First American” people also interbred with and contributed a significant amount of genes to the ancestors of both Eskimo-Aleut and Na-Dené populations, with 60% and 90% \"First American\" DNA respectively constituting the genetic makeup of the two groups.\n",
            "\n",
            "The languages of northern Eurasia \n",
            "\n",
            "Later in his life, Greenberg proposed that nearly all of the language families of northern Eurasia belong to a single higher-order family, which he termed Eurasiatic. The only exception was Yeniseian, which has been related to a wider Dené–Caucasian grouping, also including Sino-Tibetan.  During 2008 Edward Vajda related Yeniseian to the Na-Dené languages of North America as a Dené–Yeniseian family.\n",
            "\n",
            "The Eurasiatic grouping resembles the older Nostratic groupings of Holger Pedersen and Vladislav Illich-Svitych by including Indo-European, Uralic, and Altaic. It differs by including Nivkh, Japonic, Korean, and Ainu (which the Nostraticists had excluded from comparison because they are single languages rather than language families) and in excluding Afroasiatic. At about this time, Russian Nostraticists, notably Sergei Starostin, constructed a revised version of Nostratic. It was slightly larger than Greenberg's grouping but it also excluded Afroasiatic.\n",
            "\n",
            "Recently, a consensus has been emerging among proponents of the Nostratic hypothesis. Greenberg basically agreed with the Nostratic concept, though he stressed a deep internal division between its northern 'tier' (his Eurasiatic) and a southern 'tier' (principally Afroasiatic and Dravidian).\n",
            "\n",
            "The American Nostraticist Allan Bomhard considers Eurasiatic a branch of Nostratic, alongside other branches: Afroasiatic, Elamo-Dravidian, and Kartvelian. Similarly, Georgiy Starostin (2002) arrives at a tripartite overall grouping: he considers Afroasiatic, Nostratic and Elamite to be roughly equidistant and more closely related to each other than to any other language family. Sergei Starostin's school has now included Afroasiatic in a broadly defined Nostratic. They reserve the term Eurasiatic to designate the narrower subgrouping, which comprises the rest of the macrofamily. Recent proposals thus differ mainly on the precise inclusion of Dravidian and Kartvelian.\n",
            "\n",
            "Greenberg continued to work on this project after he was diagnosed with incurable pancreatic cancer and until he died during May 2001. His colleague and former student Merritt Ruhlen ensured the publication of the final volume of his Eurasiatic work (2002) after his death.\n",
            "\n",
            "Selected works by Joseph H. Greenberg\n",
            "\n",
            "Books \n",
            "  (Photo-offset reprint of the SJA articles with minor corrections.)\n",
            " \n",
            "  (Heavily revised version of Greenberg 1955. From the same publisher: second, revised edition, 1966; third edition, 1970. All three editions simultaneously published at The Hague by Mouton & Co.)\n",
            "  (Reprinted 1980 and, with a foreword by Martin Haspelmath, 2005.)\n",
            "\n",
            "Books (editor) \n",
            "  (Second edition 1966.)\n",
            "\n",
            "Articles, reviews, etc. \n",
            " \n",
            " \n",
            " \n",
            " \n",
            " \n",
            " \n",
            " \n",
            " \n",
            " \n",
            " \n",
            " \n",
            " \n",
            " \n",
            "  (Reprinted in Genetic Linguistics, 2005.)\n",
            " \n",
            "  (In second edition of Universals of Language, 1966: pp. 73–113.)\n",
            " \n",
            " \n",
            "  (Reprinted in Genetic Linguistics, 2005.)\n",
            "\n",
            "Bibliography\n",
            "\n",
            "Blench, Roger. 1995. \"Is Niger–Congo simply a branch of Nilo-Saharan?\" In Fifth Nilo-Saharan Linguistics Colloquium, Nice, 24–29 August 1992: Proceedings, edited by Robert Nicolaï and Franz Rottland. Cologne: Köppe Verlag, pp. 36–49.\n",
            "\n",
            "Campbell, Lyle. 1997. American Indian Languages: The Historical Linguistics of Native America. New York: Oxford University Press. .\n",
            "Campbell, Lyle. 2001. \"Beyond the comparative method.\" In Historical Linguistics 2001: Selected Papers from the 15th International Conference on Historical Linguistics, Melbourne, 13–17 August 2001, edited by Barry J. Blake, Kate Burridge, and Jo Taylor.\n",
            "Diamond, Jared. 1997. Guns, Germs and Steel: The Fates of Human Societies. New York: Norton. .\n",
            "\n",
            "Mairal, Ricardo and Juana Gil. 2006. Linguistic Universals. Cambridge–NY: Cambridge University Press. .\n",
            "\n",
            "Ross, Malcolm. 2005. \"Pronouns as a preliminary diagnostic for grouping Papuan languages.\" In Papuan Pasts: Cultural, Linguistic and Biological Histories of Papuan-speaking Peoples, edited by Andrew Pawley, Robert Attenborough, Robin Hide, and Jack Golson. Canberra: Pacific Linguistics, pp. 15–66.\n",
            "Wurm, Stephen A. 1982. The Papuan Languages of Oceania. Tübingen: Gunter Narr.\n",
            "\n",
            "See also\n",
            "\n",
            "Linguistic universal\n",
            "Monogenesis (linguistics)\n",
            "Nostratic languages\n",
            "\n",
            "References\n",
            "\n",
            "External links\n",
            "Joseph Greenberg at work; a portrait of himself\n",
            "\"What we all spoke when the world was young\" by Nicholas Wade, New York Times (February 1, 2000)\n",
            "Memorial Resolution\n",
            "\"Complete bibliography of the publications of Joseph H. Greenberg\" by William Croft (2003)\n",
            "\n",
            "Category:1915 births\n",
            "Category:2001 deaths\n",
            "Category:20th-century linguists\n",
            "Category:20th-century anthropologists\n",
            "Category:20th-century non-fiction writers\n",
            "Category:Anthropological linguists\n",
            "Category:American social scientists\n",
            "Category:Linguists from the United States\n",
            "Category:American Africanists\n",
            "Category:Jewish American military personnel\n",
            "Category:Paleolinguists\n",
            "Category:Columbia University faculty\n",
            "Category:Stanford University Department of Anthropology faculty\n",
            "Category:Fellows of the American Academy of Arts and Sciences\n",
            "Category:Members of the United States National Academy of Sciences\n",
            "Category:United States Army personnel\n",
            "Category:American army personnel of World War II\n",
            "Category:Guggenheim Fellows\n",
            "Category:American expatriates in Nigeria\n",
            "Category:People from Brooklyn\n",
            "Category:Linguists of Eskimo–Aleut languages\n",
            "Category:Linguists of Hokan languages\n",
            "Category:Jewish scientists\n",
            "Category:Linguists of Papuan languages\n",
            "Category:Linguists of Amerind languages\n",
            "Category:Linguists of Andamanese languages\n",
            "Category:Linguists of Tasmanian languages\n",
            "Category:Linguists of Niger–Congo languages\n",
            "Category:Linguists of Afroasiatic languages\n",
            "Category:Linguists of Eurasiatic languages\n",
            "Category:Linguistic Society of America presidents\n",
            "Category:Columbia College (New York) alumni\n",
            "Category:Linguists of indigenous languages of the Americas\n"
          ],
          "name": "stdout"
        }
      ]
    },
    {
      "cell_type": "code",
      "metadata": {
        "id": "ihhmOBek-Abo",
        "colab_type": "code",
        "colab": {}
      },
      "source": [
        "# The maximum length sentence we want for a single input in characters.\n",
        "sequence_length = 200"
      ],
      "execution_count": 22,
      "outputs": []
    },
    {
      "cell_type": "code",
      "metadata": {
        "id": "3cFuTb3SFOs6",
        "colab_type": "code",
        "colab": {
          "base_uri": "https://localhost:8080/",
          "height": 119
        },
        "outputId": "68cc4fb9-7e0f-4885-e22d-0534ce074999"
      },
      "source": [
        "def article_to_text(text):\n",
        "    return np.array([char for char in text.numpy().decode('utf-8')])\n",
        "\n",
        "# Converting each dataset item to a string ('text') instead of a dictionary ({'text', 'title'}).\n",
        "dataset_text = dataset.map(\n",
        "    lambda article: tf.py_function(func=article_to_text, inp=[article['text']], Tout=tf.string)\n",
        ")\n",
        "\n",
        "for text in dataset_text.take(2):\n",
        "    print(text.numpy())\n",
        "    print('\\n')"
      ],
      "execution_count": 33,
      "outputs": [
        {
          "output_type": "stream",
          "text": [
            "[b'J' b'o' b's' ... b'c' b'a' b's']\n",
            "\n",
            "\n",
            "[b'P' b'a' b'u' ... b'e' b'r' b's']\n",
            "\n",
            "\n"
          ],
          "name": "stdout"
        }
      ]
    },
    {
      "cell_type": "code",
      "metadata": {
        "id": "8a7D-pp51vSl",
        "colab_type": "code",
        "colab": {
          "base_uri": "https://localhost:8080/",
          "height": 88
        },
        "outputId": "79cbf4b4-72e2-4276-c5fa-9019e2d45667"
      },
      "source": [
        "# ds = ds.take(1)  # Only take a single example\n",
        "# for example in ds:  # example is `{'image': tf.Tensor, 'label': tf.Tensor}`\n",
        "#   print(list(example.keys()))\n",
        "#   text = example[\"text\"]\n",
        "#   title = example[\"title\"]\n",
        "#   print(text)\n",
        "#   print(title)"
      ],
      "execution_count": 13,
      "outputs": [
        {
          "output_type": "stream",
          "text": [
            "['text', 'title']\n",
            "tf.Tensor(b'Wikipedia b\\xc3\\xb6dero k\\xc5\\x93\\xc3\\xa1th amliethog e rhy\\xce\\xb4 g\\xc4\\x93 gell t\\xc5\\x8d un gel\\xc5\\x93ga. Denn gr\\xc3\\xaba\\xc3\\xb0 zero \\xc5\\x93\\xc3\\xa1thws ar \\xc3\\xb0echre di zera gentannwm hon.\\n\\n \\nCategory:Articles\\n\\naf:Wikipedia\\nals:Wikipedia\\nam:\\xe1\\x8b\\x8d\\xe1\\x8a\\xad\\xe1\\x8d\\x94\\xe1\\x8b\\xb2\\xe1\\x8b\\xab\\nan:Biquipedia\\nang:Wicip\\xc7\\xa3dia\\nar:\\xd9\\x88\\xd9\\x8a\\xd9\\x83\\xd9\\x8a\\xd8\\xa8\\xd9\\x8a\\xd8\\xaf\\xd9\\x8a\\xd8\\xa7\\narc:\\xdc\\x98\\xdc\\x9d\\xdc\\x9f\\xdc\\x9d\\xdc\\xa6\\xdc\\x95\\xdc\\x9d\\xdc\\x90\\nast:Uiquipedia\\nay:Wikipidiya\\naz:Vikipediya\\nba:\\xd0\\x92\\xd0\\xb8\\xd0\\xba\\xd0\\xb8\\xd0\\xbf\\xd0\\xb5\\xd0\\xb4\\xd0\\xb8\\xd1\\x8f\\nbar:Wikipedia\\nbat-smg:Vikiped\\xc4\\x97j\\xc4\\x97\\nbe:\\xd0\\x92\\xd1\\x96\\xd0\\xba\\xd1\\x96\\xd0\\xbf\\xd0\\xb5\\xd0\\xb4\\xd1\\x8b\\xd1\\x8f\\nbe-x-old:\\xd0\\x92\\xd1\\x96\\xd0\\xba\\xd1\\x96\\xd0\\xbf\\xd1\\x8d\\xd0\\xb4\\xd1\\x8b\\xd1\\x8f\\nbg:\\xd0\\xa3\\xd0\\xb8\\xd0\\xba\\xd0\\xb8\\xd0\\xbf\\xd0\\xb5\\xd0\\xb4\\xd0\\xb8\\xd1\\x8f\\nbm:Wikipedia\\nbn:\\xe0\\xa6\\x89\\xe0\\xa6\\x87\\xe0\\xa6\\x95\\xe0\\xa6\\xbf\\xe0\\xa6\\xaa\\xe0\\xa6\\xbf\\xe0\\xa6\\xa1\\xe0\\xa6\\xbf\\xe0\\xa6\\xaf\\xe0\\xa6\\xbc\\xe0\\xa6\\xbe\\nbpy:\\xe0\\xa6\\x89\\xe0\\xa6\\x87\\xe0\\xa6\\x95\\xe0\\xa6\\xbf\\xe0\\xa6\\xaa\\xe0\\xa6\\xbf\\xe0\\xa6\\xa1\\xe0\\xa6\\xbf\\xe0\\xa6\\xaf\\xe0\\xa6\\xbc\\xe0\\xa6\\xbe\\nbr:Wikipedia\\nbs:Wikipedia\\nbug:Wikipedia\\nca:Viquip\\xc3\\xa8dia\\ncdo:Wikipedia\\nceb:Wikipedya\\nch:Wikipedia\\nchr:\\xe1\\x8f\\xab\\xe1\\x8e\\xa9\\xe1\\x8f\\x87\\xe1\\x8f\\x97\\xe1\\x8f\\xaf\\nchy:Wikipedia\\nco:Wikipedia\\ncrh:Vikipediya\\ncs:Wikipedie\\ncsb:Wikipedij\\xc3\\xb4\\ncu:\\xd0\\x92\\xd0\\xb8\\xd0\\xba\\xd0\\xb8\\xd0\\xbf\\xd1\\x94\\xcc\\x81\\xd0\\xb4\\xd1\\x97\\xea\\x99\\x97\\ncv:\\xd0\\x92\\xd0\\xb8\\xd0\\xba\\xd0\\xb8\\xd0\\xbf\\xd0\\xb5\\xd0\\xb4\\xd0\\xb8\\ncy:Wicipedia\\nda:Wikipedia\\nde:Wikipedia\\ndiq:Wikipediya\\ndsb:Wikipedija\\nel:\\xce\\x92\\xce\\xb9\\xce\\xba\\xce\\xb9\\xcf\\x80\\xce\\xb1\\xce\\xaf\\xce\\xb4\\xce\\xb5\\xce\\xb9\\xce\\xb1\\nen:Wikipedia\\neo:Vikipedio\\nes:Wikipedia\\net:Vikipeedia\\neu:Wikipedia\\next:Wikip\\xc3\\xa9dia\\nfa:\\xd9\\x88\\xdb\\x8c\\xda\\xa9\\xdb\\x8c\\xe2\\x80\\x8c\\xd9\\xbe\\xd8\\xaf\\xdb\\x8c\\xd8\\xa7\\nff:Wikipeediya\\nfi:Wikipedia\\nfiu-vro:Vikipeedi\\xc3\\xa4\\nfo:Wikipedia\\nfr:Wikip\\xc3\\xa9dia\\nfrp:Vouiquip\\xc3\\xa8dia\\nfur:Vichipedie\\nfy:Wikipedy\\nga:Vicip\\xc3\\xa9id\\ngan:\\xe7\\xb6\\xad\\xe5\\x9f\\xba\\xe7\\x99\\xbe\\xe7\\xa7\\x91\\ngd:Bhicip\\xc3\\xa8idia\\ngl:Wikipedia\\ngn:Vikipet\\xc3\\xa3\\ngu:\\xe0\\xaa\\xb5\\xe0\\xaa\\xbf\\xe0\\xaa\\x95\\xe0\\xaa\\xbf\\xe0\\xaa\\xaa\\xe0\\xab\\x80\\xe0\\xaa\\xa1\\xe0\\xaa\\xbf\\xe0\\xaa\\xaf\\xe0\\xaa\\xbe\\ngv:Wikipedia\\nhak:Wikipedia\\nhe:\\xd7\\x95\\xd7\\x99\\xd7\\xa7\\xd7\\x99\\xd7\\xa4\\xd7\\x93\\xd7\\x99\\xd7\\x94\\nhi:\\xe0\\xa4\\xb5\\xe0\\xa4\\xbf\\xe0\\xa4\\x95\\xe0\\xa4\\xbf\\xe0\\xa4\\xaa\\xe0\\xa5\\x80\\xe0\\xa4\\xa1\\xe0\\xa4\\xbf\\xe0\\xa4\\xaf\\xe0\\xa4\\xbe\\nhr:Wikipedija\\nhsb:Wikipedija\\nht:Wikipedya\\nhu:Wikip\\xc3\\xa9dia\\nhy:\\xd5\\x8e\\xd5\\xab\\xd6\\x84\\xd5\\xab\\xd6\\x83\\xd5\\xa5\\xd5\\xa4\\xd5\\xab\\xd5\\xa1\\nia:Wikipedia\\nid:Wikipedia\\nig:Wikipedia\\nik:Wikipedia\\nilo:Wikipedia\\nio:Wikipedio\\nis:Wikipedia\\nit:Wikipedia\\niu:\\xe1\\x90\\x85\\xe1\\x90\\x83\\xe1\\x91\\xad\\xe1\\x90\\xb1\\xe1\\x91\\x8e\\xe1\\x90\\x8a/uikipitia\\nja:\\xe3\\x82\\xa6\\xe3\\x82\\xa3\\xe3\\x82\\xad\\xe3\\x83\\x9a\\xe3\\x83\\x87\\xe3\\x82\\xa3\\xe3\\x82\\xa2\\njbo:uikipedias\\njv:Wikipedia\\nka:\\xe1\\x83\\x95\\xe1\\x83\\x98\\xe1\\x83\\x99\\xe1\\x83\\x98\\xe1\\x83\\x9e\\xe1\\x83\\x94\\xe1\\x83\\x93\\xe1\\x83\\x98\\xe1\\x83\\x90\\nkaa:Wikipedia\\nkab:Wikipedia\\nkk:\\xd0\\xa3\\xd0\\xb8\\xd0\\xba\\xd0\\xb8\\xd0\\xbf\\xd0\\xb5\\xd0\\xb4\\xd0\\xb8\\xd1\\x8f\\nkl:Wikipedia\\nkm:\\xe1\\x9e\\x9c\\xe1\\x9e\\xb7\\xe1\\x9e\\x82\\xe1\\x9e\\xb8\\xe1\\x9e\\x97\\xe1\\x9e\\xb8\\xe1\\x9e\\x8c\\xe1\\x9e\\xb6\\nkn:\\xe0\\xb2\\xb5\\xe0\\xb2\\xbf\\xe0\\xb2\\x95\\xe0\\xb2\\xbf\\xe0\\xb2\\xaa\\xe0\\xb3\\x80\\xe0\\xb2\\xa1\\xe0\\xb2\\xbf\\xe0\\xb2\\xaf\\nko:\\xec\\x9c\\x84\\xed\\x82\\xa4\\xeb\\xb0\\xb1\\xea\\xb3\\xbc\\nksh:Wikkipedija\\nku:Wikipedia\\nkw:Wikipedya\\nla:Wikipedia\\nlad:\\xd7\\x95\\xd7\\x99\\xd7\\xa7\\xd7\\x99\\xd7\\xa4\\xd7\\x99\\xd7\\x93\\xd7\\x99\\xd7\\x94\\nlb:Wikipedia\\nlbe:\\xd0\\x92\\xd0\\xb8\\xd0\\xba\\xd0\\xb8\\xd0\\xbf\\xd0\\xb5\\xd0\\xb4\\xd0\\xb8\\xd1\\x8f\\nli:Wikipedia\\nlij:Wikipedia\\nlmo:Wikipedia\\nln:Wikipedia\\nlo:\\xe0\\xba\\xa7\\xe0\\xba\\xb4\\xe0\\xba\\x81\\xe0\\xba\\xb4\\xe0\\xba\\x9e\\xe0\\xba\\xb5\\xe0\\xbb\\x80\\xe0\\xba\\x94\\xe0\\xba\\x8d\\nlt:Vikipedija\\nlv:Vikip\\xc4\\x93dija\\nmap-bms:Wikipedia\\nmdf:\\xd0\\x92\\xd0\\xb8\\xd0\\xba\\xd0\\xb8\\xd0\\xbf\\xd0\\xb5\\xd0\\xb4\\xd0\\xb8\\xd0\\xb5\\xd1\\x81\\xd1\\x8c\\nmg:Wikipedia\\nmi:Wikipedia\\nmk:\\xd0\\x92\\xd0\\xb8\\xd0\\xba\\xd0\\xb8\\xd0\\xbf\\xd0\\xb5\\xd0\\xb4\\xd0\\xb8\\xd1\\x98\\xd0\\xb0\\nml:\\xe0\\xb4\\xb5\\xe0\\xb4\\xbf\\xe0\\xb4\\x95\\xe0\\xb5\\x8d\\xe0\\xb4\\x95\\xe0\\xb4\\xbf\\xe0\\xb4\\xaa\\xe0\\xb5\\x80\\xe0\\xb4\\xa1\\xe0\\xb4\\xbf\\xe0\\xb4\\xaf\\nmn:\\xd0\\x92\\xd0\\xb8\\xd0\\xba\\xd0\\xb8\\xd0\\xbf\\xd0\\xb5\\xd0\\xb4\\xd0\\xb8\\xd0\\xb0\\nmr:\\xe0\\xa4\\xb5\\xe0\\xa4\\xbf\\xe0\\xa4\\x95\\xe0\\xa4\\xbf\\xe0\\xa4\\xaa\\xe0\\xa5\\x80\\xe0\\xa4\\xa1\\xe0\\xa4\\xbf\\xe0\\xa4\\xaf\\xe0\\xa4\\xbe\\nms:Wikipedia\\nmt:Wikipedija\\nmyv:\\xd0\\x92\\xd0\\xb8\\xd0\\xba\\xd0\\xb8\\xd0\\xbf\\xd0\\xb5\\xd0\\xb4\\xd0\\xb8\\xd1\\x8f\\xd1\\x81\\xd1\\x8c\\nmzn:\\xd9\\x88\\xdb\\x8c\\xda\\xa9\\xdb\\x8c\\xd9\\xbe\\xd8\\xaf\\xdb\\x8c\\xd8\\xa7\\nna:Wikipedia\\nnah:Huiquipedia\\nnap:Wikipedia\\nnds:Wikipedia\\nnds-nl:Wikipedia\\nne:\\xe0\\xa4\\xb5\\xe0\\xa4\\xbf\\xe0\\xa4\\x95\\xe0\\xa4\\xbf\\xe0\\xa4\\xaa\\xe0\\xa5\\x80\\xe0\\xa4\\xa1\\xe0\\xa4\\xbf\\xe0\\xa4\\xaf\\xe0\\xa4\\xbe\\nng:Wikipedia\\nnl:Wikipedia\\nnn:Wikipedia\\nno:Wikipedia\\nnrm:Viq\\xc3\\xb9ip\\xc3\\xa9die\\nnv:Wikiib\\xc3\\xad\\xc3\\xaddiiya\\noc:Wikip\\xc3\\xa8dia\\nos:\\xd0\\x92\\xd0\\xb8\\xd0\\xba\\xd0\\xb8\\xd0\\xbf\\xd0\\xb5\\xd0\\xb4\\xd0\\xb8\\npa:\\xe0\\xa8\\xb5\\xe0\\xa8\\xbf\\xe0\\xa8\\x95\\xe0\\xa8\\xbf\\xe0\\xa8\\xaa\\xe0\\xa9\\x80\\xe0\\xa8\\xa1\\xe0\\xa8\\xbf\\xe0\\xa8\\x86\\npag:Wikipedia\\npap:Wikipedia\\npl:Wikipedia\\npms:Wikipedia\\nps:\\xd9\\xbe\\xd8\\xb1\\xd9\\x88\\xda\\x98\\xd9\\x87:\\xd9\\xbe\\xd9\\x87 \\xd9\\x87\\xda\\xa9\\xd9\\x84\\xd9\\x87\\npt:Wikip\\xc3\\xa9dia\\nqu:Wikipidiya\\nrm:Vichipedia\\nrmy:Vikipidiya\\nro:Wikipedia\\nroa-rup:Wikipedia\\nroa-tara:Uicchip\\xc3\\xa8die\\nru:\\xd0\\x92\\xd0\\xb8\\xd0\\xba\\xd0\\xb8\\xd0\\xbf\\xd0\\xb5\\xd0\\xb4\\xd0\\xb8\\xd1\\x8f\\nsc:Wikipedia\\nscn:Wikipedia\\nsco:Wikipaedia\\nsd:\\xd9\\x88\\xda\\xaa\\xd9\\x8a\\xd9\\xbe\\xd9\\x8a\\xda\\x8a\\xd9\\x8a\\xd8\\xa7\\nse:Wikipediija\\nsh:Wikipedia\\nsi:\\xe0\\xb7\\x80\\xe0\\xb7\\x92\\xe0\\xb6\\x9a\\xe0\\xb7\\x92\\xe0\\xb6\\xb4\\xe0\\xb7\\x93\\xe0\\xb6\\xa9\\xe0\\xb7\\x92\\xe0\\xb6\\xba\\xe0\\xb7\\x8f\\nsimple:Wikipedia\\nsk:Wikip\\xc3\\xa9dia\\nsl:Wikipedija\\nso:Wikipedia\\nsq:Wikipedia\\nsr:\\xd0\\x92\\xd0\\xb8\\xd0\\xba\\xd0\\xb8\\xd0\\xbf\\xd0\\xb5\\xd0\\xb4\\xd0\\xb8\\xd1\\x98\\xd0\\xb0\\nsu:Wikip\\xc3\\xa9dia\\nsv:Wikipedia\\nsw:Wikipedia\\nszl:Wikipedyjo\\nta:\\xe0\\xae\\xb5\\xe0\\xae\\xbf\\xe0\\xae\\x95\\xe0\\xaf\\x8d\\xe0\\xae\\x95\\xe0\\xae\\xbf\\xe0\\xae\\xaa\\xe0\\xaf\\x8d\\xe0\\xae\\xaa\\xe0\\xaf\\x80\\xe0\\xae\\x9f\\xe0\\xae\\xbf\\xe0\\xae\\xaf\\xe0\\xae\\xbe\\nte:\\xe0\\xb0\\xb5\\xe0\\xb0\\xbf\\xe0\\xb0\\x95\\xe0\\xb1\\x80\\xe0\\xb0\\xaa\\xe0\\xb1\\x80\\xe0\\xb0\\xa1\\xe0\\xb0\\xbf\\xe0\\xb0\\xaf\\xe0\\xb0\\xbe\\ntet:Wikip\\xc3\\xa9dia\\ntg:\\xd0\\x92\\xd0\\xb8\\xd0\\xba\\xd0\\xb8\\xd0\\xbf\\xd0\\xb5\\xd0\\xb4\\xd0\\xb8\\xd0\\xb0\\nth:\\xe0\\xb8\\xa7\\xe0\\xb8\\xb4\\xe0\\xb8\\x81\\xe0\\xb8\\xb4\\xe0\\xb8\\x9e\\xe0\\xb8\\xb5\\xe0\\xb9\\x80\\xe0\\xb8\\x94\\xe0\\xb8\\xb5\\xe0\\xb8\\xa2\\ntk:Wikipedi\\xc3\\xbda\\ntl:Wikipedia\\ntpi:Wikipedia\\ntr:Vikipedi\\ntt:Wikipedia\\ntum:Vikipedi\\nudm:\\xd0\\x92\\xd0\\xb8\\xd0\\xba\\xd0\\xb8\\xd0\\xbf\\xd0\\xb5\\xd0\\xb4\\xd0\\xb8\\xd1\\x8f\\nug:Wikip\\xc3\\xa9diye\\nuk:\\xd0\\x92\\xd1\\x96\\xd0\\xba\\xd1\\x96\\xd0\\xbf\\xd0\\xb5\\xd0\\xb4\\xd1\\x96\\xd1\\x8f\\nuz:Vikipediya\\nvec:Wikipedia\\nvi:Wikipedia\\nvls:Wikipedia\\nwa:Wikipedia\\nwar:Wikipedia\\nwo:Wikipedia\\nwuu:\\xe7\\xbb\\xb4\\xe5\\x9f\\xba\\xe7\\x99\\xbe\\xe7\\xa7\\x91\\nyi:\\xe2\\x80\\xab\\xd7\\xb0\\xd7\\x99\\xd7\\xa7\\xd7\\x99\\xd7\\xa4\\xd7\\xa2\\xd7\\x93\\xd7\\x99\\xd7\\xa2\\nyo:Wikipedia\\nza:\\xe7\\xbb\\xb4\\xe5\\x9f\\xba\\xe7\\x99\\xbe\\xe7\\xa7\\x91\\nzea:Wikipedia\\nzh:\\xe7\\xbb\\xb4\\xe5\\x9f\\xba\\xe7\\x99\\xbe\\xe7\\xa7\\x91\\nzh-classical:\\xe7\\xb6\\xad\\xe5\\x9f\\xba\\xe5\\xa4\\xa7\\xe5\\x85\\xb8\\nzh-min-nan:Wikipedia\\nzh-yue:\\xe7\\xb6\\xad\\xe5\\x9f\\xba\\xe7\\x99\\xbe\\xe7\\xa7\\x91', shape=(), dtype=string)\n",
            "tf.Tensor(b'Wikipedia', shape=(), dtype=string)\n"
          ],
          "name": "stdout"
        }
      ]
    },
    {
      "cell_type": "code",
      "metadata": {
        "id": "f5xHQrPk_VoB",
        "colab_type": "code",
        "colab": {
          "base_uri": "https://localhost:8080/",
          "height": 181
        },
        "outputId": "9d38f128-3802-45b2-f018-141ef8c0373c"
      },
      "source": [
        "# ds, info = tfds.load('wikipedia', split='train', with_info=True)\n",
        "# tfds.as_dataframe(ds.take(1),info)"
      ],
      "execution_count": 8,
      "outputs": [
        {
          "output_type": "error",
          "ename": "AttributeError",
          "evalue": "ignored",
          "traceback": [
            "\u001b[0;31m---------------------------------------------------------------------------\u001b[0m",
            "\u001b[0;31mAttributeError\u001b[0m                            Traceback (most recent call last)",
            "\u001b[0;32m<ipython-input-8-d98e8f847cc6>\u001b[0m in \u001b[0;36m<module>\u001b[0;34m()\u001b[0m\n\u001b[1;32m      1\u001b[0m \u001b[0mds\u001b[0m\u001b[0;34m,\u001b[0m \u001b[0minfo\u001b[0m \u001b[0;34m=\u001b[0m \u001b[0mtfds\u001b[0m\u001b[0;34m.\u001b[0m\u001b[0mload\u001b[0m\u001b[0;34m(\u001b[0m\u001b[0;34m'wikipedia'\u001b[0m\u001b[0;34m,\u001b[0m \u001b[0msplit\u001b[0m\u001b[0;34m=\u001b[0m\u001b[0;34m'train'\u001b[0m\u001b[0;34m,\u001b[0m \u001b[0mwith_info\u001b[0m\u001b[0;34m=\u001b[0m\u001b[0;32mTrue\u001b[0m\u001b[0;34m)\u001b[0m\u001b[0;34m\u001b[0m\u001b[0;34m\u001b[0m\u001b[0m\n\u001b[0;32m----> 2\u001b[0;31m \u001b[0mtfds\u001b[0m\u001b[0;34m.\u001b[0m\u001b[0mas_dataframe\u001b[0m\u001b[0;34m(\u001b[0m\u001b[0mds\u001b[0m\u001b[0;34m.\u001b[0m\u001b[0mtake\u001b[0m\u001b[0;34m(\u001b[0m\u001b[0;36m1\u001b[0m\u001b[0;34m)\u001b[0m\u001b[0;34m,\u001b[0m\u001b[0minfo\u001b[0m\u001b[0;34m)\u001b[0m\u001b[0;34m\u001b[0m\u001b[0;34m\u001b[0m\u001b[0m\n\u001b[0m",
            "\u001b[0;31mAttributeError\u001b[0m: module 'tensorflow_datasets' has no attribute 'as_dataframe'"
          ]
        }
      ]
    },
    {
      "cell_type": "code",
      "metadata": {
        "id": "usPGLGi-rXL_",
        "colab_type": "code",
        "colab": {
          "base_uri": "https://localhost:8080/",
          "height": 34
        },
        "outputId": "941ea5f1-1f19-43ba-c3b9-0324a1f05718"
      },
      "source": [
        "#  # Run this and follow the instructions:\n",
        "# from google.colab import drive\n",
        "# drive.mount(\"/content/drive\")"
      ],
      "execution_count": null,
      "outputs": [
        {
          "output_type": "stream",
          "text": [
            "Drive already mounted at /content/drive; to attempt to forcibly remount, call drive.mount(\"/content/drive\", force_remount=True).\n"
          ],
          "name": "stdout"
        }
      ]
    },
    {
      "cell_type": "code",
      "metadata": {
        "id": "gDCdIuj4tU68",
        "colab_type": "code",
        "colab": {}
      },
      "source": [
        "# Once mounted:\n",
        "# You may need to change the paths to the correct one on your drive\n",
        "# !cp /content/drive/My\\ Drive/Project3 -r /content/"
      ],
      "execution_count": null,
      "outputs": []
    },
    {
      "cell_type": "code",
      "metadata": {
        "id": "yWi7jrBptyge",
        "colab_type": "code",
        "colab": {
          "base_uri": "https://localhost:8080/",
          "height": 238
        },
        "outputId": "94d98290-8d68-4d0b-ede5-ec5901433900"
      },
      "source": [
        "# # Install Java, Spark, and Findspark\n",
        "# !apt-get update\n",
        "# !apt-get install openjdk-8-jdk-headless -qq > /dev/null\n",
        "# !wget -q http://www-us.apache.org/dist/spark/spark-2.4.6/spark-2.4.6-bin-hadoop2.7.tgz\n",
        "# !tar xf spark-2.4.6-bin-hadoop2.7.tgz\n",
        "# !pip install -q findspark\n",
        "\n",
        "# # Set Environment Variables\n",
        "# import os\n",
        "# os.environ[\"JAVA_HOME\"] = \"/usr/lib/jvm/java-8-openjdk-amd64\"\n",
        "# os.environ[\"SPARK_HOME\"] = \"/content/spark-2.4.6-bin-hadoop2.7\"\n",
        "\n",
        "# # Start a SparkSession\n",
        "# import findspark\n",
        "# findspark.init()"
      ],
      "execution_count": null,
      "outputs": [
        {
          "output_type": "stream",
          "text": [
            "\r0% [Working]\r            \rHit:1 https://cloud.r-project.org/bin/linux/ubuntu bionic-cran35/ InRelease\n",
            "\r0% [Connecting to archive.ubuntu.com] [Connecting to security.ubuntu.com (91.18\r0% [1 InRelease gpgv 3,626 B] [Connecting to archive.ubuntu.com] [Connecting to\r                                                                               \rIgn:2 https://developer.download.nvidia.com/compute/cuda/repos/ubuntu1804/x86_64  InRelease\n",
            "\r0% [1 InRelease gpgv 3,626 B] [Connecting to archive.ubuntu.com] [Waiting for h\r0% [Connecting to archive.ubuntu.com] [Waiting for headers] [Waiting for header\r                                                                               \rGet:3 http://security.ubuntu.com/ubuntu bionic-security InRelease [88.7 kB]\n",
            "\r0% [Connecting to archive.ubuntu.com (91.189.88.142)] [3 InRelease 14.2 kB/88.7\r                                                                               \rIgn:4 https://developer.download.nvidia.com/compute/machine-learning/repos/ubuntu1804/x86_64  InRelease\n",
            "\r0% [Connecting to archive.ubuntu.com (91.189.88.142)] [3 InRelease 14.2 kB/88.7\r                                                                               \rHit:5 https://developer.download.nvidia.com/compute/cuda/repos/ubuntu1804/x86_64  Release\n",
            "\r0% [Connecting to archive.ubuntu.com (91.189.88.142)] [3 InRelease 14.2 kB/88.7\r0% [Release.gpg gpgv 697 B] [Connecting to archive.ubuntu.com (91.189.88.142)] \r                                                                               \rHit:6 https://developer.download.nvidia.com/compute/machine-learning/repos/ubuntu1804/x86_64  Release\n",
            "Hit:7 http://ppa.launchpad.net/graphics-drivers/ppa/ubuntu bionic InRelease\n",
            "Hit:9 http://archive.ubuntu.com/ubuntu bionic InRelease\n",
            "Hit:11 http://ppa.launchpad.net/marutter/c2d4u3.5/ubuntu bionic InRelease\n",
            "Get:12 http://archive.ubuntu.com/ubuntu bionic-updates InRelease [88.7 kB]\n",
            "Get:13 http://archive.ubuntu.com/ubuntu bionic-backports InRelease [74.6 kB]\n",
            "Fetched 252 kB in 2s (121 kB/s)\n",
            "Reading package lists... Done\n"
          ],
          "name": "stdout"
        }
      ]
    },
    {
      "cell_type": "code",
      "metadata": {
        "id": "WtsSR1zJt6hg",
        "colab_type": "code",
        "colab": {}
      },
      "source": [
        "# # Start a SparkSession\n",
        "# from pyspark.sql import SparkSession\n",
        "# spark = SparkSession.builder.appName(\"word2vec\").getOrCreate()"
      ],
      "execution_count": null,
      "outputs": []
    },
    {
      "cell_type": "code",
      "metadata": {
        "id": "CLd5bTlGuB-F",
        "colab_type": "code",
        "colab": {}
      },
      "source": [
        "# # Note this is an RDD approach, not dataframe. API is slightly different for dataframe\n",
        "# from pyspark.mllib.feature import Word2Vec\n",
        "# inp = spark.sparkContext.textFile(\"Project3/yelp-100k.txt\").map(lambda row: row.split(\" \"))\n",
        "# word2vec = Word2Vec()"
      ],
      "execution_count": null,
      "outputs": []
    },
    {
      "cell_type": "code",
      "metadata": {
        "id": "O6MZnPxDukfk",
        "colab_type": "code",
        "colab": {}
      },
      "source": [
        "# # Train the model\n",
        "# model = word2vec.fit(inp)"
      ],
      "execution_count": null,
      "outputs": []
    },
    {
      "cell_type": "code",
      "metadata": {
        "id": "qPAvkMPoxVhe",
        "colab_type": "code",
        "colab": {
          "base_uri": "https://localhost:8080/",
          "height": 102
        },
        "outputId": "cfc35f06-68a2-4572-c185-f1dfa4167975"
      },
      "source": [
        "# synonyms = model.findSynonyms('restaurant', 5)\n",
        "\n",
        "# for word, cosine_distance in synonyms:\n",
        "#     print(\"{}: {}\".format(word, cosine_distance))"
      ],
      "execution_count": null,
      "outputs": [
        {
          "output_type": "stream",
          "text": [
            "location: 0.7936934232711792\n",
            "store: 0.7661047577857971\n",
            "gym: 0.7582272291183472\n",
            "hotel: 0.7312384843826294\n",
            "establishment: 0.7134353518486023\n"
          ],
          "name": "stdout"
        }
      ]
    },
    {
      "cell_type": "code",
      "metadata": {
        "id": "oQWUgRndyIb7",
        "colab_type": "code",
        "colab": {}
      },
      "source": [
        "# def cosine_similarity(x, y):\n",
        "#     return x.dot(y)/(x.norm(2)*y.norm(2))"
      ],
      "execution_count": null,
      "outputs": []
    },
    {
      "cell_type": "code",
      "metadata": {
        "id": "y0DkAS74yNS2",
        "colab_type": "code",
        "colab": {
          "base_uri": "https://localhost:8080/",
          "height": 34
        },
        "outputId": "126444d2-7176-4a41-ddba-db2de156f104"
      },
      "source": [
        "# x = model.transform('location')\n",
        "# y = model.transform('restaurant')\n",
        "# cosine_similarity(x, y)"
      ],
      "execution_count": null,
      "outputs": [
        {
          "output_type": "execute_result",
          "data": {
            "text/plain": [
              "0.7936935055394885"
            ]
          },
          "metadata": {
            "tags": []
          },
          "execution_count": 34
        }
      ]
    },
    {
      "cell_type": "code",
      "metadata": {
        "id": "usPgcEiiyipc",
        "colab_type": "code",
        "colab": {
          "base_uri": "https://localhost:8080/",
          "height": 51
        },
        "outputId": "8321848a-5147-4164-d989-f8e0370bbe6c"
      },
      "source": [
        "# synonyms = model.findSynonyms('diner', 2)\n",
        "\n",
        "# for word, cosine_distance in synonyms:\n",
        "#     print(\"{}: {}\".format(word, cosine_distance))"
      ],
      "execution_count": null,
      "outputs": [
        {
          "output_type": "stream",
          "text": [
            "shitty: 0.7646585702896118\n",
            "slice,: 0.7196394205093384\n"
          ],
          "name": "stdout"
        }
      ]
    },
    {
      "cell_type": "code",
      "metadata": {
        "id": "LmMihK4ayn5j",
        "colab_type": "code",
        "colab": {
          "base_uri": "https://localhost:8080/",
          "height": 34
        },
        "outputId": "442ef35c-1a23-44d8-ab4f-87c40731c0a5"
      },
      "source": [
        "# def cosine_similarity(x, y):\n",
        "#     return x.dot(y)/(x.norm(2)*y.norm(2))\n",
        "\n",
        "# x = model.transform('diner')\n",
        "# y = model.transform('slice,')\n",
        "# cosine_similarity(x, y)"
      ],
      "execution_count": null,
      "outputs": [
        {
          "output_type": "execute_result",
          "data": {
            "text/plain": [
              "0.719639502741139"
            ]
          },
          "metadata": {
            "tags": []
          },
          "execution_count": 38
        }
      ]
    }
  ]
}